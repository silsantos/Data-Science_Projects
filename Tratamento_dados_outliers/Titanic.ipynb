{
 "cells": [
  {
   "cell_type": "markdown",
   "id": "577b3e1d-3874-4600-a419-2cb54256b9d9",
   "metadata": {},
   "source": [
    "###  Tratamento de dados utilizando o dataset [\"Titanic: Machine Learning from Disaster\"](https://web.stanford.edu/class/archive/cs/cs109/cs109.1166/problem12.html)"
   ]
  },
  {
   "cell_type": "markdown",
   "id": "eb3d1dd5-1e7c-4425-9e38-00b91c716ba1",
   "metadata": {},
   "source": [
    "#### Informações sobre as colunas do dataset:\n",
    "\n",
    "* Survived (sobreviveu): Um campo \"flag\" que indica se o passageiro sobreviveu (valor 1) ou não (valor 0).\n",
    "* Pclass (classe no navio): O passageiro poderia estar na primeira classe ou em outra.\n",
    "* Name (nome): Nome dos passageiros.\n",
    "* Sex (gênero): Gênero do passageiro.\n",
    "* Age (idade): Idade do passageiro.\n",
    "* Siblings/Spouses Aboard (Irmãos/cônjuges a bordo): Parentes a bordo.\n",
    "* Parents/Children Aboard (Pais/filhos a bordo): Parentes a bordo.\n",
    "* Fare (tarifa): Preço pago na passagem."
   ]
  },
  {
   "cell_type": "markdown",
   "id": "6a316c80-c775-4b17-8c6c-8b21eda25f0d",
   "metadata": {},
   "source": [
    "***"
   ]
  },
  {
   "cell_type": "markdown",
   "id": "3685d485-0e39-44f2-875a-976ee15e6df8",
   "metadata": {},
   "source": [
    "#### Tarefas:\n",
    "\n",
    "* Extrair informações sobre o dataset:\n",
    "\n",
    "    - N° de registros e variáveis;\n",
    "\n",
    "    - Informações sobre os tipos de variáveis e alterações pertinentes;\n",
    "    \n",
    "####\n",
    "\n",
    "* Ajustes/formatação dos dados:\n",
    "\n",
    "    - Remoção de registros repetidos/duplicados;\n",
    "\n",
    "    - Unificar as colunas 'Siblings/Spouses Aboard' e 'Parents/Children Aboard';\n",
    "\n",
    "    - Criar categorias para a idade do passageiro:\n",
    "\n",
    "    > Passageiros com idades entre 0 e 12 anos: Criança\n",
    "    \n",
    "    > Passageiros com idades entre 12 e 18: Adolescente\n",
    "    \n",
    "    > Passageiros com idades entre 18 e 65: Adulto\n",
    "    \n",
    "    > Passageiros com idade maior que 65: Idoso\n",
    "    \n",
    "    \n",
    "    - Exibir frequências (absoluta e percentual) por categoria;\n",
    "    \n",
    "    - Exclusão de colunas desnecessárias.\n",
    " \n",
    "####   \n",
    "* Perguntas a serem respondidas:\n",
    "\n",
    "    - Quantas classes distintas (PClass) existem?\n",
    "    - Qual a quantidade de sobreviventes e não sobreviventes?\n",
    "    - Quantos idosos estavam a bordo e quantos sobreviveram?\n",
    "    - Das pessoas que sobreviveram, qual a taxa de sobrevivência entre homens e mulheres?\n",
    "    - Qual foi o valor médio da passagem entre os que sobreviveram e os que não sobreviveram?"
   ]
  },
  {
   "cell_type": "markdown",
   "id": "82fe5208-a6cc-4468-bfeb-dfbe866b06c7",
   "metadata": {},
   "source": [
    "***"
   ]
  },
  {
   "cell_type": "code",
   "execution_count": 102,
   "id": "981ceb1c-e9ad-457b-845b-f7b55c8c7c5c",
   "metadata": {},
   "outputs": [],
   "source": [
    "# Importação de bibliotecas:\n",
    "\n",
    "import pandas as pd"
   ]
  },
  {
   "cell_type": "code",
   "execution_count": 103,
   "id": "84735ab4-d35f-4970-8461-2ec82f4fe7cc",
   "metadata": {},
   "outputs": [
    {
     "data": {
      "text/html": [
       "<div>\n",
       "<style scoped>\n",
       "    .dataframe tbody tr th:only-of-type {\n",
       "        vertical-align: middle;\n",
       "    }\n",
       "\n",
       "    .dataframe tbody tr th {\n",
       "        vertical-align: top;\n",
       "    }\n",
       "\n",
       "    .dataframe thead th {\n",
       "        text-align: right;\n",
       "    }\n",
       "</style>\n",
       "<table border=\"1\" class=\"dataframe\">\n",
       "  <thead>\n",
       "    <tr style=\"text-align: right;\">\n",
       "      <th></th>\n",
       "      <th>Survived</th>\n",
       "      <th>Pclass</th>\n",
       "      <th>Name</th>\n",
       "      <th>Sex</th>\n",
       "      <th>Age</th>\n",
       "      <th>Siblings/Spouses Aboard</th>\n",
       "      <th>Parents/Children Aboard</th>\n",
       "      <th>Fare</th>\n",
       "    </tr>\n",
       "  </thead>\n",
       "  <tbody>\n",
       "    <tr>\n",
       "      <th>0</th>\n",
       "      <td>0</td>\n",
       "      <td>3</td>\n",
       "      <td>Mr. Owen Harris Braund</td>\n",
       "      <td>male</td>\n",
       "      <td>22.0</td>\n",
       "      <td>1</td>\n",
       "      <td>0</td>\n",
       "      <td>7.2500</td>\n",
       "    </tr>\n",
       "    <tr>\n",
       "      <th>1</th>\n",
       "      <td>1</td>\n",
       "      <td>1</td>\n",
       "      <td>Mrs. John Bradley (Florence Briggs Thayer) Cum...</td>\n",
       "      <td>female</td>\n",
       "      <td>38.0</td>\n",
       "      <td>1</td>\n",
       "      <td>0</td>\n",
       "      <td>71.2833</td>\n",
       "    </tr>\n",
       "    <tr>\n",
       "      <th>2</th>\n",
       "      <td>1</td>\n",
       "      <td>3</td>\n",
       "      <td>Miss. Laina Heikkinen</td>\n",
       "      <td>female</td>\n",
       "      <td>26.0</td>\n",
       "      <td>0</td>\n",
       "      <td>0</td>\n",
       "      <td>7.9250</td>\n",
       "    </tr>\n",
       "    <tr>\n",
       "      <th>3</th>\n",
       "      <td>1</td>\n",
       "      <td>1</td>\n",
       "      <td>Mrs. Jacques Heath (Lily May Peel) Futrelle</td>\n",
       "      <td>female</td>\n",
       "      <td>35.0</td>\n",
       "      <td>1</td>\n",
       "      <td>0</td>\n",
       "      <td>53.1000</td>\n",
       "    </tr>\n",
       "    <tr>\n",
       "      <th>4</th>\n",
       "      <td>0</td>\n",
       "      <td>3</td>\n",
       "      <td>Mr. William Henry Allen</td>\n",
       "      <td>male</td>\n",
       "      <td>35.0</td>\n",
       "      <td>0</td>\n",
       "      <td>0</td>\n",
       "      <td>8.0500</td>\n",
       "    </tr>\n",
       "  </tbody>\n",
       "</table>\n",
       "</div>"
      ],
      "text/plain": [
       "   Survived  Pclass                                               Name  \\\n",
       "0         0       3                             Mr. Owen Harris Braund   \n",
       "1         1       1  Mrs. John Bradley (Florence Briggs Thayer) Cum...   \n",
       "2         1       3                              Miss. Laina Heikkinen   \n",
       "3         1       1        Mrs. Jacques Heath (Lily May Peel) Futrelle   \n",
       "4         0       3                            Mr. William Henry Allen   \n",
       "\n",
       "      Sex   Age  Siblings/Spouses Aboard  Parents/Children Aboard     Fare  \n",
       "0    male  22.0                        1                        0   7.2500  \n",
       "1  female  38.0                        1                        0  71.2833  \n",
       "2  female  26.0                        0                        0   7.9250  \n",
       "3  female  35.0                        1                        0  53.1000  \n",
       "4    male  35.0                        0                        0   8.0500  "
      ]
     },
     "execution_count": 103,
     "metadata": {},
     "output_type": "execute_result"
    }
   ],
   "source": [
    "# Importação dos dados:\n",
    "\n",
    "titanic = pd.read_csv('data/titanic.csv')\n",
    "titanic.head()"
   ]
  },
  {
   "cell_type": "code",
   "execution_count": 104,
   "id": "8fefdf62-15d2-424b-9692-68418ccf62f4",
   "metadata": {},
   "outputs": [
    {
     "name": "stdout",
     "output_type": "stream",
     "text": [
      "O dataset possui 887 registros e 8 variáveis\n"
     ]
    }
   ],
   "source": [
    "# Mais informações sobre os dados: Quantidade de registros e variáveis\n",
    "\n",
    "print(f'O dataset possui {titanic.shape[0]} registros e {titanic.shape[1]} variáveis')"
   ]
  },
  {
   "cell_type": "code",
   "execution_count": 105,
   "id": "21e4c905-792e-4e56-8e5a-f1d05366a778",
   "metadata": {},
   "outputs": [
    {
     "name": "stdout",
     "output_type": "stream",
     "text": [
      "<class 'pandas.core.frame.DataFrame'>\n",
      "RangeIndex: 887 entries, 0 to 886\n",
      "Data columns (total 8 columns):\n",
      " #   Column                   Non-Null Count  Dtype  \n",
      "---  ------                   --------------  -----  \n",
      " 0   Survived                 887 non-null    int64  \n",
      " 1   Pclass                   887 non-null    int64  \n",
      " 2   Name                     887 non-null    object \n",
      " 3   Sex                      887 non-null    object \n",
      " 4   Age                      887 non-null    float64\n",
      " 5   Siblings/Spouses Aboard  887 non-null    int64  \n",
      " 6   Parents/Children Aboard  887 non-null    int64  \n",
      " 7   Fare                     887 non-null    float64\n",
      "dtypes: float64(2), int64(4), object(2)\n",
      "memory usage: 55.6+ KB\n"
     ]
    }
   ],
   "source": [
    "# Descrição dos tipos de dados presentes:\n",
    "\n",
    "titanic.info()"
   ]
  },
  {
   "cell_type": "code",
   "execution_count": 106,
   "id": "10d69598-5180-43d2-8468-cbeea4930574",
   "metadata": {},
   "outputs": [],
   "source": [
    "# Removendo possíveis registros duplicados:\n",
    "\n",
    "titanic.drop_duplicates(keep = 'last', inplace = True)"
   ]
  },
  {
   "cell_type": "code",
   "execution_count": 107,
   "id": "e28d347c-cd9e-436d-a161-f9e6b890d432",
   "metadata": {},
   "outputs": [],
   "source": [
    "# Alterações de tipo/formatação dos dados:\n",
    "\n",
    "# Alterando as informações de idade do tipo float para o tipo int:\n",
    "\n",
    "titanic['Age'] = titanic['Age'].astype(int)\n",
    "\n",
    "# Passando as informações sobre o gênero para letras maiúsculas:\n",
    "\n",
    "titanic['Sex'] = titanic['Sex'].str.upper()"
   ]
  },
  {
   "cell_type": "code",
   "execution_count": 108,
   "id": "68e3c0b0-183e-44d1-804f-05a23a8a9acb",
   "metadata": {},
   "outputs": [
    {
     "data": {
      "text/html": [
       "<div>\n",
       "<style scoped>\n",
       "    .dataframe tbody tr th:only-of-type {\n",
       "        vertical-align: middle;\n",
       "    }\n",
       "\n",
       "    .dataframe tbody tr th {\n",
       "        vertical-align: top;\n",
       "    }\n",
       "\n",
       "    .dataframe thead th {\n",
       "        text-align: right;\n",
       "    }\n",
       "</style>\n",
       "<table border=\"1\" class=\"dataframe\">\n",
       "  <thead>\n",
       "    <tr style=\"text-align: right;\">\n",
       "      <th></th>\n",
       "      <th>Survived</th>\n",
       "      <th>Pclass</th>\n",
       "      <th>Name</th>\n",
       "      <th>Sex</th>\n",
       "      <th>Age</th>\n",
       "      <th>Siblings/Spouses Aboard</th>\n",
       "      <th>Parents/Children Aboard</th>\n",
       "      <th>Fare</th>\n",
       "      <th>Relatives_aboard</th>\n",
       "    </tr>\n",
       "  </thead>\n",
       "  <tbody>\n",
       "    <tr>\n",
       "      <th>0</th>\n",
       "      <td>0</td>\n",
       "      <td>3</td>\n",
       "      <td>Mr. Owen Harris Braund</td>\n",
       "      <td>MALE</td>\n",
       "      <td>22</td>\n",
       "      <td>1</td>\n",
       "      <td>0</td>\n",
       "      <td>7.2500</td>\n",
       "      <td>1</td>\n",
       "    </tr>\n",
       "    <tr>\n",
       "      <th>1</th>\n",
       "      <td>1</td>\n",
       "      <td>1</td>\n",
       "      <td>Mrs. John Bradley (Florence Briggs Thayer) Cum...</td>\n",
       "      <td>FEMALE</td>\n",
       "      <td>38</td>\n",
       "      <td>1</td>\n",
       "      <td>0</td>\n",
       "      <td>71.2833</td>\n",
       "      <td>1</td>\n",
       "    </tr>\n",
       "    <tr>\n",
       "      <th>2</th>\n",
       "      <td>1</td>\n",
       "      <td>3</td>\n",
       "      <td>Miss. Laina Heikkinen</td>\n",
       "      <td>FEMALE</td>\n",
       "      <td>26</td>\n",
       "      <td>0</td>\n",
       "      <td>0</td>\n",
       "      <td>7.9250</td>\n",
       "      <td>0</td>\n",
       "    </tr>\n",
       "    <tr>\n",
       "      <th>3</th>\n",
       "      <td>1</td>\n",
       "      <td>1</td>\n",
       "      <td>Mrs. Jacques Heath (Lily May Peel) Futrelle</td>\n",
       "      <td>FEMALE</td>\n",
       "      <td>35</td>\n",
       "      <td>1</td>\n",
       "      <td>0</td>\n",
       "      <td>53.1000</td>\n",
       "      <td>1</td>\n",
       "    </tr>\n",
       "    <tr>\n",
       "      <th>4</th>\n",
       "      <td>0</td>\n",
       "      <td>3</td>\n",
       "      <td>Mr. William Henry Allen</td>\n",
       "      <td>MALE</td>\n",
       "      <td>35</td>\n",
       "      <td>0</td>\n",
       "      <td>0</td>\n",
       "      <td>8.0500</td>\n",
       "      <td>0</td>\n",
       "    </tr>\n",
       "  </tbody>\n",
       "</table>\n",
       "</div>"
      ],
      "text/plain": [
       "   Survived  Pclass                                               Name  \\\n",
       "0         0       3                             Mr. Owen Harris Braund   \n",
       "1         1       1  Mrs. John Bradley (Florence Briggs Thayer) Cum...   \n",
       "2         1       3                              Miss. Laina Heikkinen   \n",
       "3         1       1        Mrs. Jacques Heath (Lily May Peel) Futrelle   \n",
       "4         0       3                            Mr. William Henry Allen   \n",
       "\n",
       "      Sex  Age  Siblings/Spouses Aboard  Parents/Children Aboard     Fare  \\\n",
       "0    MALE   22                        1                        0   7.2500   \n",
       "1  FEMALE   38                        1                        0  71.2833   \n",
       "2  FEMALE   26                        0                        0   7.9250   \n",
       "3  FEMALE   35                        1                        0  53.1000   \n",
       "4    MALE   35                        0                        0   8.0500   \n",
       "\n",
       "   Relatives_aboard  \n",
       "0                 1  \n",
       "1                 1  \n",
       "2                 0  \n",
       "3                 1  \n",
       "4                 0  "
      ]
     },
     "execution_count": 108,
     "metadata": {},
     "output_type": "execute_result"
    }
   ],
   "source": [
    "# Unificando as colunas 'Siblings/Spouses Aboard' e 'Parents/Children Aboard' em uma nova coluna:\n",
    "\n",
    "titanic['Relatives_aboard'] = titanic['Siblings/Spouses Aboard'] + titanic['Parents/Children Aboard']\n",
    "titanic.head()"
   ]
  },
  {
   "cell_type": "code",
   "execution_count": 109,
   "id": "a3d6568d-555d-44e3-839a-29ca8ed20e3f",
   "metadata": {},
   "outputs": [
    {
     "name": "stdout",
     "output_type": "stream",
     "text": [
      "O passageiro mais novo possuía 0 anos e o mais velho, 80 anos\n"
     ]
    }
   ],
   "source": [
    "# Extraindo o valor da idade mínima e da idade máxima dos passageiros a fim de categorizar as idades:\n",
    "\n",
    "print(f'O passageiro mais novo possuía {titanic[\"Age\"].min()} anos e o mais velho, {titanic[\"Age\"].max()} anos')"
   ]
  },
  {
   "cell_type": "code",
   "execution_count": 110,
   "id": "22407147-aa88-4461-8f33-b8397e873399",
   "metadata": {},
   "outputs": [
    {
     "data": {
      "text/html": [
       "<div>\n",
       "<style scoped>\n",
       "    .dataframe tbody tr th:only-of-type {\n",
       "        vertical-align: middle;\n",
       "    }\n",
       "\n",
       "    .dataframe tbody tr th {\n",
       "        vertical-align: top;\n",
       "    }\n",
       "\n",
       "    .dataframe thead th {\n",
       "        text-align: right;\n",
       "    }\n",
       "</style>\n",
       "<table border=\"1\" class=\"dataframe\">\n",
       "  <thead>\n",
       "    <tr style=\"text-align: right;\">\n",
       "      <th></th>\n",
       "      <th>Survived</th>\n",
       "      <th>Pclass</th>\n",
       "      <th>Name</th>\n",
       "      <th>Sex</th>\n",
       "      <th>Age</th>\n",
       "      <th>Siblings/Spouses Aboard</th>\n",
       "      <th>Parents/Children Aboard</th>\n",
       "      <th>Fare</th>\n",
       "      <th>Relatives_aboard</th>\n",
       "      <th>Faixa_etária</th>\n",
       "    </tr>\n",
       "  </thead>\n",
       "  <tbody>\n",
       "    <tr>\n",
       "      <th>0</th>\n",
       "      <td>0</td>\n",
       "      <td>3</td>\n",
       "      <td>Mr. Owen Harris Braund</td>\n",
       "      <td>MALE</td>\n",
       "      <td>22</td>\n",
       "      <td>1</td>\n",
       "      <td>0</td>\n",
       "      <td>7.2500</td>\n",
       "      <td>1</td>\n",
       "      <td>Adulto</td>\n",
       "    </tr>\n",
       "    <tr>\n",
       "      <th>1</th>\n",
       "      <td>1</td>\n",
       "      <td>1</td>\n",
       "      <td>Mrs. John Bradley (Florence Briggs Thayer) Cum...</td>\n",
       "      <td>FEMALE</td>\n",
       "      <td>38</td>\n",
       "      <td>1</td>\n",
       "      <td>0</td>\n",
       "      <td>71.2833</td>\n",
       "      <td>1</td>\n",
       "      <td>Adulto</td>\n",
       "    </tr>\n",
       "    <tr>\n",
       "      <th>2</th>\n",
       "      <td>1</td>\n",
       "      <td>3</td>\n",
       "      <td>Miss. Laina Heikkinen</td>\n",
       "      <td>FEMALE</td>\n",
       "      <td>26</td>\n",
       "      <td>0</td>\n",
       "      <td>0</td>\n",
       "      <td>7.9250</td>\n",
       "      <td>0</td>\n",
       "      <td>Adulto</td>\n",
       "    </tr>\n",
       "    <tr>\n",
       "      <th>3</th>\n",
       "      <td>1</td>\n",
       "      <td>1</td>\n",
       "      <td>Mrs. Jacques Heath (Lily May Peel) Futrelle</td>\n",
       "      <td>FEMALE</td>\n",
       "      <td>35</td>\n",
       "      <td>1</td>\n",
       "      <td>0</td>\n",
       "      <td>53.1000</td>\n",
       "      <td>1</td>\n",
       "      <td>Adulto</td>\n",
       "    </tr>\n",
       "    <tr>\n",
       "      <th>4</th>\n",
       "      <td>0</td>\n",
       "      <td>3</td>\n",
       "      <td>Mr. William Henry Allen</td>\n",
       "      <td>MALE</td>\n",
       "      <td>35</td>\n",
       "      <td>0</td>\n",
       "      <td>0</td>\n",
       "      <td>8.0500</td>\n",
       "      <td>0</td>\n",
       "      <td>Adulto</td>\n",
       "    </tr>\n",
       "  </tbody>\n",
       "</table>\n",
       "</div>"
      ],
      "text/plain": [
       "   Survived  Pclass                                               Name  \\\n",
       "0         0       3                             Mr. Owen Harris Braund   \n",
       "1         1       1  Mrs. John Bradley (Florence Briggs Thayer) Cum...   \n",
       "2         1       3                              Miss. Laina Heikkinen   \n",
       "3         1       1        Mrs. Jacques Heath (Lily May Peel) Futrelle   \n",
       "4         0       3                            Mr. William Henry Allen   \n",
       "\n",
       "      Sex  Age  Siblings/Spouses Aboard  Parents/Children Aboard     Fare  \\\n",
       "0    MALE   22                        1                        0   7.2500   \n",
       "1  FEMALE   38                        1                        0  71.2833   \n",
       "2  FEMALE   26                        0                        0   7.9250   \n",
       "3  FEMALE   35                        1                        0  53.1000   \n",
       "4    MALE   35                        0                        0   8.0500   \n",
       "\n",
       "   Relatives_aboard Faixa_etária  \n",
       "0                 1       Adulto  \n",
       "1                 1       Adulto  \n",
       "2                 0       Adulto  \n",
       "3                 1       Adulto  \n",
       "4                 0       Adulto  "
      ]
     },
     "execution_count": 110,
     "metadata": {},
     "output_type": "execute_result"
    }
   ],
   "source": [
    "# Categorizando a variável 'Age':\n",
    "\n",
    "faixas = [0,12,18,65,80]\n",
    "labels = ['Criança', 'Adolescente', 'Adulto', 'Idoso']\n",
    "\n",
    "titanic['Faixa_etária'] = pd.cut(x = titanic['Age'], bins = faixas, labels = labels, include_lowest = True )\n",
    "\n",
    "titanic.head()"
   ]
  },
  {
   "cell_type": "code",
   "execution_count": 111,
   "id": "c8b762f4-7422-4d7c-a723-149cfd888325",
   "metadata": {},
   "outputs": [
    {
     "data": {
      "text/html": [
       "<div>\n",
       "<style scoped>\n",
       "    .dataframe tbody tr th:only-of-type {\n",
       "        vertical-align: middle;\n",
       "    }\n",
       "\n",
       "    .dataframe tbody tr th {\n",
       "        vertical-align: top;\n",
       "    }\n",
       "\n",
       "    .dataframe thead th {\n",
       "        text-align: right;\n",
       "    }\n",
       "</style>\n",
       "<table border=\"1\" class=\"dataframe\">\n",
       "  <thead>\n",
       "    <tr style=\"text-align: right;\">\n",
       "      <th></th>\n",
       "      <th>counts</th>\n",
       "      <th>freqs</th>\n",
       "    </tr>\n",
       "    <tr>\n",
       "      <th>categories</th>\n",
       "      <th></th>\n",
       "      <th></th>\n",
       "    </tr>\n",
       "  </thead>\n",
       "  <tbody>\n",
       "    <tr>\n",
       "      <th>Criança</th>\n",
       "      <td>79</td>\n",
       "      <td>0.089064</td>\n",
       "    </tr>\n",
       "    <tr>\n",
       "      <th>Adolescente</th>\n",
       "      <td>87</td>\n",
       "      <td>0.098083</td>\n",
       "    </tr>\n",
       "    <tr>\n",
       "      <th>Adulto</th>\n",
       "      <td>711</td>\n",
       "      <td>0.801578</td>\n",
       "    </tr>\n",
       "    <tr>\n",
       "      <th>Idoso</th>\n",
       "      <td>10</td>\n",
       "      <td>0.011274</td>\n",
       "    </tr>\n",
       "  </tbody>\n",
       "</table>\n",
       "</div>"
      ],
      "text/plain": [
       "             counts     freqs\n",
       "categories                   \n",
       "Criança          79  0.089064\n",
       "Adolescente      87  0.098083\n",
       "Adulto          711  0.801578\n",
       "Idoso            10  0.011274"
      ]
     },
     "execution_count": 111,
     "metadata": {},
     "output_type": "execute_result"
    }
   ],
   "source": [
    "# Exibindo frequências por categoria:\n",
    "\n",
    "pd.Categorical(titanic['Faixa_etária']).describe()"
   ]
  },
  {
   "cell_type": "code",
   "execution_count": 112,
   "id": "c9517802-4384-42de-975d-1b7d8990b341",
   "metadata": {},
   "outputs": [
    {
     "data": {
      "text/html": [
       "<div>\n",
       "<style scoped>\n",
       "    .dataframe tbody tr th:only-of-type {\n",
       "        vertical-align: middle;\n",
       "    }\n",
       "\n",
       "    .dataframe tbody tr th {\n",
       "        vertical-align: top;\n",
       "    }\n",
       "\n",
       "    .dataframe thead th {\n",
       "        text-align: right;\n",
       "    }\n",
       "</style>\n",
       "<table border=\"1\" class=\"dataframe\">\n",
       "  <thead>\n",
       "    <tr style=\"text-align: right;\">\n",
       "      <th></th>\n",
       "      <th>Survived</th>\n",
       "      <th>Pclass</th>\n",
       "      <th>Name</th>\n",
       "      <th>Sex</th>\n",
       "      <th>Age</th>\n",
       "      <th>Fare</th>\n",
       "      <th>Relatives_aboard</th>\n",
       "      <th>Faixa_etária</th>\n",
       "    </tr>\n",
       "  </thead>\n",
       "  <tbody>\n",
       "    <tr>\n",
       "      <th>0</th>\n",
       "      <td>0</td>\n",
       "      <td>3</td>\n",
       "      <td>Mr. Owen Harris Braund</td>\n",
       "      <td>MALE</td>\n",
       "      <td>22</td>\n",
       "      <td>7.2500</td>\n",
       "      <td>1</td>\n",
       "      <td>Adulto</td>\n",
       "    </tr>\n",
       "    <tr>\n",
       "      <th>1</th>\n",
       "      <td>1</td>\n",
       "      <td>1</td>\n",
       "      <td>Mrs. John Bradley (Florence Briggs Thayer) Cum...</td>\n",
       "      <td>FEMALE</td>\n",
       "      <td>38</td>\n",
       "      <td>71.2833</td>\n",
       "      <td>1</td>\n",
       "      <td>Adulto</td>\n",
       "    </tr>\n",
       "    <tr>\n",
       "      <th>2</th>\n",
       "      <td>1</td>\n",
       "      <td>3</td>\n",
       "      <td>Miss. Laina Heikkinen</td>\n",
       "      <td>FEMALE</td>\n",
       "      <td>26</td>\n",
       "      <td>7.9250</td>\n",
       "      <td>0</td>\n",
       "      <td>Adulto</td>\n",
       "    </tr>\n",
       "    <tr>\n",
       "      <th>3</th>\n",
       "      <td>1</td>\n",
       "      <td>1</td>\n",
       "      <td>Mrs. Jacques Heath (Lily May Peel) Futrelle</td>\n",
       "      <td>FEMALE</td>\n",
       "      <td>35</td>\n",
       "      <td>53.1000</td>\n",
       "      <td>1</td>\n",
       "      <td>Adulto</td>\n",
       "    </tr>\n",
       "    <tr>\n",
       "      <th>4</th>\n",
       "      <td>0</td>\n",
       "      <td>3</td>\n",
       "      <td>Mr. William Henry Allen</td>\n",
       "      <td>MALE</td>\n",
       "      <td>35</td>\n",
       "      <td>8.0500</td>\n",
       "      <td>0</td>\n",
       "      <td>Adulto</td>\n",
       "    </tr>\n",
       "  </tbody>\n",
       "</table>\n",
       "</div>"
      ],
      "text/plain": [
       "   Survived  Pclass                                               Name  \\\n",
       "0         0       3                             Mr. Owen Harris Braund   \n",
       "1         1       1  Mrs. John Bradley (Florence Briggs Thayer) Cum...   \n",
       "2         1       3                              Miss. Laina Heikkinen   \n",
       "3         1       1        Mrs. Jacques Heath (Lily May Peel) Futrelle   \n",
       "4         0       3                            Mr. William Henry Allen   \n",
       "\n",
       "      Sex  Age     Fare  Relatives_aboard Faixa_etária  \n",
       "0    MALE   22   7.2500                 1       Adulto  \n",
       "1  FEMALE   38  71.2833                 1       Adulto  \n",
       "2  FEMALE   26   7.9250                 0       Adulto  \n",
       "3  FEMALE   35  53.1000                 1       Adulto  \n",
       "4    MALE   35   8.0500                 0       Adulto  "
      ]
     },
     "execution_count": 112,
     "metadata": {},
     "output_type": "execute_result"
    }
   ],
   "source": [
    "# Excluindo colunas desnecessárias:\n",
    "\n",
    "titanic.drop(columns = ['Siblings/Spouses Aboard', 'Parents/Children Aboard'], inplace = True)\n",
    "titanic.head()"
   ]
  },
  {
   "cell_type": "code",
   "execution_count": 113,
   "id": "de470fb4-67d6-472e-afae-4e921691311c",
   "metadata": {},
   "outputs": [
    {
     "data": {
      "text/plain": [
       "array([3, 1, 2])"
      ]
     },
     "execution_count": 113,
     "metadata": {},
     "output_type": "execute_result"
    }
   ],
   "source": [
    "# Quantas classes distintas (PClass) existem?\n",
    "\n",
    "titanic['Pclass'].unique()"
   ]
  },
  {
   "cell_type": "code",
   "execution_count": 114,
   "id": "ffaf7d4d-0b33-4543-9c93-6ae0ebccc2f3",
   "metadata": {},
   "outputs": [
    {
     "name": "stdout",
     "output_type": "stream",
     "text": [
      "Dentre os passageiros listados em nosso dataset, 342 sobreviveram e 545 faleceram.\n"
     ]
    }
   ],
   "source": [
    "# Qual a quantidade de sobreviventes e não sobreviventes?\n",
    "\n",
    "filtro_sobreviventes = titanic['Survived'] == 1\n",
    "filtro_mortos = titanic['Survived'] == 0\n",
    "\n",
    "sobreviventes = titanic.loc[filtro_sobreviventes].shape[0]\n",
    "mortos = titanic.loc[filtro_mortos].shape[0]\n",
    "\n",
    "print(f'Dentre os passageiros listados em nosso dataset, {sobreviventes} sobreviveram e {mortos} faleceram.')"
   ]
  },
  {
   "cell_type": "code",
   "execution_count": 115,
   "id": "108c40db-01f5-470c-891a-cdfade0c8e9d",
   "metadata": {},
   "outputs": [
    {
     "name": "stdout",
     "output_type": "stream",
     "text": [
      "Havia 10 idosos a bordo do Titanic. Dentre eles, 1 sobreviveu/sobreviveram.\n"
     ]
    }
   ],
   "source": [
    "# Quantos idosos estavam a bordo e quantos sobreviveram?\n",
    "\n",
    "filtro_idosos = titanic['Faixa_etária'] == 'Idoso'\n",
    "\n",
    "idosos = titanic.loc[filtro_idosos].shape[0]\n",
    "idosos_sobreviventes = titanic.loc[(filtro_idosos) & (filtro_sobreviventes)].shape[0]\n",
    "\n",
    "print(f'Havia {idosos} idosos a bordo do Titanic. Dentre eles, {idosos_sobreviventes} sobreviveu/sobreviveram.')"
   ]
  },
  {
   "cell_type": "code",
   "execution_count": 116,
   "id": "1c939b4f-108e-484d-9a9a-627dd5aca722",
   "metadata": {},
   "outputs": [
    {
     "name": "stdout",
     "output_type": "stream",
     "text": [
      "Dentre os passageiros sobreviventes, 109 eram homens e 233 eram mulheres.\n"
     ]
    }
   ],
   "source": [
    "# Das pessoas que sobreviveram, qual a taxa de sobrevivência entre homens e mulheres?\n",
    "\n",
    "filtro_homem = titanic['Sex'] == 'MALE'\n",
    "\n",
    "homens_sobreviventes = titanic.loc[(filtro_sobreviventes) & (filtro_homem)].shape[0]\n",
    "mulheres_sobreviventes = titanic.loc[(filtro_sobreviventes) & (~filtro_homem)].shape[0]\n",
    "\n",
    "print(f'Dentre os passageiros sobreviventes, {homens_sobreviventes} eram homens e {mulheres_sobreviventes} eram mulheres.')"
   ]
  },
  {
   "cell_type": "code",
   "execution_count": 117,
   "id": "5d09f455-6c1c-47cb-bca7-32dbdda0db41",
   "metadata": {},
   "outputs": [
    {
     "name": "stdout",
     "output_type": "stream",
     "text": [
      "A taxa entre homens sobreviventes foi de 31.871345029239766% e a de mulheres foi de 68.12865497076024%.\n"
     ]
    }
   ],
   "source": [
    "# Qual a taxa de sobrevivência entre homens e mulheres?\n",
    "\n",
    "taxa_homens = (homens_sobreviventes *100) / sobreviventes\n",
    "taxa_mulheres = (mulheres_sobreviventes * 100) / sobreviventes\n",
    "\n",
    "print(f'A taxa entre homens sobreviventes foi de {taxa_homens}% e a de mulheres foi de {taxa_mulheres}%.')"
   ]
  },
  {
   "cell_type": "code",
   "execution_count": 118,
   "id": "d2dae441-9787-4578-8393-1a4f9d7ab26a",
   "metadata": {},
   "outputs": [
    {
     "name": "stdout",
     "output_type": "stream",
     "text": [
      "O valor médio das passagens dos sobreviventes foi de 48.4 libras, enquanto que o dos mortos foi de 22.21 libras.\n"
     ]
    }
   ],
   "source": [
    "# Qual foi o valor médio da passagem entre os que sobreviveram e os que não sobreviveram?\n",
    "\n",
    "valor_medio_sobreviventes = titanic.loc[filtro_sobreviventes, 'Fare'].mean().round(2)\n",
    "valor_medio_nao_sobreviventes = titanic.loc[~filtro_sobreviventes, 'Fare'].mean().round(2)\n",
    "\n",
    "print(f'O valor médio das passagens dos sobreviventes foi de {valor_medio_sobreviventes} libras, enquanto que o dos mortos foi de {valor_medio_nao_sobreviventes} libras.')"
   ]
  }
 ],
 "metadata": {
  "kernelspec": {
   "display_name": "Python 3",
   "language": "python",
   "name": "python3"
  },
  "language_info": {
   "codemirror_mode": {
    "name": "ipython",
    "version": 3
   },
   "file_extension": ".py",
   "mimetype": "text/x-python",
   "name": "python",
   "nbconvert_exporter": "python",
   "pygments_lexer": "ipython3",
   "version": "3.9.1"
  }
 },
 "nbformat": 4,
 "nbformat_minor": 5
}
