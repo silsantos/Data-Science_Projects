{
 "cells": [
  {
   "cell_type": "markdown",
   "id": "577b3e1d-3874-4600-a419-2cb54256b9d9",
   "metadata": {},
   "source": [
    "###  Tratamento de dados utilizando o dataset [\"Titanic: Machine Learning from Disaster\"](https://web.stanford.edu/class/archive/cs/cs109/cs109.1166/problem12.html)"
   ]
  },
  {
   "cell_type": "markdown",
   "id": "eb3d1dd5-1e7c-4425-9e38-00b91c716ba1",
   "metadata": {},
   "source": [
    "#### Informações sobre as colunas do dataset:\n",
    "\n",
    "* Survived (sobreviveu): Um campo \"flag\" que indica se o passageiro sobreviveu (valor 1) ou não (valor 0).\n",
    "* Pclass (classe no navio): O passageiro poderia estar na primeira classe ou em outra.\n",
    "* Name (nome): Nome dos passageiros.\n",
    "* Sex (gênero): Gênero do passageiro.\n",
    "* Age (idade): Idade do passageiro.\n",
    "* Siblings/Spouses Aboard (Irmãos/cônjuges a bordo): Parentes a bordo.\n",
    "* Parents/Children Aboard (Pais/filhos a bordo): Parentes a bordo.\n",
    "* Fare (tarifa): Preço pago na passagem."
   ]
  },
  {
   "cell_type": "code",
   "execution_count": null,
   "id": "981ceb1c-e9ad-457b-845b-f7b55c8c7c5c",
   "metadata": {},
   "outputs": [],
   "source": []
  }
 ],
 "metadata": {
  "kernelspec": {
   "display_name": "Python 3",
   "language": "python",
   "name": "python3"
  },
  "language_info": {
   "codemirror_mode": {
    "name": "ipython",
    "version": 3
   },
   "file_extension": ".py",
   "mimetype": "text/x-python",
   "name": "python",
   "nbconvert_exporter": "python",
   "pygments_lexer": "ipython3",
   "version": "3.9.1"
  }
 },
 "nbformat": 4,
 "nbformat_minor": 5
}
