{
 "cells": [
  {
   "cell_type": "markdown",
   "id": "9eb87317-752c-4b4d-9fb8-228af95c08c6",
   "metadata": {},
   "source": [
    "# Tratamento de dados e identificação de outliers do dataset \"Aluguel_csv\", utilizando apenas PANDAS e MATPLOTLIB."
   ]
  },
  {
   "cell_type": "markdown",
   "id": "9e481967-1ed6-4e30-b394-6abb5eb593c8",
   "metadata": {},
   "source": [
    "-----------------------------------------------------------------------------------------------------------------------------"
   ]
  },
  {
   "cell_type": "markdown",
   "id": "24d0e0b9-e3de-4dcd-abc6-b48bafe623b8",
   "metadata": {},
   "source": [
    "## Sobre a base de dados:\n",
    "\n",
    "### O referido dataset contém informações de imóveis localizados na cidade do Rio de Janeiro, com dados sobre:\n",
    "\n",
    "* Tipo de imóvel: Apartamento, Casa, Casa de Condominio, Indústria, Terreno, Quitinete, Casa de Vila, entre outros.\n",
    "* Bairro\n",
    "* Número de quartos\n",
    "* Vagas de Garagem\n",
    "* Suítes\n",
    "* Área útil\n",
    "* Valor do aluguel do imóvel\n",
    "* Valor do Condomínio\n",
    "* IPTU"
   ]
  },
  {
   "cell_type": "markdown",
   "id": "ed39ca89-cf55-4b59-af2f-6f1ae09bffaa",
   "metadata": {},
   "source": [
    "-----------------------------------------------------------------------------------------------------------------------------"
   ]
  },
  {
   "cell_type": "markdown",
   "id": "9feb71ef-f8d6-4c7b-966d-d5d1a3340e01",
   "metadata": {},
   "source": [
    "#### Neste Notebook, levaremos em consideração apenas imóveis residenciais dos tipos:\n",
    "\n",
    "* Quitinete\n",
    "* Casa\n",
    "* Apartamento\n",
    "* Casa de Condomínio\n",
    "* Casa de Vila\n",
    "\n",
    "#### Os demais tipos de imóvel serão desconsiderados."
   ]
  },
  {
   "cell_type": "markdown",
   "id": "182e7a98-742b-495f-a564-65270cdb5db9",
   "metadata": {},
   "source": [
    "-----------------------------------------------------------------------------------------------------------------------------"
   ]
  },
  {
   "cell_type": "markdown",
   "id": "2c50fa0d-5c27-40f5-8318-887b6384bc46",
   "metadata": {},
   "source": [
    "#### PARTE I:\n",
    "\n",
    "> Verificar todos os tipos de imóveis disponíveis no dataset;\n",
    "\n",
    "> Selecionar todos os imóveis cujo tipo satisfaça a condição \"ser imóvel residencial\";\n",
    "\n",
    "> Criar um novo dataset que contenha somente informações sobre imóveis residenciais."
   ]
  },
  {
   "cell_type": "markdown",
   "id": "2b6663a3-180b-465c-9c51-57b596685f5a",
   "metadata": {},
   "source": [
    "-----------------------------------------------------------------------------------------------------------------------------"
   ]
  },
  {
   "cell_type": "code",
   "execution_count": 63,
   "id": "ae6625b1-9700-466a-a802-b7e4840ce689",
   "metadata": {},
   "outputs": [],
   "source": [
    "# Importação de bibliotecas:\n",
    "\n",
    "import pandas as pd\n",
    "import matplotlib.pyplot as plt\n",
    "plt.rc('figure', figsize=(15,8))"
   ]
  },
  {
   "cell_type": "code",
   "execution_count": 2,
   "id": "7fdf19a5-3899-4862-bfc1-e2fb3ba213b0",
   "metadata": {},
   "outputs": [
    {
     "data": {
      "text/html": [
       "<div>\n",
       "<style scoped>\n",
       "    .dataframe tbody tr th:only-of-type {\n",
       "        vertical-align: middle;\n",
       "    }\n",
       "\n",
       "    .dataframe tbody tr th {\n",
       "        vertical-align: top;\n",
       "    }\n",
       "\n",
       "    .dataframe thead th {\n",
       "        text-align: right;\n",
       "    }\n",
       "</style>\n",
       "<table border=\"1\" class=\"dataframe\">\n",
       "  <thead>\n",
       "    <tr style=\"text-align: right;\">\n",
       "      <th></th>\n",
       "      <th>Tipo</th>\n",
       "      <th>Bairro</th>\n",
       "      <th>Quartos</th>\n",
       "      <th>Vagas</th>\n",
       "      <th>Suites</th>\n",
       "      <th>Area</th>\n",
       "      <th>Valor</th>\n",
       "      <th>Condominio</th>\n",
       "      <th>IPTU</th>\n",
       "    </tr>\n",
       "  </thead>\n",
       "  <tbody>\n",
       "    <tr>\n",
       "      <th>0</th>\n",
       "      <td>Quitinete</td>\n",
       "      <td>Copacabana</td>\n",
       "      <td>1</td>\n",
       "      <td>0</td>\n",
       "      <td>0</td>\n",
       "      <td>40</td>\n",
       "      <td>1700.0</td>\n",
       "      <td>500.0</td>\n",
       "      <td>60.0</td>\n",
       "    </tr>\n",
       "    <tr>\n",
       "      <th>1</th>\n",
       "      <td>Casa</td>\n",
       "      <td>Jardim Botânico</td>\n",
       "      <td>2</td>\n",
       "      <td>0</td>\n",
       "      <td>1</td>\n",
       "      <td>100</td>\n",
       "      <td>7000.0</td>\n",
       "      <td>NaN</td>\n",
       "      <td>NaN</td>\n",
       "    </tr>\n",
       "    <tr>\n",
       "      <th>2</th>\n",
       "      <td>Conjunto Comercial/Sala</td>\n",
       "      <td>Barra da Tijuca</td>\n",
       "      <td>0</td>\n",
       "      <td>4</td>\n",
       "      <td>0</td>\n",
       "      <td>150</td>\n",
       "      <td>5200.0</td>\n",
       "      <td>4020.0</td>\n",
       "      <td>1111.0</td>\n",
       "    </tr>\n",
       "    <tr>\n",
       "      <th>3</th>\n",
       "      <td>Apartamento</td>\n",
       "      <td>Centro</td>\n",
       "      <td>1</td>\n",
       "      <td>0</td>\n",
       "      <td>0</td>\n",
       "      <td>15</td>\n",
       "      <td>800.0</td>\n",
       "      <td>390.0</td>\n",
       "      <td>20.0</td>\n",
       "    </tr>\n",
       "    <tr>\n",
       "      <th>4</th>\n",
       "      <td>Apartamento</td>\n",
       "      <td>Higienópolis</td>\n",
       "      <td>1</td>\n",
       "      <td>0</td>\n",
       "      <td>0</td>\n",
       "      <td>48</td>\n",
       "      <td>800.0</td>\n",
       "      <td>230.0</td>\n",
       "      <td>NaN</td>\n",
       "    </tr>\n",
       "  </tbody>\n",
       "</table>\n",
       "</div>"
      ],
      "text/plain": [
       "                      Tipo           Bairro  Quartos  Vagas  Suites  Area  \\\n",
       "0                Quitinete       Copacabana        1      0       0    40   \n",
       "1                     Casa  Jardim Botânico        2      0       1   100   \n",
       "2  Conjunto Comercial/Sala  Barra da Tijuca        0      4       0   150   \n",
       "3              Apartamento           Centro        1      0       0    15   \n",
       "4              Apartamento     Higienópolis        1      0       0    48   \n",
       "\n",
       "    Valor  Condominio    IPTU  \n",
       "0  1700.0       500.0    60.0  \n",
       "1  7000.0         NaN     NaN  \n",
       "2  5200.0      4020.0  1111.0  \n",
       "3   800.0       390.0    20.0  \n",
       "4   800.0       230.0     NaN  "
      ]
     },
     "execution_count": 2,
     "metadata": {},
     "output_type": "execute_result"
    }
   ],
   "source": [
    "# Importação do dataset:\n",
    "\n",
    "dados = pd.read_csv('data/aluguel.csv', sep = ';')\n",
    "dados.head()"
   ]
  },
  {
   "cell_type": "code",
   "execution_count": 3,
   "id": "9dd28df2-9ee9-42bc-9032-09e257e3e0db",
   "metadata": {},
   "outputs": [
    {
     "name": "stdout",
     "output_type": "stream",
     "text": [
      "<class 'pandas.core.frame.DataFrame'>\n",
      "RangeIndex: 32960 entries, 0 to 32959\n",
      "Data columns (total 9 columns):\n",
      " #   Column      Non-Null Count  Dtype  \n",
      "---  ------      --------------  -----  \n",
      " 0   Tipo        32960 non-null  object \n",
      " 1   Bairro      32960 non-null  object \n",
      " 2   Quartos     32960 non-null  int64  \n",
      " 3   Vagas       32960 non-null  int64  \n",
      " 4   Suites      32960 non-null  int64  \n",
      " 5   Area        32960 non-null  int64  \n",
      " 6   Valor       32943 non-null  float64\n",
      " 7   Condominio  28867 non-null  float64\n",
      " 8   IPTU        22723 non-null  float64\n",
      "dtypes: float64(3), int64(4), object(2)\n",
      "memory usage: 2.3+ MB\n"
     ]
    }
   ],
   "source": [
    "# Informações gerais sobre o dataset:\n",
    "\n",
    "dados.info()"
   ]
  },
  {
   "cell_type": "code",
   "execution_count": 4,
   "id": "646b95ff-cdd7-4f64-a228-31614e1cb4a6",
   "metadata": {},
   "outputs": [
    {
     "data": {
      "text/html": [
       "<div>\n",
       "<style scoped>\n",
       "    .dataframe tbody tr th:only-of-type {\n",
       "        vertical-align: middle;\n",
       "    }\n",
       "\n",
       "    .dataframe tbody tr th {\n",
       "        vertical-align: top;\n",
       "    }\n",
       "\n",
       "    .dataframe thead th {\n",
       "        text-align: right;\n",
       "    }\n",
       "</style>\n",
       "<table border=\"1\" class=\"dataframe\">\n",
       "  <thead>\n",
       "    <tr style=\"text-align: right;\">\n",
       "      <th>Variáveis</th>\n",
       "      <th>Tipos de dados</th>\n",
       "    </tr>\n",
       "  </thead>\n",
       "  <tbody>\n",
       "    <tr>\n",
       "      <th>Tipo</th>\n",
       "      <td>object</td>\n",
       "    </tr>\n",
       "    <tr>\n",
       "      <th>Bairro</th>\n",
       "      <td>object</td>\n",
       "    </tr>\n",
       "    <tr>\n",
       "      <th>Quartos</th>\n",
       "      <td>int64</td>\n",
       "    </tr>\n",
       "    <tr>\n",
       "      <th>Vagas</th>\n",
       "      <td>int64</td>\n",
       "    </tr>\n",
       "    <tr>\n",
       "      <th>Suites</th>\n",
       "      <td>int64</td>\n",
       "    </tr>\n",
       "    <tr>\n",
       "      <th>Area</th>\n",
       "      <td>int64</td>\n",
       "    </tr>\n",
       "    <tr>\n",
       "      <th>Valor</th>\n",
       "      <td>float64</td>\n",
       "    </tr>\n",
       "    <tr>\n",
       "      <th>Condominio</th>\n",
       "      <td>float64</td>\n",
       "    </tr>\n",
       "    <tr>\n",
       "      <th>IPTU</th>\n",
       "      <td>float64</td>\n",
       "    </tr>\n",
       "  </tbody>\n",
       "</table>\n",
       "</div>"
      ],
      "text/plain": [
       "Variáveis  Tipos de dados\n",
       "Tipo               object\n",
       "Bairro             object\n",
       "Quartos             int64\n",
       "Vagas               int64\n",
       "Suites              int64\n",
       "Area                int64\n",
       "Valor             float64\n",
       "Condominio        float64\n",
       "IPTU              float64"
      ]
     },
     "execution_count": 4,
     "metadata": {},
     "output_type": "execute_result"
    }
   ],
   "source": [
    "# Tipos de dados disponíveis no dataframe: formatando a apresentação\n",
    "\n",
    "tipos_dados = pd.DataFrame(dados.dtypes, columns = ['Tipos de dados'])\n",
    "tipos_dados.columns.name = 'Variáveis'\n",
    "tipos_dados"
   ]
  },
  {
   "cell_type": "code",
   "execution_count": 5,
   "id": "00cb6b92-f896-4db6-9be3-6940d1f9dd25",
   "metadata": {},
   "outputs": [
    {
     "data": {
      "text/plain": [
       "0                      Quitinete\n",
       "1                           Casa\n",
       "2        Conjunto Comercial/Sala\n",
       "3                    Apartamento\n",
       "4                    Apartamento\n",
       "                  ...           \n",
       "32955                  Quitinete\n",
       "32956                Apartamento\n",
       "32957                Apartamento\n",
       "32958                Apartamento\n",
       "32959    Conjunto Comercial/Sala\n",
       "Name: Tipo, Length: 32960, dtype: object"
      ]
     },
     "execution_count": 5,
     "metadata": {},
     "output_type": "execute_result"
    }
   ],
   "source": [
    "# Criando uma variável para os tipos de imóvel disponíveis no dataset:\n",
    "\n",
    "tipo_imovel = dados['Tipo']\n",
    "tipo_imovel"
   ]
  },
  {
   "cell_type": "code",
   "execution_count": 6,
   "id": "77fcf047-4f5e-456f-bfc8-599269912862",
   "metadata": {},
   "outputs": [
    {
     "data": {
      "text/plain": [
       "0                          Quitinete\n",
       "1                               Casa\n",
       "2            Conjunto Comercial/Sala\n",
       "3                        Apartamento\n",
       "7                 Casa de Condomínio\n",
       "16                    Prédio Inteiro\n",
       "17                              Flat\n",
       "29                        Loja/Salão\n",
       "80           Galpão/Depósito/Armazém\n",
       "83                    Casa Comercial\n",
       "117                     Casa de Vila\n",
       "159                   Terreno Padrão\n",
       "207                      Box/Garagem\n",
       "347                             Loft\n",
       "589      Loja Shopping/ Ct Comercial\n",
       "2157                         Chácara\n",
       "3354           Loteamento/Condomínio\n",
       "4379                           Sítio\n",
       "4721                   Pousada/Chalé\n",
       "6983                          Studio\n",
       "9687                           Hotel\n",
       "23614                      Indústria\n",
       "Name: Tipo, dtype: object"
      ]
     },
     "execution_count": 6,
     "metadata": {},
     "output_type": "execute_result"
    }
   ],
   "source": [
    "# Visualizando quais são todos os tipos diferentes de imóveis disponíveis no dataset:\n",
    "\n",
    "tipo_imovel.drop_duplicates(inplace = True)\n",
    "tipo_imovel"
   ]
  },
  {
   "cell_type": "code",
   "execution_count": 7,
   "id": "a38f6382-82a9-4d83-a1e9-a8a5c728fd5a",
   "metadata": {},
   "outputs": [
    {
     "data": {
      "text/html": [
       "<div>\n",
       "<style scoped>\n",
       "    .dataframe tbody tr th:only-of-type {\n",
       "        vertical-align: middle;\n",
       "    }\n",
       "\n",
       "    .dataframe tbody tr th {\n",
       "        vertical-align: top;\n",
       "    }\n",
       "\n",
       "    .dataframe thead th {\n",
       "        text-align: right;\n",
       "    }\n",
       "</style>\n",
       "<table border=\"1\" class=\"dataframe\">\n",
       "  <thead>\n",
       "    <tr style=\"text-align: right;\">\n",
       "      <th>Id</th>\n",
       "      <th>Tipo</th>\n",
       "    </tr>\n",
       "  </thead>\n",
       "  <tbody>\n",
       "    <tr>\n",
       "      <th>0</th>\n",
       "      <td>Quitinete</td>\n",
       "    </tr>\n",
       "    <tr>\n",
       "      <th>1</th>\n",
       "      <td>Casa</td>\n",
       "    </tr>\n",
       "    <tr>\n",
       "      <th>2</th>\n",
       "      <td>Conjunto Comercial/Sala</td>\n",
       "    </tr>\n",
       "    <tr>\n",
       "      <th>3</th>\n",
       "      <td>Apartamento</td>\n",
       "    </tr>\n",
       "    <tr>\n",
       "      <th>7</th>\n",
       "      <td>Casa de Condomínio</td>\n",
       "    </tr>\n",
       "    <tr>\n",
       "      <th>16</th>\n",
       "      <td>Prédio Inteiro</td>\n",
       "    </tr>\n",
       "    <tr>\n",
       "      <th>17</th>\n",
       "      <td>Flat</td>\n",
       "    </tr>\n",
       "    <tr>\n",
       "      <th>29</th>\n",
       "      <td>Loja/Salão</td>\n",
       "    </tr>\n",
       "    <tr>\n",
       "      <th>80</th>\n",
       "      <td>Galpão/Depósito/Armazém</td>\n",
       "    </tr>\n",
       "    <tr>\n",
       "      <th>83</th>\n",
       "      <td>Casa Comercial</td>\n",
       "    </tr>\n",
       "    <tr>\n",
       "      <th>117</th>\n",
       "      <td>Casa de Vila</td>\n",
       "    </tr>\n",
       "    <tr>\n",
       "      <th>159</th>\n",
       "      <td>Terreno Padrão</td>\n",
       "    </tr>\n",
       "    <tr>\n",
       "      <th>207</th>\n",
       "      <td>Box/Garagem</td>\n",
       "    </tr>\n",
       "    <tr>\n",
       "      <th>347</th>\n",
       "      <td>Loft</td>\n",
       "    </tr>\n",
       "    <tr>\n",
       "      <th>589</th>\n",
       "      <td>Loja Shopping/ Ct Comercial</td>\n",
       "    </tr>\n",
       "    <tr>\n",
       "      <th>2157</th>\n",
       "      <td>Chácara</td>\n",
       "    </tr>\n",
       "    <tr>\n",
       "      <th>3354</th>\n",
       "      <td>Loteamento/Condomínio</td>\n",
       "    </tr>\n",
       "    <tr>\n",
       "      <th>4379</th>\n",
       "      <td>Sítio</td>\n",
       "    </tr>\n",
       "    <tr>\n",
       "      <th>4721</th>\n",
       "      <td>Pousada/Chalé</td>\n",
       "    </tr>\n",
       "    <tr>\n",
       "      <th>6983</th>\n",
       "      <td>Studio</td>\n",
       "    </tr>\n",
       "    <tr>\n",
       "      <th>9687</th>\n",
       "      <td>Hotel</td>\n",
       "    </tr>\n",
       "    <tr>\n",
       "      <th>23614</th>\n",
       "      <td>Indústria</td>\n",
       "    </tr>\n",
       "  </tbody>\n",
       "</table>\n",
       "</div>"
      ],
      "text/plain": [
       "Id                            Tipo\n",
       "0                        Quitinete\n",
       "1                             Casa\n",
       "2          Conjunto Comercial/Sala\n",
       "3                      Apartamento\n",
       "7               Casa de Condomínio\n",
       "16                  Prédio Inteiro\n",
       "17                            Flat\n",
       "29                      Loja/Salão\n",
       "80         Galpão/Depósito/Armazém\n",
       "83                  Casa Comercial\n",
       "117                   Casa de Vila\n",
       "159                 Terreno Padrão\n",
       "207                    Box/Garagem\n",
       "347                           Loft\n",
       "589    Loja Shopping/ Ct Comercial\n",
       "2157                       Chácara\n",
       "3354         Loteamento/Condomínio\n",
       "4379                         Sítio\n",
       "4721                 Pousada/Chalé\n",
       "6983                        Studio\n",
       "9687                         Hotel\n",
       "23614                    Indústria"
      ]
     },
     "execution_count": 7,
     "metadata": {},
     "output_type": "execute_result"
    }
   ],
   "source": [
    "# Tipos de imóvel disponíveis no dataframe: formatando a apresentação.\n",
    "\n",
    "tipo_imovel = pd.DataFrame(tipo_imovel)\n",
    "tipo_imovel.columns.name = 'Id'\n",
    "tipo_imovel"
   ]
  },
  {
   "cell_type": "code",
   "execution_count": 8,
   "id": "951698cd-533d-4450-81e0-8e8cd35ed81b",
   "metadata": {},
   "outputs": [
    {
     "data": {
      "text/plain": [
       "(22, 1)"
      ]
     },
     "execution_count": 8,
     "metadata": {},
     "output_type": "execute_result"
    }
   ],
   "source": [
    "# Quero alterar os índices. Quantos elementos tem 'tipo_imovel'?\n",
    "\n",
    "tipo_imovel.shape"
   ]
  },
  {
   "cell_type": "code",
   "execution_count": 9,
   "id": "5655c6cb-f155-48a0-be91-7f48bf1e1f2c",
   "metadata": {},
   "outputs": [
    {
     "data": {
      "text/html": [
       "<div>\n",
       "<style scoped>\n",
       "    .dataframe tbody tr th:only-of-type {\n",
       "        vertical-align: middle;\n",
       "    }\n",
       "\n",
       "    .dataframe tbody tr th {\n",
       "        vertical-align: top;\n",
       "    }\n",
       "\n",
       "    .dataframe thead th {\n",
       "        text-align: right;\n",
       "    }\n",
       "</style>\n",
       "<table border=\"1\" class=\"dataframe\">\n",
       "  <thead>\n",
       "    <tr style=\"text-align: right;\">\n",
       "      <th>Id</th>\n",
       "      <th>Tipo</th>\n",
       "    </tr>\n",
       "  </thead>\n",
       "  <tbody>\n",
       "    <tr>\n",
       "      <th>0</th>\n",
       "      <td>Quitinete</td>\n",
       "    </tr>\n",
       "    <tr>\n",
       "      <th>1</th>\n",
       "      <td>Casa</td>\n",
       "    </tr>\n",
       "    <tr>\n",
       "      <th>2</th>\n",
       "      <td>Conjunto Comercial/Sala</td>\n",
       "    </tr>\n",
       "    <tr>\n",
       "      <th>3</th>\n",
       "      <td>Apartamento</td>\n",
       "    </tr>\n",
       "    <tr>\n",
       "      <th>4</th>\n",
       "      <td>Casa de Condomínio</td>\n",
       "    </tr>\n",
       "    <tr>\n",
       "      <th>5</th>\n",
       "      <td>Prédio Inteiro</td>\n",
       "    </tr>\n",
       "    <tr>\n",
       "      <th>6</th>\n",
       "      <td>Flat</td>\n",
       "    </tr>\n",
       "    <tr>\n",
       "      <th>7</th>\n",
       "      <td>Loja/Salão</td>\n",
       "    </tr>\n",
       "    <tr>\n",
       "      <th>8</th>\n",
       "      <td>Galpão/Depósito/Armazém</td>\n",
       "    </tr>\n",
       "    <tr>\n",
       "      <th>9</th>\n",
       "      <td>Casa Comercial</td>\n",
       "    </tr>\n",
       "    <tr>\n",
       "      <th>10</th>\n",
       "      <td>Casa de Vila</td>\n",
       "    </tr>\n",
       "    <tr>\n",
       "      <th>11</th>\n",
       "      <td>Terreno Padrão</td>\n",
       "    </tr>\n",
       "    <tr>\n",
       "      <th>12</th>\n",
       "      <td>Box/Garagem</td>\n",
       "    </tr>\n",
       "    <tr>\n",
       "      <th>13</th>\n",
       "      <td>Loft</td>\n",
       "    </tr>\n",
       "    <tr>\n",
       "      <th>14</th>\n",
       "      <td>Loja Shopping/ Ct Comercial</td>\n",
       "    </tr>\n",
       "    <tr>\n",
       "      <th>15</th>\n",
       "      <td>Chácara</td>\n",
       "    </tr>\n",
       "    <tr>\n",
       "      <th>16</th>\n",
       "      <td>Loteamento/Condomínio</td>\n",
       "    </tr>\n",
       "    <tr>\n",
       "      <th>17</th>\n",
       "      <td>Sítio</td>\n",
       "    </tr>\n",
       "    <tr>\n",
       "      <th>18</th>\n",
       "      <td>Pousada/Chalé</td>\n",
       "    </tr>\n",
       "    <tr>\n",
       "      <th>19</th>\n",
       "      <td>Studio</td>\n",
       "    </tr>\n",
       "    <tr>\n",
       "      <th>20</th>\n",
       "      <td>Hotel</td>\n",
       "    </tr>\n",
       "    <tr>\n",
       "      <th>21</th>\n",
       "      <td>Indústria</td>\n",
       "    </tr>\n",
       "  </tbody>\n",
       "</table>\n",
       "</div>"
      ],
      "text/plain": [
       "Id                         Tipo\n",
       "0                     Quitinete\n",
       "1                          Casa\n",
       "2       Conjunto Comercial/Sala\n",
       "3                   Apartamento\n",
       "4            Casa de Condomínio\n",
       "5                Prédio Inteiro\n",
       "6                          Flat\n",
       "7                    Loja/Salão\n",
       "8       Galpão/Depósito/Armazém\n",
       "9                Casa Comercial\n",
       "10                 Casa de Vila\n",
       "11               Terreno Padrão\n",
       "12                  Box/Garagem\n",
       "13                         Loft\n",
       "14  Loja Shopping/ Ct Comercial\n",
       "15                      Chácara\n",
       "16        Loteamento/Condomínio\n",
       "17                        Sítio\n",
       "18                Pousada/Chalé\n",
       "19                       Studio\n",
       "20                        Hotel\n",
       "21                    Indústria"
      ]
     },
     "execution_count": 9,
     "metadata": {},
     "output_type": "execute_result"
    }
   ],
   "source": [
    "# Alterando os índices:\n",
    "\n",
    "tipo_imovel.index = range(22)\n",
    "tipo_imovel"
   ]
  },
  {
   "cell_type": "code",
   "execution_count": 10,
   "id": "ee506a04-ea8f-4028-9079-e42ad48db408",
   "metadata": {},
   "outputs": [],
   "source": [
    "# Escolha dos tipos de imóveis relevantes para este projeto, isto é, imóveis residenciais:\n",
    "\n",
    "tipo_residencial = ['Quitinete', 'Casa', 'Apartamento', 'Casa de Condomínio', 'Casa de Vila']"
   ]
  },
  {
   "cell_type": "code",
   "execution_count": 11,
   "id": "b9f47d1a-46a0-4802-b5be-a8ffc84ad1d0",
   "metadata": {},
   "outputs": [
    {
     "data": {
      "text/plain": [
       "0         True\n",
       "1         True\n",
       "2        False\n",
       "3         True\n",
       "4         True\n",
       "         ...  \n",
       "32955     True\n",
       "32956     True\n",
       "32957     True\n",
       "32958     True\n",
       "32959    False\n",
       "Name: Tipo, Length: 32960, dtype: bool"
      ]
     },
     "execution_count": 11,
     "metadata": {},
     "output_type": "execute_result"
    }
   ],
   "source": [
    "# Selecionando, dentro do dataset original, quais são os imóveis que atendem ao requisito (tipo_residencial):\n",
    "\n",
    "selecao = dados['Tipo'].isin(tipo_residencial)\n",
    "selecao\n",
    "\n",
    "# Entendendo o resultado: Todos os itens marcados como TRUE satisfazem a condição, ou seja, são imóveis residenciais."
   ]
  },
  {
   "cell_type": "code",
   "execution_count": 12,
   "id": "01f0be4b-89d6-488f-a15f-60bd42092676",
   "metadata": {},
   "outputs": [
    {
     "data": {
      "text/html": [
       "<div>\n",
       "<style scoped>\n",
       "    .dataframe tbody tr th:only-of-type {\n",
       "        vertical-align: middle;\n",
       "    }\n",
       "\n",
       "    .dataframe tbody tr th {\n",
       "        vertical-align: top;\n",
       "    }\n",
       "\n",
       "    .dataframe thead th {\n",
       "        text-align: right;\n",
       "    }\n",
       "</style>\n",
       "<table border=\"1\" class=\"dataframe\">\n",
       "  <thead>\n",
       "    <tr style=\"text-align: right;\">\n",
       "      <th></th>\n",
       "      <th>Tipo</th>\n",
       "      <th>Bairro</th>\n",
       "      <th>Quartos</th>\n",
       "      <th>Vagas</th>\n",
       "      <th>Suites</th>\n",
       "      <th>Area</th>\n",
       "      <th>Valor</th>\n",
       "      <th>Condominio</th>\n",
       "      <th>IPTU</th>\n",
       "    </tr>\n",
       "  </thead>\n",
       "  <tbody>\n",
       "    <tr>\n",
       "      <th>0</th>\n",
       "      <td>Quitinete</td>\n",
       "      <td>Copacabana</td>\n",
       "      <td>1</td>\n",
       "      <td>0</td>\n",
       "      <td>0</td>\n",
       "      <td>40</td>\n",
       "      <td>1700.0</td>\n",
       "      <td>500.0</td>\n",
       "      <td>60.0</td>\n",
       "    </tr>\n",
       "    <tr>\n",
       "      <th>1</th>\n",
       "      <td>Casa</td>\n",
       "      <td>Jardim Botânico</td>\n",
       "      <td>2</td>\n",
       "      <td>0</td>\n",
       "      <td>1</td>\n",
       "      <td>100</td>\n",
       "      <td>7000.0</td>\n",
       "      <td>NaN</td>\n",
       "      <td>NaN</td>\n",
       "    </tr>\n",
       "    <tr>\n",
       "      <th>3</th>\n",
       "      <td>Apartamento</td>\n",
       "      <td>Centro</td>\n",
       "      <td>1</td>\n",
       "      <td>0</td>\n",
       "      <td>0</td>\n",
       "      <td>15</td>\n",
       "      <td>800.0</td>\n",
       "      <td>390.0</td>\n",
       "      <td>20.0</td>\n",
       "    </tr>\n",
       "    <tr>\n",
       "      <th>4</th>\n",
       "      <td>Apartamento</td>\n",
       "      <td>Higienópolis</td>\n",
       "      <td>1</td>\n",
       "      <td>0</td>\n",
       "      <td>0</td>\n",
       "      <td>48</td>\n",
       "      <td>800.0</td>\n",
       "      <td>230.0</td>\n",
       "      <td>NaN</td>\n",
       "    </tr>\n",
       "    <tr>\n",
       "      <th>5</th>\n",
       "      <td>Apartamento</td>\n",
       "      <td>Vista Alegre</td>\n",
       "      <td>3</td>\n",
       "      <td>1</td>\n",
       "      <td>0</td>\n",
       "      <td>70</td>\n",
       "      <td>1200.0</td>\n",
       "      <td>NaN</td>\n",
       "      <td>NaN</td>\n",
       "    </tr>\n",
       "    <tr>\n",
       "      <th>...</th>\n",
       "      <td>...</td>\n",
       "      <td>...</td>\n",
       "      <td>...</td>\n",
       "      <td>...</td>\n",
       "      <td>...</td>\n",
       "      <td>...</td>\n",
       "      <td>...</td>\n",
       "      <td>...</td>\n",
       "      <td>...</td>\n",
       "    </tr>\n",
       "    <tr>\n",
       "      <th>32953</th>\n",
       "      <td>Apartamento</td>\n",
       "      <td>Méier</td>\n",
       "      <td>2</td>\n",
       "      <td>0</td>\n",
       "      <td>0</td>\n",
       "      <td>70</td>\n",
       "      <td>900.0</td>\n",
       "      <td>490.0</td>\n",
       "      <td>48.0</td>\n",
       "    </tr>\n",
       "    <tr>\n",
       "      <th>32955</th>\n",
       "      <td>Quitinete</td>\n",
       "      <td>Centro</td>\n",
       "      <td>0</td>\n",
       "      <td>0</td>\n",
       "      <td>0</td>\n",
       "      <td>27</td>\n",
       "      <td>800.0</td>\n",
       "      <td>350.0</td>\n",
       "      <td>25.0</td>\n",
       "    </tr>\n",
       "    <tr>\n",
       "      <th>32956</th>\n",
       "      <td>Apartamento</td>\n",
       "      <td>Jacarepaguá</td>\n",
       "      <td>3</td>\n",
       "      <td>1</td>\n",
       "      <td>2</td>\n",
       "      <td>78</td>\n",
       "      <td>1800.0</td>\n",
       "      <td>800.0</td>\n",
       "      <td>40.0</td>\n",
       "    </tr>\n",
       "    <tr>\n",
       "      <th>32957</th>\n",
       "      <td>Apartamento</td>\n",
       "      <td>São Francisco Xavier</td>\n",
       "      <td>2</td>\n",
       "      <td>1</td>\n",
       "      <td>0</td>\n",
       "      <td>48</td>\n",
       "      <td>1400.0</td>\n",
       "      <td>509.0</td>\n",
       "      <td>37.0</td>\n",
       "    </tr>\n",
       "    <tr>\n",
       "      <th>32958</th>\n",
       "      <td>Apartamento</td>\n",
       "      <td>Leblon</td>\n",
       "      <td>2</td>\n",
       "      <td>0</td>\n",
       "      <td>0</td>\n",
       "      <td>70</td>\n",
       "      <td>3000.0</td>\n",
       "      <td>760.0</td>\n",
       "      <td>NaN</td>\n",
       "    </tr>\n",
       "  </tbody>\n",
       "</table>\n",
       "<p>22580 rows × 9 columns</p>\n",
       "</div>"
      ],
      "text/plain": [
       "              Tipo                Bairro  Quartos  Vagas  Suites  Area  \\\n",
       "0        Quitinete            Copacabana        1      0       0    40   \n",
       "1             Casa       Jardim Botânico        2      0       1   100   \n",
       "3      Apartamento                Centro        1      0       0    15   \n",
       "4      Apartamento          Higienópolis        1      0       0    48   \n",
       "5      Apartamento          Vista Alegre        3      1       0    70   \n",
       "...            ...                   ...      ...    ...     ...   ...   \n",
       "32953  Apartamento                 Méier        2      0       0    70   \n",
       "32955    Quitinete                Centro        0      0       0    27   \n",
       "32956  Apartamento           Jacarepaguá        3      1       2    78   \n",
       "32957  Apartamento  São Francisco Xavier        2      1       0    48   \n",
       "32958  Apartamento                Leblon        2      0       0    70   \n",
       "\n",
       "        Valor  Condominio  IPTU  \n",
       "0      1700.0       500.0  60.0  \n",
       "1      7000.0         NaN   NaN  \n",
       "3       800.0       390.0  20.0  \n",
       "4       800.0       230.0   NaN  \n",
       "5      1200.0         NaN   NaN  \n",
       "...       ...         ...   ...  \n",
       "32953   900.0       490.0  48.0  \n",
       "32955   800.0       350.0  25.0  \n",
       "32956  1800.0       800.0  40.0  \n",
       "32957  1400.0       509.0  37.0  \n",
       "32958  3000.0       760.0   NaN  \n",
       "\n",
       "[22580 rows x 9 columns]"
      ]
     },
     "execution_count": 12,
     "metadata": {},
     "output_type": "execute_result"
    }
   ],
   "source": [
    "# Criando um novo dataframe, somente com imóveis residenciais:\n",
    "\n",
    "dados_residenciais = dados[selecao]\n",
    "dados_residenciais"
   ]
  },
  {
   "cell_type": "code",
   "execution_count": 13,
   "id": "a748304f-e303-4dc7-bbff-1805f66f45ac",
   "metadata": {},
   "outputs": [
    {
     "data": {
      "text/plain": [
       "0               Quitinete\n",
       "1                    Casa\n",
       "3             Apartamento\n",
       "7      Casa de Condomínio\n",
       "117          Casa de Vila\n",
       "Name: Tipo, dtype: object"
      ]
     },
     "execution_count": 13,
     "metadata": {},
     "output_type": "execute_result"
    }
   ],
   "source": [
    "# Confirmando quais são os tipos de imóveis existentes no novo dataframe:\n",
    "\n",
    "dados_residenciais['Tipo'].drop_duplicates()"
   ]
  },
  {
   "cell_type": "code",
   "execution_count": 14,
   "id": "ef7abd5b-bc09-4107-8082-d5810d6ec7c5",
   "metadata": {},
   "outputs": [
    {
     "data": {
      "text/html": [
       "<div>\n",
       "<style scoped>\n",
       "    .dataframe tbody tr th:only-of-type {\n",
       "        vertical-align: middle;\n",
       "    }\n",
       "\n",
       "    .dataframe tbody tr th {\n",
       "        vertical-align: top;\n",
       "    }\n",
       "\n",
       "    .dataframe thead th {\n",
       "        text-align: right;\n",
       "    }\n",
       "</style>\n",
       "<table border=\"1\" class=\"dataframe\">\n",
       "  <thead>\n",
       "    <tr style=\"text-align: right;\">\n",
       "      <th></th>\n",
       "      <th>Tipo</th>\n",
       "      <th>Bairro</th>\n",
       "      <th>Quartos</th>\n",
       "      <th>Vagas</th>\n",
       "      <th>Suites</th>\n",
       "      <th>Area</th>\n",
       "      <th>Valor</th>\n",
       "      <th>Condominio</th>\n",
       "      <th>IPTU</th>\n",
       "    </tr>\n",
       "  </thead>\n",
       "  <tbody>\n",
       "    <tr>\n",
       "      <th>0</th>\n",
       "      <td>Quitinete</td>\n",
       "      <td>Copacabana</td>\n",
       "      <td>1</td>\n",
       "      <td>0</td>\n",
       "      <td>0</td>\n",
       "      <td>40</td>\n",
       "      <td>1700.0</td>\n",
       "      <td>500.0</td>\n",
       "      <td>60.0</td>\n",
       "    </tr>\n",
       "    <tr>\n",
       "      <th>1</th>\n",
       "      <td>Casa</td>\n",
       "      <td>Jardim Botânico</td>\n",
       "      <td>2</td>\n",
       "      <td>0</td>\n",
       "      <td>1</td>\n",
       "      <td>100</td>\n",
       "      <td>7000.0</td>\n",
       "      <td>NaN</td>\n",
       "      <td>NaN</td>\n",
       "    </tr>\n",
       "    <tr>\n",
       "      <th>2</th>\n",
       "      <td>Apartamento</td>\n",
       "      <td>Centro</td>\n",
       "      <td>1</td>\n",
       "      <td>0</td>\n",
       "      <td>0</td>\n",
       "      <td>15</td>\n",
       "      <td>800.0</td>\n",
       "      <td>390.0</td>\n",
       "      <td>20.0</td>\n",
       "    </tr>\n",
       "    <tr>\n",
       "      <th>3</th>\n",
       "      <td>Apartamento</td>\n",
       "      <td>Higienópolis</td>\n",
       "      <td>1</td>\n",
       "      <td>0</td>\n",
       "      <td>0</td>\n",
       "      <td>48</td>\n",
       "      <td>800.0</td>\n",
       "      <td>230.0</td>\n",
       "      <td>NaN</td>\n",
       "    </tr>\n",
       "    <tr>\n",
       "      <th>4</th>\n",
       "      <td>Apartamento</td>\n",
       "      <td>Vista Alegre</td>\n",
       "      <td>3</td>\n",
       "      <td>1</td>\n",
       "      <td>0</td>\n",
       "      <td>70</td>\n",
       "      <td>1200.0</td>\n",
       "      <td>NaN</td>\n",
       "      <td>NaN</td>\n",
       "    </tr>\n",
       "    <tr>\n",
       "      <th>...</th>\n",
       "      <td>...</td>\n",
       "      <td>...</td>\n",
       "      <td>...</td>\n",
       "      <td>...</td>\n",
       "      <td>...</td>\n",
       "      <td>...</td>\n",
       "      <td>...</td>\n",
       "      <td>...</td>\n",
       "      <td>...</td>\n",
       "    </tr>\n",
       "    <tr>\n",
       "      <th>22575</th>\n",
       "      <td>Apartamento</td>\n",
       "      <td>Méier</td>\n",
       "      <td>2</td>\n",
       "      <td>0</td>\n",
       "      <td>0</td>\n",
       "      <td>70</td>\n",
       "      <td>900.0</td>\n",
       "      <td>490.0</td>\n",
       "      <td>48.0</td>\n",
       "    </tr>\n",
       "    <tr>\n",
       "      <th>22576</th>\n",
       "      <td>Quitinete</td>\n",
       "      <td>Centro</td>\n",
       "      <td>0</td>\n",
       "      <td>0</td>\n",
       "      <td>0</td>\n",
       "      <td>27</td>\n",
       "      <td>800.0</td>\n",
       "      <td>350.0</td>\n",
       "      <td>25.0</td>\n",
       "    </tr>\n",
       "    <tr>\n",
       "      <th>22577</th>\n",
       "      <td>Apartamento</td>\n",
       "      <td>Jacarepaguá</td>\n",
       "      <td>3</td>\n",
       "      <td>1</td>\n",
       "      <td>2</td>\n",
       "      <td>78</td>\n",
       "      <td>1800.0</td>\n",
       "      <td>800.0</td>\n",
       "      <td>40.0</td>\n",
       "    </tr>\n",
       "    <tr>\n",
       "      <th>22578</th>\n",
       "      <td>Apartamento</td>\n",
       "      <td>São Francisco Xavier</td>\n",
       "      <td>2</td>\n",
       "      <td>1</td>\n",
       "      <td>0</td>\n",
       "      <td>48</td>\n",
       "      <td>1400.0</td>\n",
       "      <td>509.0</td>\n",
       "      <td>37.0</td>\n",
       "    </tr>\n",
       "    <tr>\n",
       "      <th>22579</th>\n",
       "      <td>Apartamento</td>\n",
       "      <td>Leblon</td>\n",
       "      <td>2</td>\n",
       "      <td>0</td>\n",
       "      <td>0</td>\n",
       "      <td>70</td>\n",
       "      <td>3000.0</td>\n",
       "      <td>760.0</td>\n",
       "      <td>NaN</td>\n",
       "    </tr>\n",
       "  </tbody>\n",
       "</table>\n",
       "<p>22580 rows × 9 columns</p>\n",
       "</div>"
      ],
      "text/plain": [
       "              Tipo                Bairro  Quartos  Vagas  Suites  Area  \\\n",
       "0        Quitinete            Copacabana        1      0       0    40   \n",
       "1             Casa       Jardim Botânico        2      0       1   100   \n",
       "2      Apartamento                Centro        1      0       0    15   \n",
       "3      Apartamento          Higienópolis        1      0       0    48   \n",
       "4      Apartamento          Vista Alegre        3      1       0    70   \n",
       "...            ...                   ...      ...    ...     ...   ...   \n",
       "22575  Apartamento                 Méier        2      0       0    70   \n",
       "22576    Quitinete                Centro        0      0       0    27   \n",
       "22577  Apartamento           Jacarepaguá        3      1       2    78   \n",
       "22578  Apartamento  São Francisco Xavier        2      1       0    48   \n",
       "22579  Apartamento                Leblon        2      0       0    70   \n",
       "\n",
       "        Valor  Condominio  IPTU  \n",
       "0      1700.0       500.0  60.0  \n",
       "1      7000.0         NaN   NaN  \n",
       "2       800.0       390.0  20.0  \n",
       "3       800.0       230.0   NaN  \n",
       "4      1200.0         NaN   NaN  \n",
       "...       ...         ...   ...  \n",
       "22575   900.0       490.0  48.0  \n",
       "22576   800.0       350.0  25.0  \n",
       "22577  1800.0       800.0  40.0  \n",
       "22578  1400.0       509.0  37.0  \n",
       "22579  3000.0       760.0   NaN  \n",
       "\n",
       "[22580 rows x 9 columns]"
      ]
     },
     "execution_count": 14,
     "metadata": {},
     "output_type": "execute_result"
    }
   ],
   "source": [
    "# Inserindo novos índices no novo dataset:\n",
    "\n",
    "dados_residenciais.index = range(22580)\n",
    "dados_residenciais"
   ]
  },
  {
   "cell_type": "code",
   "execution_count": 15,
   "id": "c0662b1e-dbd2-40f1-8e9c-1f5fddc83313",
   "metadata": {},
   "outputs": [],
   "source": [
    "# Exportando o novo dataset:\n",
    "\n",
    "dados_residenciais.to_csv('data/Aluguel_residencial.csv', sep = ';', index = False)"
   ]
  },
  {
   "cell_type": "markdown",
   "id": "67be66c8-f6bf-4095-b57d-7ee136b8f1be",
   "metadata": {},
   "source": [
    "-----------------------------------------------------------------------------------------------------------------------------"
   ]
  },
  {
   "cell_type": "markdown",
   "id": "aa008938-4e37-4158-baa8-c76c95483543",
   "metadata": {},
   "source": [
    "#### PARTE II:\n",
    "\n",
    "> Quantos são os imóveis classificados como tipo 'Apartamento'?\n",
    "\n",
    "> Quantos são os imóveis do tipo 'Casa', 'Casa de condomínio', 'Casa de Vila'?\n",
    "\n",
    "> Quantos são os imóveis com área entre 60 e 100m2, inclusive?\n",
    "\n",
    "> Quantos são os imóveis que tenham, pelo menos, 4 quartos e aluguel menor que R$2000?"
   ]
  },
  {
   "cell_type": "markdown",
   "id": "cc2d62f0-1178-43c0-812e-d5f08257338f",
   "metadata": {},
   "source": [
    "-----------------------------------------------------------------------------------------------------------------------------"
   ]
  },
  {
   "cell_type": "code",
   "execution_count": 16,
   "id": "60c1b7fd-cccc-425a-a1a2-d14fd84298d4",
   "metadata": {},
   "outputs": [
    {
     "data": {
      "text/plain": [
       "(19532, 9)"
      ]
     },
     "execution_count": 16,
     "metadata": {},
     "output_type": "execute_result"
    }
   ],
   "source": [
    "# Seleção dos imóveis do tipo 'Apartamento':\n",
    "\n",
    "selecao = dados_residenciais['Tipo'] == 'Apartamento'\n",
    "q1 = dados_residenciais[selecao].shape\n",
    "q1"
   ]
  },
  {
   "cell_type": "code",
   "execution_count": 17,
   "id": "d8e963c6-3abd-44fb-8006-b819f0b47589",
   "metadata": {},
   "outputs": [
    {
     "data": {
      "text/plain": [
       "(2212, 9)"
      ]
     },
     "execution_count": 17,
     "metadata": {},
     "output_type": "execute_result"
    }
   ],
   "source": [
    "# Seleção dos imóveis do tipo 'Casa', 'Casa de Condomínio', 'Casa de Vila':\n",
    "\n",
    "selecao = (dados_residenciais['Tipo'] == 'Casa') | (dados_residenciais['Tipo'] == 'Casa de Condomínio') | (dados_residenciais['Tipo'] == 'Casa de Vila')\n",
    "q2 = dados_residenciais[selecao].shape\n",
    "q2"
   ]
  },
  {
   "cell_type": "code",
   "execution_count": 18,
   "id": "cf317937-ab29-4f76-8993-846c8c5d32bf",
   "metadata": {},
   "outputs": [
    {
     "data": {
      "text/plain": [
       "(8719, 9)"
      ]
     },
     "execution_count": 18,
     "metadata": {},
     "output_type": "execute_result"
    }
   ],
   "source": [
    "# Seleção dos imóveis com área entre 60 e 100m2, inclusive:\n",
    "\n",
    "selecao = (dados_residenciais['Area'] >= 60) & (dados_residenciais['Area'] <= 100)\n",
    "q3 = dados_residenciais[selecao].shape\n",
    "q3"
   ]
  },
  {
   "cell_type": "code",
   "execution_count": 19,
   "id": "7d50fed8-43b3-4ebb-b4d5-92e7d8a94df3",
   "metadata": {},
   "outputs": [
    {
     "data": {
      "text/plain": [
       "(41, 9)"
      ]
     },
     "execution_count": 19,
     "metadata": {},
     "output_type": "execute_result"
    }
   ],
   "source": [
    "# Selecionar os imóveis que tenham, pelo menos, 4 quartos e aluguel menor que R$2000:\n",
    "\n",
    "selecao = (dados_residenciais['Quartos'] >= 4) & (dados_residenciais['Valor'] < 2000)\n",
    "q4 = dados_residenciais[selecao].shape\n",
    "q4"
   ]
  },
  {
   "cell_type": "code",
   "execution_count": 20,
   "id": "4694d200-c302-4abf-8c72-b0aa1a22e01f",
   "metadata": {},
   "outputs": [
    {
     "name": "stdout",
     "output_type": "stream",
     "text": [
      "Existem (19532, 9) imóveis do tipo Apartamento disponíveis.\n",
      "Existem (2212, 9) imóveis dos tipos Casa, Casa de Condomínio ou Casa de Vila disponíveis.\n",
      "Existem (8719, 9) imóveis com área entre 60 e 100 metros quadrados disponíveis.\n",
      "Existem (41, 9) imóveis com, pelo menos, 4 quartos e aluguel inferior a R$2000 disponíveis.\n"
     ]
    }
   ],
   "source": [
    "# Apresentação do resultado:\n",
    "\n",
    "print(f'Existem {q1} imóveis do tipo Apartamento disponíveis.')\n",
    "print(f'Existem {q2} imóveis dos tipos Casa, Casa de Condomínio ou Casa de Vila disponíveis.')\n",
    "print(f'Existem {q3} imóveis com área entre 60 e 100 metros quadrados disponíveis.')\n",
    "print(f'Existem {q4} imóveis com, pelo menos, 4 quartos e aluguel inferior a R$2000 disponíveis.')"
   ]
  },
  {
   "cell_type": "markdown",
   "id": "d24e56a7-ce4d-4694-8131-f59acd408514",
   "metadata": {},
   "source": [
    "-----------------------------------------------------------------------------------------------------------------------------"
   ]
  },
  {
   "cell_type": "markdown",
   "id": "0b439259-84e4-431f-8b72-a936c42386e4",
   "metadata": {},
   "source": [
    "#### PARTE III:\n",
    "\n",
    "* Tratamento de valores NaN:\n",
    "\n",
    "> Registros sem informação do valor do aluguel do imóvel serão descartadas;\n",
    "\n",
    "> Imóveis do tipo 'Apartamento' sem informação sobre o valor do condomínio serão descartadas;\n",
    "\n",
    "> Imóveis do tipo 'Casa', cujas informações sobre o condomínio sejam NaN, terão seus valores registrados como zero;\n",
    "\n",
    "> Informações de IPTU registradas como NaN terão seus valores indicados por zero."
   ]
  },
  {
   "cell_type": "markdown",
   "id": "be13b6e9-e1d9-4dfc-886d-af772de31511",
   "metadata": {},
   "source": [
    "-----------------------------------------------------------------------------------------------------------------------------"
   ]
  },
  {
   "cell_type": "code",
   "execution_count": 21,
   "id": "081e2f4c-0b03-4974-a306-57b9dce66441",
   "metadata": {},
   "outputs": [
    {
     "data": {
      "text/plain": [
       "9"
      ]
     },
     "execution_count": 21,
     "metadata": {},
     "output_type": "execute_result"
    }
   ],
   "source": [
    "# Verificando quantos registros existem sem informação sobre o valor do aluguel:\n",
    "\n",
    "aluguel_nan = dados_residenciais['Valor'].isnull()\n",
    "dados_residenciais[aluguel_nan].shape[0]"
   ]
  },
  {
   "cell_type": "code",
   "execution_count": 22,
   "id": "7ce1b4c5-71d3-48af-bf3a-630beaeae453",
   "metadata": {},
   "outputs": [
    {
     "name": "stderr",
     "output_type": "stream",
     "text": [
      "<ipython-input-22-521fb826127e>:3: SettingWithCopyWarning: \n",
      "A value is trying to be set on a copy of a slice from a DataFrame\n",
      "\n",
      "See the caveats in the documentation: https://pandas.pydata.org/pandas-docs/stable/user_guide/indexing.html#returning-a-view-versus-a-copy\n",
      "  dados_residenciais.dropna(subset = ['Valor'], inplace = True)\n"
     ]
    }
   ],
   "source": [
    "# Excluindo os registros sem informação sobre o valor do aluguel:\n",
    "\n",
    "dados_residenciais.dropna(subset = ['Valor'], inplace = True)"
   ]
  },
  {
   "cell_type": "code",
   "execution_count": 23,
   "id": "693df128-43e9-4f48-b77a-ea7598bfe9bc",
   "metadata": {},
   "outputs": [
    {
     "data": {
      "text/plain": [
       "1813"
      ]
     },
     "execution_count": 23,
     "metadata": {},
     "output_type": "execute_result"
    }
   ],
   "source": [
    "# Verificando quantos registros existem sem informação sobre o valor do Condomínio:\n",
    "\n",
    "condominio_nan = dados_residenciais['Condominio'].isnull()\n",
    "dados_residenciais[condominio_nan].shape[0]"
   ]
  },
  {
   "cell_type": "code",
   "execution_count": 24,
   "id": "5d5dfbfe-578b-4b14-a8e6-62992e33203a",
   "metadata": {},
   "outputs": [
    {
     "data": {
      "text/plain": [
       "745"
      ]
     },
     "execution_count": 24,
     "metadata": {},
     "output_type": "execute_result"
    }
   ],
   "source": [
    "# Dos registros sem condomínio verificados acima, quantos imóveis são do tipo 'Apartamento'?\n",
    "\n",
    "condominio_nan_apt = (dados_residenciais['Tipo'] == 'Apartamento') & (dados_residenciais['Condominio'].isnull())\n",
    "dados_residenciais[condominio_nan_apt].shape[0]"
   ]
  },
  {
   "cell_type": "code",
   "execution_count": 25,
   "id": "a41cdcea-b990-4b06-a4e1-5f1b4b8230cf",
   "metadata": {},
   "outputs": [],
   "source": [
    "# Assim sendo, dos 1813 registros que têm o valor do condomínio registrado como NaN, 745 são apartamentos.\n",
    "# A variável 'condominio_nan_apt' contém os registros que, ao mesmo tempo, não possuem info sobre o condomínio E são apts.\n",
    "# Portanto, ~condominio_nan_apt conterá o restante dos registros sem informação de condomínio.\n",
    "\n",
    "# Filtrando o dataset com as informações que permanecerão:\n",
    "\n",
    "dados_residenciais = dados_residenciais[~condominio_nan_apt]"
   ]
  },
  {
   "cell_type": "code",
   "execution_count": 26,
   "id": "3ba97da8-cdd9-484f-8dbc-cdea0b5724eb",
   "metadata": {},
   "outputs": [
    {
     "name": "stderr",
     "output_type": "stream",
     "text": [
      "<ipython-input-26-bc52e34a2a69>:3: UserWarning: Boolean Series key will be reindexed to match DataFrame index.\n",
      "  dados_residenciais[condominio_nan].shape[0]\n"
     ]
    },
    {
     "data": {
      "text/plain": [
       "1068"
      ]
     },
     "execution_count": 26,
     "metadata": {},
     "output_type": "execute_result"
    }
   ],
   "source": [
    "# Verificando se os dados foram excluídos:\n",
    "\n",
    "dados_residenciais[condominio_nan].shape[0]"
   ]
  },
  {
   "cell_type": "code",
   "execution_count": 27,
   "id": "7f5753aa-a9ec-402b-9ed3-383085e35fa0",
   "metadata": {},
   "outputs": [
    {
     "name": "stdout",
     "output_type": "stream",
     "text": [
      "<class 'pandas.core.frame.DataFrame'>\n",
      "Int64Index: 21826 entries, 0 to 22579\n",
      "Data columns (total 9 columns):\n",
      " #   Column      Non-Null Count  Dtype  \n",
      "---  ------      --------------  -----  \n",
      " 0   Tipo        21826 non-null  object \n",
      " 1   Bairro      21826 non-null  object \n",
      " 2   Quartos     21826 non-null  int64  \n",
      " 3   Vagas       21826 non-null  int64  \n",
      " 4   Suites      21826 non-null  int64  \n",
      " 5   Area        21826 non-null  int64  \n",
      " 6   Valor       21826 non-null  float64\n",
      " 7   Condominio  20758 non-null  float64\n",
      " 8   IPTU        15685 non-null  float64\n",
      "dtypes: float64(3), int64(4), object(2)\n",
      "memory usage: 1.7+ MB\n"
     ]
    }
   ],
   "source": [
    "# Verificando se existem outros dados NaN além dos relevantes para este projeto:\n",
    "\n",
    "dados_residenciais.info()\n",
    "\n",
    "# Os valores de condomínio NaN restantes são referentes a casas.\n",
    "# Os valores de IPTU NaN são irrelevantes para o projeto."
   ]
  },
  {
   "cell_type": "code",
   "execution_count": 28,
   "id": "ef7dbb1a-e403-4706-acc2-376dcadba308",
   "metadata": {},
   "outputs": [],
   "source": [
    "# Preenchendo com zeros os registros NaN restantes:\n",
    "\n",
    "dados_residenciais = dados_residenciais.fillna({'Condominio': 0, 'IPTU': 0})"
   ]
  },
  {
   "cell_type": "code",
   "execution_count": 29,
   "id": "97ae030e-cbc7-469f-b364-14f8e44fdc27",
   "metadata": {},
   "outputs": [
    {
     "name": "stdout",
     "output_type": "stream",
     "text": [
      "<class 'pandas.core.frame.DataFrame'>\n",
      "Int64Index: 21826 entries, 0 to 22579\n",
      "Data columns (total 9 columns):\n",
      " #   Column      Non-Null Count  Dtype  \n",
      "---  ------      --------------  -----  \n",
      " 0   Tipo        21826 non-null  object \n",
      " 1   Bairro      21826 non-null  object \n",
      " 2   Quartos     21826 non-null  int64  \n",
      " 3   Vagas       21826 non-null  int64  \n",
      " 4   Suites      21826 non-null  int64  \n",
      " 5   Area        21826 non-null  int64  \n",
      " 6   Valor       21826 non-null  float64\n",
      " 7   Condominio  21826 non-null  float64\n",
      " 8   IPTU        21826 non-null  float64\n",
      "dtypes: float64(3), int64(4), object(2)\n",
      "memory usage: 1.7+ MB\n"
     ]
    }
   ],
   "source": [
    "# Verificando noramente as informações:\n",
    "\n",
    "dados_residenciais.info()"
   ]
  },
  {
   "cell_type": "code",
   "execution_count": 30,
   "id": "6019048d-011a-4462-ad36-9515f12eec77",
   "metadata": {},
   "outputs": [],
   "source": [
    "# Salvando as alterações do dataset: sem informações NaN:\n",
    "\n",
    "dados_new = dados_residenciais.to_csv('data/Aluguel_new.csv', sep = ';', index = False)"
   ]
  },
  {
   "cell_type": "markdown",
   "id": "3ad195a8-c274-4ed7-9f5a-70b9cebbbb4c",
   "metadata": {},
   "source": [
    "-----------------------------------------------------------------------------------------------------------------------------"
   ]
  },
  {
   "cell_type": "markdown",
   "id": "5909d5a6-a9a1-471a-be51-afc42e6793d9",
   "metadata": {},
   "source": [
    "#### PARTE IV:\n",
    "\n",
    "* Criação de novas variáveis no dataset:\n",
    "\n",
    "> Valor Bruto: Todas as despesas a serem pagas mensalmente, isto é: Valor, Condomínio e IPTU.\n",
    "\n",
    "> Valor por m2: Valor do aluguel por m2;\n",
    "\n",
    "> Classificar como 'Casa' os tipos: Casa, Casa de Condominio e Casa de Vila."
   ]
  },
  {
   "cell_type": "markdown",
   "id": "516f9af6-92ec-4fa6-a30a-e3fd961b3e06",
   "metadata": {},
   "source": [
    "-----------------------------------------------------------------------------------------------------------------------------"
   ]
  },
  {
   "cell_type": "code",
   "execution_count": 31,
   "id": "2815bce8-51e5-4b2e-ade9-dd5db4b95aa4",
   "metadata": {},
   "outputs": [],
   "source": [
    "dados_new = pd.read_csv('data/Aluguel_new.csv', sep = ';')"
   ]
  },
  {
   "cell_type": "code",
   "execution_count": 32,
   "id": "535e9909-8771-4127-bf58-d1faf1f101b6",
   "metadata": {},
   "outputs": [
    {
     "data": {
      "text/html": [
       "<div>\n",
       "<style scoped>\n",
       "    .dataframe tbody tr th:only-of-type {\n",
       "        vertical-align: middle;\n",
       "    }\n",
       "\n",
       "    .dataframe tbody tr th {\n",
       "        vertical-align: top;\n",
       "    }\n",
       "\n",
       "    .dataframe thead th {\n",
       "        text-align: right;\n",
       "    }\n",
       "</style>\n",
       "<table border=\"1\" class=\"dataframe\">\n",
       "  <thead>\n",
       "    <tr style=\"text-align: right;\">\n",
       "      <th></th>\n",
       "      <th>Tipo</th>\n",
       "      <th>Bairro</th>\n",
       "      <th>Quartos</th>\n",
       "      <th>Vagas</th>\n",
       "      <th>Suites</th>\n",
       "      <th>Area</th>\n",
       "      <th>Valor</th>\n",
       "      <th>Condominio</th>\n",
       "      <th>IPTU</th>\n",
       "    </tr>\n",
       "  </thead>\n",
       "  <tbody>\n",
       "    <tr>\n",
       "      <th>0</th>\n",
       "      <td>Quitinete</td>\n",
       "      <td>Copacabana</td>\n",
       "      <td>1</td>\n",
       "      <td>0</td>\n",
       "      <td>0</td>\n",
       "      <td>40</td>\n",
       "      <td>1700.0</td>\n",
       "      <td>500.0</td>\n",
       "      <td>60.0</td>\n",
       "    </tr>\n",
       "    <tr>\n",
       "      <th>1</th>\n",
       "      <td>Casa</td>\n",
       "      <td>Jardim Botânico</td>\n",
       "      <td>2</td>\n",
       "      <td>0</td>\n",
       "      <td>1</td>\n",
       "      <td>100</td>\n",
       "      <td>7000.0</td>\n",
       "      <td>0.0</td>\n",
       "      <td>0.0</td>\n",
       "    </tr>\n",
       "    <tr>\n",
       "      <th>2</th>\n",
       "      <td>Apartamento</td>\n",
       "      <td>Centro</td>\n",
       "      <td>1</td>\n",
       "      <td>0</td>\n",
       "      <td>0</td>\n",
       "      <td>15</td>\n",
       "      <td>800.0</td>\n",
       "      <td>390.0</td>\n",
       "      <td>20.0</td>\n",
       "    </tr>\n",
       "    <tr>\n",
       "      <th>3</th>\n",
       "      <td>Apartamento</td>\n",
       "      <td>Higienópolis</td>\n",
       "      <td>1</td>\n",
       "      <td>0</td>\n",
       "      <td>0</td>\n",
       "      <td>48</td>\n",
       "      <td>800.0</td>\n",
       "      <td>230.0</td>\n",
       "      <td>0.0</td>\n",
       "    </tr>\n",
       "    <tr>\n",
       "      <th>4</th>\n",
       "      <td>Apartamento</td>\n",
       "      <td>Cachambi</td>\n",
       "      <td>2</td>\n",
       "      <td>0</td>\n",
       "      <td>0</td>\n",
       "      <td>50</td>\n",
       "      <td>1300.0</td>\n",
       "      <td>301.0</td>\n",
       "      <td>17.0</td>\n",
       "    </tr>\n",
       "  </tbody>\n",
       "</table>\n",
       "</div>"
      ],
      "text/plain": [
       "          Tipo           Bairro  Quartos  Vagas  Suites  Area   Valor  \\\n",
       "0    Quitinete       Copacabana        1      0       0    40  1700.0   \n",
       "1         Casa  Jardim Botânico        2      0       1   100  7000.0   \n",
       "2  Apartamento           Centro        1      0       0    15   800.0   \n",
       "3  Apartamento     Higienópolis        1      0       0    48   800.0   \n",
       "4  Apartamento         Cachambi        2      0       0    50  1300.0   \n",
       "\n",
       "   Condominio  IPTU  \n",
       "0       500.0  60.0  \n",
       "1         0.0   0.0  \n",
       "2       390.0  20.0  \n",
       "3       230.0   0.0  \n",
       "4       301.0  17.0  "
      ]
     },
     "execution_count": 32,
     "metadata": {},
     "output_type": "execute_result"
    }
   ],
   "source": [
    "dados_new.head()"
   ]
  },
  {
   "cell_type": "code",
   "execution_count": 33,
   "id": "eb5658fd-3429-40c9-b2e4-8d2e3d884b01",
   "metadata": {},
   "outputs": [
    {
     "data": {
      "text/html": [
       "<div>\n",
       "<style scoped>\n",
       "    .dataframe tbody tr th:only-of-type {\n",
       "        vertical-align: middle;\n",
       "    }\n",
       "\n",
       "    .dataframe tbody tr th {\n",
       "        vertical-align: top;\n",
       "    }\n",
       "\n",
       "    .dataframe thead th {\n",
       "        text-align: right;\n",
       "    }\n",
       "</style>\n",
       "<table border=\"1\" class=\"dataframe\">\n",
       "  <thead>\n",
       "    <tr style=\"text-align: right;\">\n",
       "      <th></th>\n",
       "      <th>Tipo</th>\n",
       "      <th>Bairro</th>\n",
       "      <th>Quartos</th>\n",
       "      <th>Vagas</th>\n",
       "      <th>Suites</th>\n",
       "      <th>Area</th>\n",
       "      <th>Valor</th>\n",
       "      <th>Condominio</th>\n",
       "      <th>IPTU</th>\n",
       "      <th>Valor_Bruto</th>\n",
       "    </tr>\n",
       "  </thead>\n",
       "  <tbody>\n",
       "    <tr>\n",
       "      <th>0</th>\n",
       "      <td>Quitinete</td>\n",
       "      <td>Copacabana</td>\n",
       "      <td>1</td>\n",
       "      <td>0</td>\n",
       "      <td>0</td>\n",
       "      <td>40</td>\n",
       "      <td>1700.0</td>\n",
       "      <td>500.0</td>\n",
       "      <td>60.0</td>\n",
       "      <td>2260.0</td>\n",
       "    </tr>\n",
       "    <tr>\n",
       "      <th>1</th>\n",
       "      <td>Casa</td>\n",
       "      <td>Jardim Botânico</td>\n",
       "      <td>2</td>\n",
       "      <td>0</td>\n",
       "      <td>1</td>\n",
       "      <td>100</td>\n",
       "      <td>7000.0</td>\n",
       "      <td>0.0</td>\n",
       "      <td>0.0</td>\n",
       "      <td>7000.0</td>\n",
       "    </tr>\n",
       "    <tr>\n",
       "      <th>2</th>\n",
       "      <td>Apartamento</td>\n",
       "      <td>Centro</td>\n",
       "      <td>1</td>\n",
       "      <td>0</td>\n",
       "      <td>0</td>\n",
       "      <td>15</td>\n",
       "      <td>800.0</td>\n",
       "      <td>390.0</td>\n",
       "      <td>20.0</td>\n",
       "      <td>1210.0</td>\n",
       "    </tr>\n",
       "    <tr>\n",
       "      <th>3</th>\n",
       "      <td>Apartamento</td>\n",
       "      <td>Higienópolis</td>\n",
       "      <td>1</td>\n",
       "      <td>0</td>\n",
       "      <td>0</td>\n",
       "      <td>48</td>\n",
       "      <td>800.0</td>\n",
       "      <td>230.0</td>\n",
       "      <td>0.0</td>\n",
       "      <td>1030.0</td>\n",
       "    </tr>\n",
       "    <tr>\n",
       "      <th>4</th>\n",
       "      <td>Apartamento</td>\n",
       "      <td>Cachambi</td>\n",
       "      <td>2</td>\n",
       "      <td>0</td>\n",
       "      <td>0</td>\n",
       "      <td>50</td>\n",
       "      <td>1300.0</td>\n",
       "      <td>301.0</td>\n",
       "      <td>17.0</td>\n",
       "      <td>1618.0</td>\n",
       "    </tr>\n",
       "  </tbody>\n",
       "</table>\n",
       "</div>"
      ],
      "text/plain": [
       "          Tipo           Bairro  Quartos  Vagas  Suites  Area   Valor  \\\n",
       "0    Quitinete       Copacabana        1      0       0    40  1700.0   \n",
       "1         Casa  Jardim Botânico        2      0       1   100  7000.0   \n",
       "2  Apartamento           Centro        1      0       0    15   800.0   \n",
       "3  Apartamento     Higienópolis        1      0       0    48   800.0   \n",
       "4  Apartamento         Cachambi        2      0       0    50  1300.0   \n",
       "\n",
       "   Condominio  IPTU  Valor_Bruto  \n",
       "0       500.0  60.0       2260.0  \n",
       "1         0.0   0.0       7000.0  \n",
       "2       390.0  20.0       1210.0  \n",
       "3       230.0   0.0       1030.0  \n",
       "4       301.0  17.0       1618.0  "
      ]
     },
     "execution_count": 33,
     "metadata": {},
     "output_type": "execute_result"
    }
   ],
   "source": [
    "# Criando a nova variável (coluna) 'Valor_Bruto':\n",
    "\n",
    "dados_new['Valor_Bruto'] = dados_new['Valor'] + dados_new['Condominio'] + dados_new['IPTU']\n",
    "dados_new.head()"
   ]
  },
  {
   "cell_type": "code",
   "execution_count": 34,
   "id": "d74c167d-1f2f-4629-acaa-0ba5aef87330",
   "metadata": {},
   "outputs": [
    {
     "data": {
      "text/html": [
       "<div>\n",
       "<style scoped>\n",
       "    .dataframe tbody tr th:only-of-type {\n",
       "        vertical-align: middle;\n",
       "    }\n",
       "\n",
       "    .dataframe tbody tr th {\n",
       "        vertical-align: top;\n",
       "    }\n",
       "\n",
       "    .dataframe thead th {\n",
       "        text-align: right;\n",
       "    }\n",
       "</style>\n",
       "<table border=\"1\" class=\"dataframe\">\n",
       "  <thead>\n",
       "    <tr style=\"text-align: right;\">\n",
       "      <th></th>\n",
       "      <th>Tipo</th>\n",
       "      <th>Bairro</th>\n",
       "      <th>Quartos</th>\n",
       "      <th>Vagas</th>\n",
       "      <th>Suites</th>\n",
       "      <th>Area</th>\n",
       "      <th>Valor</th>\n",
       "      <th>Condominio</th>\n",
       "      <th>IPTU</th>\n",
       "      <th>Valor_Bruto</th>\n",
       "      <th>Valor_m2</th>\n",
       "    </tr>\n",
       "  </thead>\n",
       "  <tbody>\n",
       "    <tr>\n",
       "      <th>0</th>\n",
       "      <td>Quitinete</td>\n",
       "      <td>Copacabana</td>\n",
       "      <td>1</td>\n",
       "      <td>0</td>\n",
       "      <td>0</td>\n",
       "      <td>40</td>\n",
       "      <td>1700.0</td>\n",
       "      <td>500.0</td>\n",
       "      <td>60.0</td>\n",
       "      <td>2260.0</td>\n",
       "      <td>42.50</td>\n",
       "    </tr>\n",
       "    <tr>\n",
       "      <th>1</th>\n",
       "      <td>Casa</td>\n",
       "      <td>Jardim Botânico</td>\n",
       "      <td>2</td>\n",
       "      <td>0</td>\n",
       "      <td>1</td>\n",
       "      <td>100</td>\n",
       "      <td>7000.0</td>\n",
       "      <td>0.0</td>\n",
       "      <td>0.0</td>\n",
       "      <td>7000.0</td>\n",
       "      <td>70.00</td>\n",
       "    </tr>\n",
       "    <tr>\n",
       "      <th>2</th>\n",
       "      <td>Apartamento</td>\n",
       "      <td>Centro</td>\n",
       "      <td>1</td>\n",
       "      <td>0</td>\n",
       "      <td>0</td>\n",
       "      <td>15</td>\n",
       "      <td>800.0</td>\n",
       "      <td>390.0</td>\n",
       "      <td>20.0</td>\n",
       "      <td>1210.0</td>\n",
       "      <td>53.33</td>\n",
       "    </tr>\n",
       "    <tr>\n",
       "      <th>3</th>\n",
       "      <td>Apartamento</td>\n",
       "      <td>Higienópolis</td>\n",
       "      <td>1</td>\n",
       "      <td>0</td>\n",
       "      <td>0</td>\n",
       "      <td>48</td>\n",
       "      <td>800.0</td>\n",
       "      <td>230.0</td>\n",
       "      <td>0.0</td>\n",
       "      <td>1030.0</td>\n",
       "      <td>16.67</td>\n",
       "    </tr>\n",
       "    <tr>\n",
       "      <th>4</th>\n",
       "      <td>Apartamento</td>\n",
       "      <td>Cachambi</td>\n",
       "      <td>2</td>\n",
       "      <td>0</td>\n",
       "      <td>0</td>\n",
       "      <td>50</td>\n",
       "      <td>1300.0</td>\n",
       "      <td>301.0</td>\n",
       "      <td>17.0</td>\n",
       "      <td>1618.0</td>\n",
       "      <td>26.00</td>\n",
       "    </tr>\n",
       "  </tbody>\n",
       "</table>\n",
       "</div>"
      ],
      "text/plain": [
       "          Tipo           Bairro  Quartos  Vagas  Suites  Area   Valor  \\\n",
       "0    Quitinete       Copacabana        1      0       0    40  1700.0   \n",
       "1         Casa  Jardim Botânico        2      0       1   100  7000.0   \n",
       "2  Apartamento           Centro        1      0       0    15   800.0   \n",
       "3  Apartamento     Higienópolis        1      0       0    48   800.0   \n",
       "4  Apartamento         Cachambi        2      0       0    50  1300.0   \n",
       "\n",
       "   Condominio  IPTU  Valor_Bruto  Valor_m2  \n",
       "0       500.0  60.0       2260.0     42.50  \n",
       "1         0.0   0.0       7000.0     70.00  \n",
       "2       390.0  20.0       1210.0     53.33  \n",
       "3       230.0   0.0       1030.0     16.67  \n",
       "4       301.0  17.0       1618.0     26.00  "
      ]
     },
     "execution_count": 34,
     "metadata": {},
     "output_type": "execute_result"
    }
   ],
   "source": [
    "# Criando a nova variável 'Valor_m2':\n",
    "\n",
    "dados_new['Valor_m2'] = (dados_new['Valor'] / dados_new['Area']).round(2)\n",
    "dados_new.head()"
   ]
  },
  {
   "cell_type": "code",
   "execution_count": 35,
   "id": "12a251a1-ea19-49cb-9777-d96cef53ddd8",
   "metadata": {},
   "outputs": [],
   "source": [
    "# Classificar como 'Casa' os tipos: Casa, Casa de Condomínio e Casa de Vila:\n",
    "\n",
    "casa = ['Casa', 'Casa de Condomínio', 'Casa de Vila']\n",
    "\n",
    "dados_new['Tipos_casa'] = dados_new['Tipo'].apply(lambda x: 'Casa' if x in casa else 'Apartamento')"
   ]
  },
  {
   "cell_type": "code",
   "execution_count": 36,
   "id": "1497191c-ecee-4b3b-be75-dace0512e6ad",
   "metadata": {},
   "outputs": [
    {
     "data": {
      "text/html": [
       "<div>\n",
       "<style scoped>\n",
       "    .dataframe tbody tr th:only-of-type {\n",
       "        vertical-align: middle;\n",
       "    }\n",
       "\n",
       "    .dataframe tbody tr th {\n",
       "        vertical-align: top;\n",
       "    }\n",
       "\n",
       "    .dataframe thead th {\n",
       "        text-align: right;\n",
       "    }\n",
       "</style>\n",
       "<table border=\"1\" class=\"dataframe\">\n",
       "  <thead>\n",
       "    <tr style=\"text-align: right;\">\n",
       "      <th></th>\n",
       "      <th>Tipo</th>\n",
       "      <th>Bairro</th>\n",
       "      <th>Quartos</th>\n",
       "      <th>Vagas</th>\n",
       "      <th>Suites</th>\n",
       "      <th>Area</th>\n",
       "      <th>Valor</th>\n",
       "      <th>Condominio</th>\n",
       "      <th>IPTU</th>\n",
       "      <th>Valor_Bruto</th>\n",
       "      <th>Valor_m2</th>\n",
       "      <th>Tipos_casa</th>\n",
       "    </tr>\n",
       "  </thead>\n",
       "  <tbody>\n",
       "    <tr>\n",
       "      <th>0</th>\n",
       "      <td>Quitinete</td>\n",
       "      <td>Copacabana</td>\n",
       "      <td>1</td>\n",
       "      <td>0</td>\n",
       "      <td>0</td>\n",
       "      <td>40</td>\n",
       "      <td>1700.0</td>\n",
       "      <td>500.0</td>\n",
       "      <td>60.0</td>\n",
       "      <td>2260.0</td>\n",
       "      <td>42.50</td>\n",
       "      <td>Apartamento</td>\n",
       "    </tr>\n",
       "    <tr>\n",
       "      <th>1</th>\n",
       "      <td>Casa</td>\n",
       "      <td>Jardim Botânico</td>\n",
       "      <td>2</td>\n",
       "      <td>0</td>\n",
       "      <td>1</td>\n",
       "      <td>100</td>\n",
       "      <td>7000.0</td>\n",
       "      <td>0.0</td>\n",
       "      <td>0.0</td>\n",
       "      <td>7000.0</td>\n",
       "      <td>70.00</td>\n",
       "      <td>Casa</td>\n",
       "    </tr>\n",
       "    <tr>\n",
       "      <th>2</th>\n",
       "      <td>Apartamento</td>\n",
       "      <td>Centro</td>\n",
       "      <td>1</td>\n",
       "      <td>0</td>\n",
       "      <td>0</td>\n",
       "      <td>15</td>\n",
       "      <td>800.0</td>\n",
       "      <td>390.0</td>\n",
       "      <td>20.0</td>\n",
       "      <td>1210.0</td>\n",
       "      <td>53.33</td>\n",
       "      <td>Apartamento</td>\n",
       "    </tr>\n",
       "    <tr>\n",
       "      <th>3</th>\n",
       "      <td>Apartamento</td>\n",
       "      <td>Higienópolis</td>\n",
       "      <td>1</td>\n",
       "      <td>0</td>\n",
       "      <td>0</td>\n",
       "      <td>48</td>\n",
       "      <td>800.0</td>\n",
       "      <td>230.0</td>\n",
       "      <td>0.0</td>\n",
       "      <td>1030.0</td>\n",
       "      <td>16.67</td>\n",
       "      <td>Apartamento</td>\n",
       "    </tr>\n",
       "    <tr>\n",
       "      <th>4</th>\n",
       "      <td>Apartamento</td>\n",
       "      <td>Cachambi</td>\n",
       "      <td>2</td>\n",
       "      <td>0</td>\n",
       "      <td>0</td>\n",
       "      <td>50</td>\n",
       "      <td>1300.0</td>\n",
       "      <td>301.0</td>\n",
       "      <td>17.0</td>\n",
       "      <td>1618.0</td>\n",
       "      <td>26.00</td>\n",
       "      <td>Apartamento</td>\n",
       "    </tr>\n",
       "    <tr>\n",
       "      <th>5</th>\n",
       "      <td>Casa de Condomínio</td>\n",
       "      <td>Barra da Tijuca</td>\n",
       "      <td>5</td>\n",
       "      <td>4</td>\n",
       "      <td>5</td>\n",
       "      <td>750</td>\n",
       "      <td>22000.0</td>\n",
       "      <td>0.0</td>\n",
       "      <td>0.0</td>\n",
       "      <td>22000.0</td>\n",
       "      <td>29.33</td>\n",
       "      <td>Casa</td>\n",
       "    </tr>\n",
       "    <tr>\n",
       "      <th>6</th>\n",
       "      <td>Casa de Condomínio</td>\n",
       "      <td>Ramos</td>\n",
       "      <td>2</td>\n",
       "      <td>2</td>\n",
       "      <td>0</td>\n",
       "      <td>65</td>\n",
       "      <td>1000.0</td>\n",
       "      <td>0.0</td>\n",
       "      <td>0.0</td>\n",
       "      <td>1000.0</td>\n",
       "      <td>15.38</td>\n",
       "      <td>Casa</td>\n",
       "    </tr>\n",
       "    <tr>\n",
       "      <th>7</th>\n",
       "      <td>Apartamento</td>\n",
       "      <td>Grajaú</td>\n",
       "      <td>2</td>\n",
       "      <td>1</td>\n",
       "      <td>0</td>\n",
       "      <td>70</td>\n",
       "      <td>1500.0</td>\n",
       "      <td>642.0</td>\n",
       "      <td>74.0</td>\n",
       "      <td>2216.0</td>\n",
       "      <td>21.43</td>\n",
       "      <td>Apartamento</td>\n",
       "    </tr>\n",
       "    <tr>\n",
       "      <th>8</th>\n",
       "      <td>Apartamento</td>\n",
       "      <td>Lins de Vasconcelos</td>\n",
       "      <td>3</td>\n",
       "      <td>1</td>\n",
       "      <td>1</td>\n",
       "      <td>90</td>\n",
       "      <td>1500.0</td>\n",
       "      <td>455.0</td>\n",
       "      <td>14.0</td>\n",
       "      <td>1969.0</td>\n",
       "      <td>16.67</td>\n",
       "      <td>Apartamento</td>\n",
       "    </tr>\n",
       "    <tr>\n",
       "      <th>9</th>\n",
       "      <td>Apartamento</td>\n",
       "      <td>Copacabana</td>\n",
       "      <td>1</td>\n",
       "      <td>0</td>\n",
       "      <td>1</td>\n",
       "      <td>40</td>\n",
       "      <td>2000.0</td>\n",
       "      <td>561.0</td>\n",
       "      <td>50.0</td>\n",
       "      <td>2611.0</td>\n",
       "      <td>50.00</td>\n",
       "      <td>Apartamento</td>\n",
       "    </tr>\n",
       "    <tr>\n",
       "      <th>10</th>\n",
       "      <td>Quitinete</td>\n",
       "      <td>Copacabana</td>\n",
       "      <td>1</td>\n",
       "      <td>0</td>\n",
       "      <td>0</td>\n",
       "      <td>27</td>\n",
       "      <td>1800.0</td>\n",
       "      <td>501.0</td>\n",
       "      <td>0.0</td>\n",
       "      <td>2301.0</td>\n",
       "      <td>66.67</td>\n",
       "      <td>Apartamento</td>\n",
       "    </tr>\n",
       "    <tr>\n",
       "      <th>11</th>\n",
       "      <td>Apartamento</td>\n",
       "      <td>Copacabana</td>\n",
       "      <td>4</td>\n",
       "      <td>3</td>\n",
       "      <td>1</td>\n",
       "      <td>243</td>\n",
       "      <td>13000.0</td>\n",
       "      <td>2000.0</td>\n",
       "      <td>803.0</td>\n",
       "      <td>15803.0</td>\n",
       "      <td>53.50</td>\n",
       "      <td>Apartamento</td>\n",
       "    </tr>\n",
       "    <tr>\n",
       "      <th>12</th>\n",
       "      <td>Casa de Condomínio</td>\n",
       "      <td>Taquara</td>\n",
       "      <td>3</td>\n",
       "      <td>1</td>\n",
       "      <td>1</td>\n",
       "      <td>115</td>\n",
       "      <td>2000.0</td>\n",
       "      <td>0.0</td>\n",
       "      <td>0.0</td>\n",
       "      <td>2000.0</td>\n",
       "      <td>17.39</td>\n",
       "      <td>Casa</td>\n",
       "    </tr>\n",
       "    <tr>\n",
       "      <th>13</th>\n",
       "      <td>Apartamento</td>\n",
       "      <td>Freguesia (Jacarepaguá)</td>\n",
       "      <td>3</td>\n",
       "      <td>0</td>\n",
       "      <td>0</td>\n",
       "      <td>54</td>\n",
       "      <td>950.0</td>\n",
       "      <td>300.0</td>\n",
       "      <td>28.0</td>\n",
       "      <td>1278.0</td>\n",
       "      <td>17.59</td>\n",
       "      <td>Apartamento</td>\n",
       "    </tr>\n",
       "    <tr>\n",
       "      <th>14</th>\n",
       "      <td>Apartamento</td>\n",
       "      <td>Barra da Tijuca</td>\n",
       "      <td>2</td>\n",
       "      <td>1</td>\n",
       "      <td>1</td>\n",
       "      <td>67</td>\n",
       "      <td>1700.0</td>\n",
       "      <td>589.0</td>\n",
       "      <td>147.0</td>\n",
       "      <td>2436.0</td>\n",
       "      <td>25.37</td>\n",
       "      <td>Apartamento</td>\n",
       "    </tr>\n",
       "  </tbody>\n",
       "</table>\n",
       "</div>"
      ],
      "text/plain": [
       "                  Tipo                   Bairro  Quartos  Vagas  Suites  Area  \\\n",
       "0            Quitinete               Copacabana        1      0       0    40   \n",
       "1                 Casa          Jardim Botânico        2      0       1   100   \n",
       "2          Apartamento                   Centro        1      0       0    15   \n",
       "3          Apartamento             Higienópolis        1      0       0    48   \n",
       "4          Apartamento                 Cachambi        2      0       0    50   \n",
       "5   Casa de Condomínio          Barra da Tijuca        5      4       5   750   \n",
       "6   Casa de Condomínio                    Ramos        2      2       0    65   \n",
       "7          Apartamento                   Grajaú        2      1       0    70   \n",
       "8          Apartamento      Lins de Vasconcelos        3      1       1    90   \n",
       "9          Apartamento               Copacabana        1      0       1    40   \n",
       "10           Quitinete               Copacabana        1      0       0    27   \n",
       "11         Apartamento               Copacabana        4      3       1   243   \n",
       "12  Casa de Condomínio                  Taquara        3      1       1   115   \n",
       "13         Apartamento  Freguesia (Jacarepaguá)        3      0       0    54   \n",
       "14         Apartamento          Barra da Tijuca        2      1       1    67   \n",
       "\n",
       "      Valor  Condominio   IPTU  Valor_Bruto  Valor_m2   Tipos_casa  \n",
       "0    1700.0       500.0   60.0       2260.0     42.50  Apartamento  \n",
       "1    7000.0         0.0    0.0       7000.0     70.00         Casa  \n",
       "2     800.0       390.0   20.0       1210.0     53.33  Apartamento  \n",
       "3     800.0       230.0    0.0       1030.0     16.67  Apartamento  \n",
       "4    1300.0       301.0   17.0       1618.0     26.00  Apartamento  \n",
       "5   22000.0         0.0    0.0      22000.0     29.33         Casa  \n",
       "6    1000.0         0.0    0.0       1000.0     15.38         Casa  \n",
       "7    1500.0       642.0   74.0       2216.0     21.43  Apartamento  \n",
       "8    1500.0       455.0   14.0       1969.0     16.67  Apartamento  \n",
       "9    2000.0       561.0   50.0       2611.0     50.00  Apartamento  \n",
       "10   1800.0       501.0    0.0       2301.0     66.67  Apartamento  \n",
       "11  13000.0      2000.0  803.0      15803.0     53.50  Apartamento  \n",
       "12   2000.0         0.0    0.0       2000.0     17.39         Casa  \n",
       "13    950.0       300.0   28.0       1278.0     17.59  Apartamento  \n",
       "14   1700.0       589.0  147.0       2436.0     25.37  Apartamento  "
      ]
     },
     "execution_count": 36,
     "metadata": {},
     "output_type": "execute_result"
    }
   ],
   "source": [
    "dados_new.head(15)"
   ]
  },
  {
   "cell_type": "code",
   "execution_count": 37,
   "id": "c41f19df-923e-48be-bc37-9636418cc209",
   "metadata": {},
   "outputs": [],
   "source": [
    "# Levando-se em consideração a quantidade de registros cujos valores de condomínio e IPTU são iguais a zero, decidiu-se\n",
    "# eliminar a variável 'Valor_Bruto':\n",
    "\n",
    "dados_new.drop(['Valor_Bruto'], axis = 1, inplace = True)"
   ]
  },
  {
   "cell_type": "code",
   "execution_count": 38,
   "id": "90f0e85f-5eed-404f-8058-a7ef5ef73df9",
   "metadata": {},
   "outputs": [
    {
     "data": {
      "text/html": [
       "<div>\n",
       "<style scoped>\n",
       "    .dataframe tbody tr th:only-of-type {\n",
       "        vertical-align: middle;\n",
       "    }\n",
       "\n",
       "    .dataframe tbody tr th {\n",
       "        vertical-align: top;\n",
       "    }\n",
       "\n",
       "    .dataframe thead th {\n",
       "        text-align: right;\n",
       "    }\n",
       "</style>\n",
       "<table border=\"1\" class=\"dataframe\">\n",
       "  <thead>\n",
       "    <tr style=\"text-align: right;\">\n",
       "      <th></th>\n",
       "      <th>Tipo</th>\n",
       "      <th>Bairro</th>\n",
       "      <th>Quartos</th>\n",
       "      <th>Vagas</th>\n",
       "      <th>Suites</th>\n",
       "      <th>Area</th>\n",
       "      <th>Valor</th>\n",
       "      <th>Condominio</th>\n",
       "      <th>IPTU</th>\n",
       "      <th>Valor_m2</th>\n",
       "      <th>Tipos_casa</th>\n",
       "    </tr>\n",
       "  </thead>\n",
       "  <tbody>\n",
       "    <tr>\n",
       "      <th>0</th>\n",
       "      <td>Quitinete</td>\n",
       "      <td>Copacabana</td>\n",
       "      <td>1</td>\n",
       "      <td>0</td>\n",
       "      <td>0</td>\n",
       "      <td>40</td>\n",
       "      <td>1700.0</td>\n",
       "      <td>500.0</td>\n",
       "      <td>60.0</td>\n",
       "      <td>42.50</td>\n",
       "      <td>Apartamento</td>\n",
       "    </tr>\n",
       "    <tr>\n",
       "      <th>1</th>\n",
       "      <td>Casa</td>\n",
       "      <td>Jardim Botânico</td>\n",
       "      <td>2</td>\n",
       "      <td>0</td>\n",
       "      <td>1</td>\n",
       "      <td>100</td>\n",
       "      <td>7000.0</td>\n",
       "      <td>0.0</td>\n",
       "      <td>0.0</td>\n",
       "      <td>70.00</td>\n",
       "      <td>Casa</td>\n",
       "    </tr>\n",
       "    <tr>\n",
       "      <th>2</th>\n",
       "      <td>Apartamento</td>\n",
       "      <td>Centro</td>\n",
       "      <td>1</td>\n",
       "      <td>0</td>\n",
       "      <td>0</td>\n",
       "      <td>15</td>\n",
       "      <td>800.0</td>\n",
       "      <td>390.0</td>\n",
       "      <td>20.0</td>\n",
       "      <td>53.33</td>\n",
       "      <td>Apartamento</td>\n",
       "    </tr>\n",
       "    <tr>\n",
       "      <th>3</th>\n",
       "      <td>Apartamento</td>\n",
       "      <td>Higienópolis</td>\n",
       "      <td>1</td>\n",
       "      <td>0</td>\n",
       "      <td>0</td>\n",
       "      <td>48</td>\n",
       "      <td>800.0</td>\n",
       "      <td>230.0</td>\n",
       "      <td>0.0</td>\n",
       "      <td>16.67</td>\n",
       "      <td>Apartamento</td>\n",
       "    </tr>\n",
       "    <tr>\n",
       "      <th>4</th>\n",
       "      <td>Apartamento</td>\n",
       "      <td>Cachambi</td>\n",
       "      <td>2</td>\n",
       "      <td>0</td>\n",
       "      <td>0</td>\n",
       "      <td>50</td>\n",
       "      <td>1300.0</td>\n",
       "      <td>301.0</td>\n",
       "      <td>17.0</td>\n",
       "      <td>26.00</td>\n",
       "      <td>Apartamento</td>\n",
       "    </tr>\n",
       "  </tbody>\n",
       "</table>\n",
       "</div>"
      ],
      "text/plain": [
       "          Tipo           Bairro  Quartos  Vagas  Suites  Area   Valor  \\\n",
       "0    Quitinete       Copacabana        1      0       0    40  1700.0   \n",
       "1         Casa  Jardim Botânico        2      0       1   100  7000.0   \n",
       "2  Apartamento           Centro        1      0       0    15   800.0   \n",
       "3  Apartamento     Higienópolis        1      0       0    48   800.0   \n",
       "4  Apartamento         Cachambi        2      0       0    50  1300.0   \n",
       "\n",
       "   Condominio  IPTU  Valor_m2   Tipos_casa  \n",
       "0       500.0  60.0     42.50  Apartamento  \n",
       "1         0.0   0.0     70.00         Casa  \n",
       "2       390.0  20.0     53.33  Apartamento  \n",
       "3       230.0   0.0     16.67  Apartamento  \n",
       "4       301.0  17.0     26.00  Apartamento  "
      ]
     },
     "execution_count": 38,
     "metadata": {},
     "output_type": "execute_result"
    }
   ],
   "source": [
    "dados_new.head()"
   ]
  },
  {
   "cell_type": "code",
   "execution_count": 39,
   "id": "5e63251e-e2cd-45ed-b6ef-5557a73a88a3",
   "metadata": {},
   "outputs": [],
   "source": [
    "dados_new = dados_new.to_csv('data/Aluguel_new.csv', sep = ';', index = False)"
   ]
  },
  {
   "cell_type": "markdown",
   "id": "a38c48b9-8542-4a8e-80ab-94ee34524f62",
   "metadata": {},
   "source": [
    "-----------------------------------------------------------------------------------------------------------------------------"
   ]
  },
  {
   "cell_type": "markdown",
   "id": "97b737b4-b83a-4a9a-a0be-b90288254939",
   "metadata": {},
   "source": [
    "#### PARTE V:\n",
    "\n",
    "* Identificando e removendo Outliers."
   ]
  },
  {
   "cell_type": "markdown",
   "id": "cc06a0c5-83c9-45de-8080-14457d0937de",
   "metadata": {},
   "source": [
    "-----------------------------------------------------------------------------------------------------------------------------"
   ]
  },
  {
   "cell_type": "code",
   "execution_count": 41,
   "id": "814891cc-c99f-4e61-a249-afb72fa7e912",
   "metadata": {},
   "outputs": [],
   "source": [
    "dados_new = pd.read_csv('data/Aluguel_new.csv', sep = ';')"
   ]
  },
  {
   "cell_type": "code",
   "execution_count": 45,
   "id": "9e20a130-dcd4-45ad-8151-75ae836da184",
   "metadata": {},
   "outputs": [
    {
     "data": {
      "text/plain": [
       "count      21826.00\n",
       "mean        5046.17\n",
       "std        32988.54\n",
       "min          100.00\n",
       "25%         1600.00\n",
       "50%         2700.00\n",
       "75%         5500.00\n",
       "max      4500000.00\n",
       "Name: Valor, dtype: float64"
      ]
     },
     "execution_count": 45,
     "metadata": {},
     "output_type": "execute_result"
    }
   ],
   "source": [
    "# Investigação inicial sobre possíveis outliers:\n",
    "\n",
    "dados_new['Valor'].describe().round(2)"
   ]
  },
  {
   "cell_type": "markdown",
   "id": "3ff80ec9-37f8-4ceb-9c20-7e0d1d4a611e",
   "metadata": {},
   "source": [
    "####"
   ]
  },
  {
   "cell_type": "markdown",
   "id": "47ed86a9-9bb6-4142-9a04-f56556dbec26",
   "metadata": {},
   "source": [
    "##### Considerações sobre os valores acima:\n",
    "\n",
    "> O desvio padrão é elevado;\n",
    "\n",
    "> O valor máximo (4.500.000,00 reais), levando-se em consideração valores referentes a aluguéis, é discrepante."
   ]
  },
  {
   "cell_type": "markdown",
   "id": "388c5000-61e9-4f69-9a44-05794e843bf2",
   "metadata": {},
   "source": [
    "####"
   ]
  },
  {
   "cell_type": "markdown",
   "id": "bb2be48d-6086-4e8a-8b29-f515ba8bc14d",
   "metadata": {},
   "source": [
    "#### Criando faixas de valor:\n",
    "\n",
    "> Imóveis com valor de aluguel entre: 0 e 2000 reais;\n",
    "\n",
    "> Imóveis com valor de aluguel entre: 2000 e 5000 reais;\n",
    "\n",
    "> Imóveis com valor de aluguel entre: 5000 e 8000 reais;\n",
    "\n",
    "> Imóveis com valor de aluguel entre: 8000 e 10000 reais;\n",
    "\n",
    "> Imóveis com valor de aluguel entre 10000 e 30000 reais;\n",
    "\n",
    "> Imóveis com valor de aluguel entre 30000 e 50000 reais;\n",
    "\n",
    "> Imóveis com valor de aluguel maiores que 50mil reais;"
   ]
  },
  {
   "cell_type": "code",
   "execution_count": 57,
   "id": "882f3284-7859-4c53-92d5-be269b7bae0d",
   "metadata": {},
   "outputs": [],
   "source": [
    "classes = [0, 2000, 5000, 8000, 10000, 30000, 50000, 99999999]"
   ]
  },
  {
   "cell_type": "code",
   "execution_count": 54,
   "id": "061a1253-2212-4291-8931-72a4a51b896d",
   "metadata": {},
   "outputs": [
    {
     "data": {
      "text/plain": [
       "0           (0, 2000]\n",
       "1        (5000, 8000]\n",
       "2           (0, 2000]\n",
       "3           (0, 2000]\n",
       "4           (0, 2000]\n",
       "             ...     \n",
       "21821       (0, 2000]\n",
       "21822       (0, 2000]\n",
       "21823       (0, 2000]\n",
       "21824       (0, 2000]\n",
       "21825    (2000, 5000]\n",
       "Name: Valor, Length: 21826, dtype: category\n",
       "Categories (7, interval[int64]): [(0, 2000] < (2000, 5000] < (5000, 8000] < (8000, 10000] < (10000, 30000] < (30000, 50000] < (50000, 99999999]]"
      ]
     },
     "execution_count": 54,
     "metadata": {},
     "output_type": "execute_result"
    }
   ],
   "source": [
    "# Categorizando:\n",
    "\n",
    "alugueis = pd.cut(dados_new['Valor'], classes)\n",
    "alugueis"
   ]
  },
  {
   "cell_type": "code",
   "execution_count": 55,
   "id": "bbe3d17f-b5be-4096-aef0-98e907c2affc",
   "metadata": {},
   "outputs": [
    {
     "data": {
      "text/plain": [
       "(0, 2000]            8237\n",
       "(2000, 5000]         7967\n",
       "(5000, 8000]         2492\n",
       "(10000, 30000]       2053\n",
       "(8000, 10000]         956\n",
       "(30000, 50000]        102\n",
       "(50000, 99999999]      19\n",
       "Name: Valor, dtype: int64"
      ]
     },
     "execution_count": 55,
     "metadata": {},
     "output_type": "execute_result"
    }
   ],
   "source": [
    "# Contagem das categorias:\n",
    "\n",
    "pd.value_counts(alugueis)"
   ]
  },
  {
   "cell_type": "code",
   "execution_count": 56,
   "id": "7690d359-b36b-42e8-8d27-4521cfd430eb",
   "metadata": {},
   "outputs": [
    {
     "data": {
      "text/plain": [
       "Aluguel entre: 0 e 2000 reais           8237\n",
       "Aluguel entre: 2000 e 5000 reais        7967\n",
       "Aluguel entre: 5000 e 8000 reais        2492\n",
       "Aluguel entre: 10 mil e 30 mil reais    2053\n",
       "Aluguel entre: 8000 e 10 mil reais       956\n",
       "Aluguel entre: 30 mil e 50 mil reais     102\n",
       "Aluguel acima de 50 mil reais             19\n",
       "Name: Valor, dtype: int64"
      ]
     },
     "execution_count": 56,
     "metadata": {},
     "output_type": "execute_result"
    }
   ],
   "source": [
    "# Formatando o reultado:\n",
    "\n",
    "labels = ['Aluguel entre: 0 e 2000 reais', 'Aluguel entre: 2000 e 5000 reais', 'Aluguel entre: 5000 e 8000 reais',\n",
    "         'Aluguel entre: 8000 e 10 mil reais', 'Aluguel entre: 10 mil e 30 mil reais', 'Aluguel entre: 30 mil e 50 mil reais',\n",
    "         'Aluguel acima de 50 mil reais']\n",
    "\n",
    "alugueis = pd.cut(dados_new['Valor'], classes, labels = labels, include_lowest = True)\n",
    "pd.value_counts(alugueis)"
   ]
  },
  {
   "cell_type": "code",
   "execution_count": 64,
   "id": "34fb2bf1-2ad9-4997-b3fa-0464e8422a46",
   "metadata": {},
   "outputs": [
    {
     "data": {
      "text/plain": [
       "<AxesSubplot:>"
      ]
     },
     "execution_count": 64,
     "metadata": {},
     "output_type": "execute_result"
    },
    {
     "data": {
      "image/png": "[encoded data removed]",
      "text/plain": [
       "<Figure size 1080x576 with 1 Axes>"
      ]
     },
     "metadata": {
      "needs_background": "light"
     },
     "output_type": "display_data"
    }
   ],
   "source": [
    "# Investigação sobre outliers utilizando boxplot:\n",
    "\n",
    "dados_new.boxplot(['Valor'])"
   ]
  },
  {
   "cell_type": "markdown",
   "id": "a001d0e7-9d4a-4682-bff0-08fecc0e25e0",
   "metadata": {},
   "source": [
    "#### Nota-se, superficialmente, que há valores de aluguel muito acima da média em nossa base de dados, como já verificado em análise anterior."
   ]
  },
  {
   "cell_type": "code",
   "execution_count": 62,
   "id": "b029871f-8044-47bf-9e77-f0fa69bd7722",
   "metadata": {},
   "outputs": [
    {
     "data": {
      "text/html": [
       "<div>\n",
       "<style scoped>\n",
       "    .dataframe tbody tr th:only-of-type {\n",
       "        vertical-align: middle;\n",
       "    }\n",
       "\n",
       "    .dataframe tbody tr th {\n",
       "        vertical-align: top;\n",
       "    }\n",
       "\n",
       "    .dataframe thead th {\n",
       "        text-align: right;\n",
       "    }\n",
       "</style>\n",
       "<table border=\"1\" class=\"dataframe\">\n",
       "  <thead>\n",
       "    <tr style=\"text-align: right;\">\n",
       "      <th></th>\n",
       "      <th>Tipo</th>\n",
       "      <th>Bairro</th>\n",
       "      <th>Quartos</th>\n",
       "      <th>Vagas</th>\n",
       "      <th>Suites</th>\n",
       "      <th>Area</th>\n",
       "      <th>Valor</th>\n",
       "      <th>Condominio</th>\n",
       "      <th>IPTU</th>\n",
       "      <th>Valor_m2</th>\n",
       "      <th>Tipos_casa</th>\n",
       "    </tr>\n",
       "  </thead>\n",
       "  <tbody>\n",
       "    <tr>\n",
       "      <th>7629</th>\n",
       "      <td>Apartamento</td>\n",
       "      <td>Barra da Tijuca</td>\n",
       "      <td>1</td>\n",
       "      <td>1</td>\n",
       "      <td>0</td>\n",
       "      <td>65</td>\n",
       "      <td>600000.0</td>\n",
       "      <td>980.0</td>\n",
       "      <td>120.0</td>\n",
       "      <td>9230.77</td>\n",
       "      <td>Apartamento</td>\n",
       "    </tr>\n",
       "    <tr>\n",
       "      <th>10636</th>\n",
       "      <td>Casa de Condomínio</td>\n",
       "      <td>Freguesia (Jacarepaguá)</td>\n",
       "      <td>4</td>\n",
       "      <td>2</td>\n",
       "      <td>3</td>\n",
       "      <td>163</td>\n",
       "      <td>800000.0</td>\n",
       "      <td>900.0</td>\n",
       "      <td>0.0</td>\n",
       "      <td>4907.98</td>\n",
       "      <td>Casa</td>\n",
       "    </tr>\n",
       "    <tr>\n",
       "      <th>12661</th>\n",
       "      <td>Apartamento</td>\n",
       "      <td>Freguesia (Jacarepaguá)</td>\n",
       "      <td>2</td>\n",
       "      <td>2</td>\n",
       "      <td>1</td>\n",
       "      <td>150</td>\n",
       "      <td>550000.0</td>\n",
       "      <td>850.0</td>\n",
       "      <td>150.0</td>\n",
       "      <td>3666.67</td>\n",
       "      <td>Apartamento</td>\n",
       "    </tr>\n",
       "    <tr>\n",
       "      <th>13846</th>\n",
       "      <td>Apartamento</td>\n",
       "      <td>Recreio dos Bandeirantes</td>\n",
       "      <td>3</td>\n",
       "      <td>2</td>\n",
       "      <td>1</td>\n",
       "      <td>167</td>\n",
       "      <td>1250000.0</td>\n",
       "      <td>1186.0</td>\n",
       "      <td>320.0</td>\n",
       "      <td>7485.03</td>\n",
       "      <td>Apartamento</td>\n",
       "    </tr>\n",
       "    <tr>\n",
       "      <th>15520</th>\n",
       "      <td>Apartamento</td>\n",
       "      <td>Botafogo</td>\n",
       "      <td>4</td>\n",
       "      <td>1</td>\n",
       "      <td>1</td>\n",
       "      <td>300</td>\n",
       "      <td>4500000.0</td>\n",
       "      <td>1100.0</td>\n",
       "      <td>0.0</td>\n",
       "      <td>15000.00</td>\n",
       "      <td>Apartamento</td>\n",
       "    </tr>\n",
       "  </tbody>\n",
       "</table>\n",
       "</div>"
      ],
      "text/plain": [
       "                     Tipo                    Bairro  Quartos  Vagas  Suites  \\\n",
       "7629          Apartamento           Barra da Tijuca        1      1       0   \n",
       "10636  Casa de Condomínio   Freguesia (Jacarepaguá)        4      2       3   \n",
       "12661         Apartamento   Freguesia (Jacarepaguá)        2      2       1   \n",
       "13846         Apartamento  Recreio dos Bandeirantes        3      2       1   \n",
       "15520         Apartamento                  Botafogo        4      1       1   \n",
       "\n",
       "       Area      Valor  Condominio   IPTU  Valor_m2   Tipos_casa  \n",
       "7629     65   600000.0       980.0  120.0   9230.77  Apartamento  \n",
       "10636   163   800000.0       900.0    0.0   4907.98         Casa  \n",
       "12661   150   550000.0       850.0  150.0   3666.67  Apartamento  \n",
       "13846   167  1250000.0      1186.0  320.0   7485.03  Apartamento  \n",
       "15520   300  4500000.0      1100.0    0.0  15000.00  Apartamento  "
      ]
     },
     "execution_count": 62,
     "metadata": {},
     "output_type": "execute_result"
    }
   ],
   "source": [
    "# Mostrando dados com valor de aluguél elevado, ou seja, possivelmente distorções:\n",
    "\n",
    "dados_new[dados_new['Valor']>=500000]"
   ]
  },
  {
   "cell_type": "markdown",
   "id": "39510c3c-d195-451f-8aad-0908ebbedcea",
   "metadata": {},
   "source": [
    "### Investigação sobre outliers utilizando quartis:"
   ]
  },
  {
   "cell_type": "markdown",
   "id": "71ae9b89-044c-4800-899c-5ae015c52d82",
   "metadata": {},
   "source": [
    "#### Quartis:\n",
    "\n",
    "#### Num conjunto de dados, podemos dividi-lo em quartis, onde:\n",
    "\n",
    "* Q1: Primeiro quartil. 25% dos dados se encontram abaixo dessa marca. 75% acima.\n",
    "* Q3: Terceiro quartil. 75% dos dados se encontram abaixo dessa marca. 25% acima.\n",
    "* IIQ: Intervalo inter-quartis. Diferença entre o Q3 e o Q1.\n",
    "\n",
    "#### Valores que se encontram abaixo da marca Q1 - 1.5*IIQ são outliers.\n",
    "#### Valores que se encontram acima da marca Q3 + 1.5*IIQ são outliers."
   ]
  },
  {
   "cell_type": "markdown",
   "id": "946c05d9-3b57-442f-b1be-176b7316d229",
   "metadata": {},
   "source": [
    "![Figura Quartis](compressed_box-plot.png)"
   ]
  },
  {
   "cell_type": "code",
   "execution_count": 72,
   "id": "1dd6f3f3-345a-4ea3-856c-12f0221a0e02",
   "metadata": {},
   "outputs": [],
   "source": [
    "# Calculando o Q1, Q3 e IIQ:\n",
    "\n",
    "valor = dados_new['Valor']\n",
    "Q1 = valor.quantile(.25)\n",
    "Q3 = valor.quantile(.75)\n",
    "IIQ = Q3 - Q1"
   ]
  },
  {
   "cell_type": "code",
   "execution_count": 73,
   "id": "932af3a9-0ac3-47c0-b436-11641f83492f",
   "metadata": {},
   "outputs": [],
   "source": [
    "# Calculando o limite inferior e superior:\n",
    "\n",
    "lim_inferior = Q1 - (1.5*IIQ)\n",
    "lim_superior = Q3 + (1.5*IIQ)"
   ]
  },
  {
   "cell_type": "code",
   "execution_count": 74,
   "id": "4032a8ea-576f-4066-b369-45829f76cf90",
   "metadata": {},
   "outputs": [],
   "source": [
    "# Fazendo a seleção dos dados que estão dentro dos limites inferior e superior:\n",
    "\n",
    "selecao = (valor >= lim_inferior) & (valor <= lim_superior)\n",
    "\n",
    "# Criação de uma variável auxiliar para não modificar o dataset, aplicando a selecao:\n",
    "\n",
    "dados_limites= dados_new[selecao]"
   ]
  },
  {
   "cell_type": "code",
   "execution_count": 75,
   "id": "d0870364-77b1-48f0-bb46-15c955d30b77",
   "metadata": {},
   "outputs": [
    {
     "data": {
      "text/plain": [
       "<AxesSubplot:>"
      ]
     },
     "execution_count": 75,
     "metadata": {},
     "output_type": "execute_result"
    },
    {
     "data": {
      "image/png": "[encoded data removed]",
      "text/plain": [
       "<Figure size 1080x576 with 1 Axes>"
      ]
     },
     "metadata": {
      "needs_background": "light"
     },
     "output_type": "display_data"
    }
   ],
   "source": [
    "# Refazendo o boxplot, mas agora sem as discrepâncias:\n",
    "\n",
    "dados_limites.boxplot(['Valor'])"
   ]
  },
  {
   "cell_type": "code",
   "execution_count": 76,
   "id": "9b9348d6-cc1a-4378-ad21-dcecbb64aa99",
   "metadata": {},
   "outputs": [
    {
     "data": {
      "text/plain": [
       "<AxesSubplot:title={'center':'Valor'}, xlabel='[Tipo]'>"
      ]
     },
     "execution_count": 76,
     "metadata": {},
     "output_type": "execute_result"
    },
    {
     "data": {
      "image/png": "[encoded data removed]",
      "text/plain": [
       "<Figure size 1080x576 with 1 Axes>"
      ]
     },
     "metadata": {
      "needs_background": "light"
     },
     "output_type": "display_data"
    }
   ],
   "source": [
    "# Construindo um boxplot por tipo:\n",
    "\n",
    "dados_new.boxplot(['Valor'], by = ['Tipo'])"
   ]
  },
  {
   "cell_type": "code",
   "execution_count": 77,
   "id": "7dd49a33-6230-4ce3-8fe9-f8da4e9b4231",
   "metadata": {},
   "outputs": [
    {
     "data": {
      "text/plain": [
       "{'Apartamento': [2, 3, 4, 7, 8, 9, 11, 13, 14, 15, 17, 18, 19, 20, 21, 23, 24, 25, 26, 27, 29, 30, 31, 32, 33, 34, 35, 36, 37, 38, 39, 40, 41, 43, 44, 45, 46, 47, 48, 49, 50, 51, 52, 53, 55, 56, 59, 60, 61, 62, 63, 64, 65, 66, 67, 68, 69, 70, 72, 73, 74, 75, 76, 77, 79, 80, 82, 83, 84, 85, 87, 88, 89, 90, 91, 92, 93, 94, 95, 97, 98, 99, 102, 103, 104, 105, 106, 107, 108, 109, 110, 111, 112, 113, 114, 115, 116, 117, 118, 119, ...], 'Casa': [1, 22, 54, 57, 96, 100, 144, 160, 180, 238, 250, 253, 264, 286, 310, 316, 334, 339, 357, 378, 385, 399, 424, 434, 474, 475, 481, 511, 542, 543, 567, 571, 572, 618, 621, 630, 635, 636, 660, 676, 700, 721, 724, 760, 771, 780, 856, 873, 937, 982, 1029, 1036, 1118, 1123, 1125, 1157, 1178, 1249, 1256, 1316, 1335, 1350, 1371, 1412, 1426, 1430, 1440, 1445, 1472, 1475, 1488, 1586, 1604, 1656, 1662, 1666, 1671, 1684, 1709, 1717, 1762, 1810, 1835, 1875, 1905, 1933, 1942, 1960, 2019, 2039, 2056, 2075, 2101, 2107, 2108, 2133, 2170, 2201, 2204, 2211, ...], 'Casa de Condomínio': [5, 6, 12, 16, 42, 58, 166, 168, 183, 207, 222, 246, 259, 265, 279, 291, 308, 336, 391, 401, 440, 445, 449, 502, 556, 609, 622, 657, 663, 673, 707, 723, 781, 807, 809, 863, 883, 887, 934, 958, 961, 979, 986, 992, 1004, 1008, 1028, 1082, 1095, 1112, 1129, 1148, 1158, 1182, 1220, 1227, 1229, 1239, 1246, 1308, 1312, 1320, 1341, 1356, 1406, 1438, 1439, 1467, 1495, 1531, 1560, 1582, 1601, 1615, 1646, 1713, 1722, 1728, 1756, 1764, 1770, 1802, 1860, 1880, 1883, 1899, 1938, 2031, 2033, 2071, 2152, 2168, 2200, 2224, 2246, 2248, 2327, 2333, 2357, 2371, ...], 'Casa de Vila': [81, 212, 220, 303, 332, 697, 822, 844, 918, 1012, 1353, 1362, 1447, 1491, 1553, 1639, 1669, 1703, 1769, 2087, 2249, 2267, 2446, 2533, 2547, 2605, 2641, 2727, 2840, 2872, 2977, 2984, 3017, 3025, 3300, 3426, 3523, 3703, 3823, 3855, 3858, 3863, 4094, 4146, 4153, 4165, 4340, 4444, 4826, 5151, 5170, 5175, 5198, 5294, 5410, 5535, 5597, 5724, 5751, 5911, 5950, 5995, 6008, 6031, 6049, 6201, 6236, 6300, 6348, 6402, 6429, 6754, 6795, 6939, 6957, 7033, 7091, 7146, 7296, 7697, 7712, 7778, 7837, 7843, 7968, 8004, 8136, 8427, 8452, 8578, 9229, 9234, 9319, 9476, 9619, 9624, 9716, 9739, 9784, 9867, ...], 'Quitinete': [0, 10, 28, 71, 78, 86, 101, 120, 146, 174, 191, 206, 223, 248, 301, 314, 327, 344, 355, 425, 426, 427, 460, 486, 532, 633, 650, 680, 808, 870, 917, 919, 924, 928, 939, 944, 970, 1001, 1016, 1044, 1070, 1156, 1170, 1172, 1184, 1192, 1196, 1212, 1217, 1261, 1274, 1334, 1351, 1360, 1393, 1404, 1407, 1483, 1496, 1510, 1543, 1595, 1611, 1613, 1633, 1696, 1697, 1706, 1733, 1753, 1772, 1824, 1839, 1853, 1910, 2013, 2085, 2098, 2125, 2142, 2149, 2156, 2160, 2227, 2237, 2239, 2258, 2272, 2326, 2362, 2382, 2383, 2384, 2394, 2445, 2457, 2462, 2493, 2507, 2630, ...]}"
      ]
     },
     "execution_count": 77,
     "metadata": {},
     "output_type": "execute_result"
    }
   ],
   "source": [
    "# Dividindo em grupos: Criando grupos de 'Tipos', acompanhados de seus valores.\n",
    "\n",
    "grupo_tipo = dados_new.groupby('Tipo')['Valor']\n",
    "grupo_tipo.groups"
   ]
  },
  {
   "cell_type": "code",
   "execution_count": 78,
   "id": "427c79aa-f37e-4c5a-921a-0b649cfec4ce",
   "metadata": {},
   "outputs": [],
   "source": [
    "# Criando os dados estatísticos para cada tipo de imóvel:\n",
    "\n",
    "Q1 = grupo_tipo.quantile(.25)\n",
    "Q3 = grupo_tipo.quantile(.75)\n",
    "IIQ = Q3 - Q1\n",
    "lim_inferior = Q1 - (1.5*IIQ)\n",
    "lim_superior = Q3 + (1.5*IIQ)"
   ]
  },
  {
   "cell_type": "code",
   "execution_count": 79,
   "id": "885c2e4b-cfd2-4147-a63d-e633165bf3f2",
   "metadata": {},
   "outputs": [
    {
     "data": {
      "text/plain": [
       "Tipo\n",
       "Apartamento            9950.0\n",
       "Casa                  22850.0\n",
       "Casa de Condomínio    32125.0\n",
       "Casa de Vila           3375.0\n",
       "Quitinete              2400.0\n",
       "Name: Valor, dtype: float64"
      ]
     },
     "execution_count": 79,
     "metadata": {},
     "output_type": "execute_result"
    }
   ],
   "source": [
    "# Verificando o limite superior de cada Tipo de imóvel:\n",
    "\n",
    "lim_superior"
   ]
  },
  {
   "cell_type": "markdown",
   "id": "b6a55a7b-49c2-4d0c-87b9-341ae4b5d4a7",
   "metadata": {},
   "source": [
    "#### Interpretando os dados acima:\n",
    "\n",
    "* Para o tipo 'Apartamento', os valores de aluguel que estiverem acima de 9950 reais serão considerados outliers.\n",
    "* Para o tipo 'Casa', os valores de aluguel que estiverem acima de 22850 reais serão considerados outliers.\n",
    "* Para o tipo 'Casa de Condominio', os valores de aluguel que estiverem acima de 32125 reais serão considerados outliers.\n",
    "* Para o tipo 'Casa de Vila', os valores de aluguel que estiverem acima de 3375 reais serão considerados outliers.\n",
    "* Para o tipo 'Quitinete', os valores de aluguel que estiverem acima de 2400 reais serão considerados outliers."
   ]
  },
  {
   "cell_type": "code",
   "execution_count": 80,
   "id": "86e59733-0c51-406f-8408-5442c79e51d3",
   "metadata": {},
   "outputs": [],
   "source": [
    "# Construindo um novo dataframe, livre de outliers:\n",
    "\n",
    "dados_limites = pd.DataFrame()\n",
    "for typo in grupo_tipo.groups.keys():\n",
    "    eh_tipo = dados_new['Tipo'] == typo\n",
    "    eh_dentro_limite = (dados_new['Valor'] >= lim_inferior[typo]) & (dados_new['Valor'] <= lim_superior[typo])\n",
    "    selecao = eh_tipo & eh_dentro_limite\n",
    "    dados_selecao = dados_new[selecao]\n",
    "    dados_limites = pd.concat([dados_limites, dados_selecao])"
   ]
  },
  {
   "cell_type": "code",
   "execution_count": 81,
   "id": "2899fb65-acad-4a74-bf1d-8fc39d7779ef",
   "metadata": {},
   "outputs": [
    {
     "data": {
      "text/plain": [
       "<AxesSubplot:title={'center':'Valor'}, xlabel='[Tipo]'>"
      ]
     },
     "execution_count": 81,
     "metadata": {},
     "output_type": "execute_result"
    },
    {
     "data": {
      "image/png": "[encoded data removed]",
      "text/plain": [
       "<Figure size 1080x576 with 1 Axes>"
      ]
     },
     "metadata": {
      "needs_background": "light"
     },
     "output_type": "display_data"
    }
   ],
   "source": [
    "# Construindo um boxplot do novo dataframe:\n",
    "\n",
    "dados_limites.boxplot(['Valor'], by = ['Tipo'])"
   ]
  },
  {
   "cell_type": "code",
   "execution_count": 83,
   "id": "480db776-d746-46ee-bf03-b8acb0c95b25",
   "metadata": {},
   "outputs": [],
   "source": [
    "# Salvando o dataframe novo, livre de outliers:\n",
    "\n",
    "dados_limites.to_csv('data/aluguel_new.csv', sep = ';', index = False)"
   ]
  },
  {
   "cell_type": "code",
   "execution_count": null,
   "id": "854f875e-201b-4afd-9dca-854fd797d4a4",
   "metadata": {},
   "outputs": [],
   "source": []
  }
 ],
 "metadata": {
  "kernelspec": {
   "display_name": "Python 3",
   "language": "python",
   "name": "python3"
  },
  "language_info": {
   "codemirror_mode": {
    "name": "ipython",
    "version": 3
   },
   "file_extension": ".py",
   "mimetype": "text/x-python",
   "name": "python",
   "nbconvert_exporter": "python",
   "pygments_lexer": "ipython3",
   "version": "3.9.1"
  }
 },
 "nbformat": 4,
 "nbformat_minor": 5
}
