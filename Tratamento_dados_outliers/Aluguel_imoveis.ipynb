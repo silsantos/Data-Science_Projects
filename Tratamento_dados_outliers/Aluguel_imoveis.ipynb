{
 "cells": [
  {
   "cell_type": "markdown",
   "id": "9eb87317-752c-4b4d-9fb8-228af95c08c6",
   "metadata": {},
   "source": [
    "# Notebook destinado ao tratamento de dados e identificação de outliers do dataset \"Aluguel_csv\"."
   ]
  },
  {
   "cell_type": "markdown",
   "id": "9e481967-1ed6-4e30-b394-6abb5eb593c8",
   "metadata": {},
   "source": [
    "-----------------------------------------------------------------------------------------------------------------------------"
   ]
  },
  {
   "cell_type": "markdown",
   "id": "24d0e0b9-e3de-4dcd-abc6-b48bafe623b8",
   "metadata": {},
   "source": [
    "## Sobre a base de dados:\n",
    "\n",
    "### O referido dataset contém informações de imóveis localizados na cidade do Rio de Janeiro, com dados sobre:\n",
    "\n",
    "* Tipo de imóvel: Apartamento, Casa, Casa de Condominio, Indústria, Terreno, Quitinete, Casa de Vila, entre outros.\n",
    "* Bairro\n",
    "* Número de quartos\n",
    "* Vagas de Garagem\n",
    "* Suítes\n",
    "* Área útil\n",
    "* Valor do aluguel do imóvel\n",
    "* Valor do Condomínio\n",
    "* IPTU"
   ]
  },
  {
   "cell_type": "markdown",
   "id": "ed39ca89-cf55-4b59-af2f-6f1ae09bffaa",
   "metadata": {},
   "source": [
    "-----------------------------------------------------------------------------------------------------------------------------"
   ]
  },
  {
   "cell_type": "markdown",
   "id": "9feb71ef-f8d6-4c7b-966d-d5d1a3340e01",
   "metadata": {},
   "source": [
    "#### Neste Notebook, levaremos em consideração apenas imóveis residenciais dos tipos:\n",
    "\n",
    "* Quitinete\n",
    "* Casa\n",
    "* Apartamento\n",
    "* Casa de Condomínio\n",
    "* Casa de Vila\n",
    "\n",
    "#### Os demais tipos de imóvel serão desconsiderados."
   ]
  },
  {
   "cell_type": "markdown",
   "id": "182e7a98-742b-495f-a564-65270cdb5db9",
   "metadata": {},
   "source": [
    "-----------------------------------------------------------------------------------------------------------------------------"
   ]
  },
  {
   "cell_type": "code",
   "execution_count": null,
   "id": "ae6625b1-9700-466a-a802-b7e4840ce689",
   "metadata": {},
   "outputs": [],
   "source": []
  }
 ],
 "metadata": {
  "kernelspec": {
   "display_name": "Python 3",
   "language": "python",
   "name": "python3"
  },
  "language_info": {
   "codemirror_mode": {
    "name": "ipython",
    "version": 3
   },
   "file_extension": ".py",
   "mimetype": "text/x-python",
   "name": "python",
   "nbconvert_exporter": "python",
   "pygments_lexer": "ipython3",
   "version": "3.9.1"
  }
 },
 "nbformat": 4,
 "nbformat_minor": 5
}
