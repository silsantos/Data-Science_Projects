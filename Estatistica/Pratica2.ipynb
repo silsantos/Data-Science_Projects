{
 "cells": [
  {
   "cell_type": "markdown",
   "id": "bb718875-81e9-49f9-a117-9842dd47c70f",
   "metadata": {},
   "source": [
    "### PARTE II"
   ]
  },
  {
   "cell_type": "markdown",
   "id": "e33b8ae7-ee07-40d3-8188-7e9ccb1ef314",
   "metadata": {},
   "source": [
    "### Análise Estatística Preliminar"
   ]
  },
  {
   "cell_type": "markdown",
   "id": "7cc72460-d483-4191-b635-d1150c8a6787",
   "metadata": {},
   "source": [
    "#### Dataset:\n",
    "\n",
    "Pesquisa Nacional por Amostra de Domicílios - 2015\n",
    "\n",
    "A <b>Pesquisa Nacional por Amostra de Domicílios - PNAD</b> investiga anualmente, de forma permanente, características gerais da população, de educação, trabalho, rendimento e habitação e outras, com periodicidade variável, de acordo com as necessidades de informação para o país, como as características sobre migração, fecundidade, nupcialidade, saúde, segurança alimentar, entre outros temas. O levantamento dessas estatísticas constitui, ao longo dos 49 anos de realização da pesquisa, um importante instrumento para formulação, validação e avaliação de políticas orientadas para o desenvolvimento socioeconômico e a melhoria das condições de vida no Brasil.\n",
    "\n",
    "Fonte dos dados: https://ww2.ibge.gov.br/home/estatistica/populacao/trabalhoerendimento/pnad2015/microdados.shtm"
   ]
  },
  {
   "cell_type": "markdown",
   "id": "fde20574-5e3d-4dd6-8aed-72c2ed8b8d4e",
   "metadata": {},
   "source": [
    "### Variáveis utilizadas\n",
    "\n",
    "> ### Renda\n",
    "> ***\n",
    "\n",
    "Rendimento mensal do trabalho principal para pessoas de 10 anos ou mais de idade.\n",
    "\n",
    "> ### Idade\n",
    "> ***\n",
    "\n",
    "Idade do morador na data de referência em anos.\n",
    "\n",
    "> ### Altura (elaboração própria)\n",
    "> ***\n",
    "\n",
    "Altura do morador em metros.\n",
    "\n",
    "> ### UF\n",
    "> ***\n",
    "\n",
    "|Código|Descrição|\n",
    "|---|---|\n",
    "|11|Rondônia|\n",
    "|12|Acre|\n",
    "|13|Amazonas|\n",
    "|14|Roraima|\n",
    "|15|Pará|\n",
    "|16|Amapá|\n",
    "|17|Tocantins|\n",
    "|21|Maranhão|\n",
    "|22|Piauí|\n",
    "|23|Ceará|\n",
    "|24|Rio Grande do Norte|\n",
    "|25|Paraíba|\n",
    "|26|Pernambuco|\n",
    "|27|Alagoas|\n",
    "|28|Sergipe|\n",
    "|29|Bahia|\n",
    "|31|Minas Gerais|\n",
    "|32|Espírito Santo|\n",
    "|33|Rio de Janeiro|\n",
    "|35|São Paulo|\n",
    "|41|Paraná|\n",
    "|42|Santa Catarina|\n",
    "|43|Rio Grande do Sul|\n",
    "|50|Mato Grosso do Sul|\n",
    "|51|Mato Grosso|\n",
    "|52|Goiás|\n",
    "|53|Distrito Federal|\n",
    "\n",
    "> ### Sexo\t\n",
    "> ***\n",
    "\n",
    "|Código|Descrição|\n",
    "|---|---|\n",
    "|0|Masculino|\n",
    "|1|Feminino|\n",
    "\n",
    "> ### Anos de Estudo\n",
    "> ***\n",
    "\n",
    "|Código|Descrição|\n",
    "|---|---|\n",
    "|1|Sem instrução e menos de 1 ano|\n",
    "|2|1 ano|\n",
    "|3|2 anos|\n",
    "|4|3 anos|\n",
    "|5|4 anos|\n",
    "|6|5 anos|\n",
    "|7|6 anos|\n",
    "|8|7 anos|\n",
    "|9|8 anos|\n",
    "|10|9 anos|\n",
    "|11|10 anos|\n",
    "|12|11 anos|\n",
    "|13|12 anos|\n",
    "|14|13 anos|\n",
    "|15|14 anos|\n",
    "|16|15 anos ou mais|\n",
    "|17|Não determinados| \n",
    "||Não aplicável|\n",
    "\n",
    "> ### Cor\n",
    "> ***\n",
    "\n",
    "|Código|Descrição|\n",
    "|---|---|\n",
    "|0|Indígena|\n",
    "|2|Branca|\n",
    "|4|Preta|\n",
    "|6|Amarela|\n",
    "|8|Parda|\n",
    "|9|Sem declaração|"
   ]
  },
  {
   "cell_type": "markdown",
   "id": "781e1d86-1997-4bd3-8c28-72fee5b63f2b",
   "metadata": {},
   "source": [
    "#### Observação:\n",
    "***\n",
    "> Os seguintes tratamentos foram realizados nos dados originais:\n",
    "> 1. Foram eliminados os registros onde a <b>Renda</b> era inválida (999 999 999 999);\n",
    "> 2. Foram eliminados os registros onde a <b>Renda</b> era missing;\n",
    "> 3. Foram considerados somente os registros das <b>Pessoas de Referência</b> de cada domicílio (responsável pelo domicílio)."
   ]
  },
  {
   "cell_type": "code",
   "execution_count": 1,
   "id": "381e287d-3988-4a27-a76a-a1e95436ce86",
   "metadata": {},
   "outputs": [],
   "source": [
    "import pandas as pd\n",
    "import numpy as np\n",
    "from scipy import stats\n",
    "from scipy.stats import binom\n",
    "from scipy.stats import norm"
   ]
  },
  {
   "cell_type": "code",
   "execution_count": 2,
   "id": "75c8c5ec-f9dc-4d71-a7c9-41f02a051add",
   "metadata": {},
   "outputs": [
    {
     "data": {
      "text/html": [
       "<div>\n",
       "<style scoped>\n",
       "    .dataframe tbody tr th:only-of-type {\n",
       "        vertical-align: middle;\n",
       "    }\n",
       "\n",
       "    .dataframe tbody tr th {\n",
       "        vertical-align: top;\n",
       "    }\n",
       "\n",
       "    .dataframe thead th {\n",
       "        text-align: right;\n",
       "    }\n",
       "</style>\n",
       "<table border=\"1\" class=\"dataframe\">\n",
       "  <thead>\n",
       "    <tr style=\"text-align: right;\">\n",
       "      <th></th>\n",
       "      <th>UF</th>\n",
       "      <th>Sexo</th>\n",
       "      <th>Idade</th>\n",
       "      <th>Cor</th>\n",
       "      <th>Anos de Estudo</th>\n",
       "      <th>Renda</th>\n",
       "      <th>Altura</th>\n",
       "    </tr>\n",
       "  </thead>\n",
       "  <tbody>\n",
       "    <tr>\n",
       "      <th>0</th>\n",
       "      <td>11</td>\n",
       "      <td>0</td>\n",
       "      <td>23</td>\n",
       "      <td>8</td>\n",
       "      <td>12</td>\n",
       "      <td>800</td>\n",
       "      <td>1.603808</td>\n",
       "    </tr>\n",
       "    <tr>\n",
       "      <th>1</th>\n",
       "      <td>11</td>\n",
       "      <td>1</td>\n",
       "      <td>23</td>\n",
       "      <td>2</td>\n",
       "      <td>12</td>\n",
       "      <td>1150</td>\n",
       "      <td>1.739790</td>\n",
       "    </tr>\n",
       "    <tr>\n",
       "      <th>2</th>\n",
       "      <td>11</td>\n",
       "      <td>1</td>\n",
       "      <td>35</td>\n",
       "      <td>8</td>\n",
       "      <td>15</td>\n",
       "      <td>880</td>\n",
       "      <td>1.760444</td>\n",
       "    </tr>\n",
       "    <tr>\n",
       "      <th>3</th>\n",
       "      <td>11</td>\n",
       "      <td>0</td>\n",
       "      <td>46</td>\n",
       "      <td>2</td>\n",
       "      <td>6</td>\n",
       "      <td>3500</td>\n",
       "      <td>1.783158</td>\n",
       "    </tr>\n",
       "    <tr>\n",
       "      <th>4</th>\n",
       "      <td>11</td>\n",
       "      <td>1</td>\n",
       "      <td>47</td>\n",
       "      <td>8</td>\n",
       "      <td>9</td>\n",
       "      <td>150</td>\n",
       "      <td>1.690631</td>\n",
       "    </tr>\n",
       "  </tbody>\n",
       "</table>\n",
       "</div>"
      ],
      "text/plain": [
       "   UF  Sexo  Idade  Cor  Anos de Estudo  Renda    Altura\n",
       "0  11     0     23    8              12    800  1.603808\n",
       "1  11     1     23    2              12   1150  1.739790\n",
       "2  11     1     35    8              15    880  1.760444\n",
       "3  11     0     46    2               6   3500  1.783158\n",
       "4  11     1     47    8               9    150  1.690631"
      ]
     },
     "execution_count": 2,
     "metadata": {},
     "output_type": "execute_result"
    }
   ],
   "source": [
    "# Importando a base de dados:\n",
    "\n",
    "dados = pd.read_csv('data/dados.csv')\n",
    "dados.head()"
   ]
  },
  {
   "cell_type": "markdown",
   "id": "11c9a785-ac8d-465f-8f64-9a924d536d5d",
   "metadata": {},
   "source": [
    "***\n",
    "\n",
    "#### Avaliando nosso dataset é possível verificar que a **proporção de homens** como chefes de domicílios é de quase **70%**. Precisamos **selecionar aleatoriamente grupos de 10 indivíduos** para verificar as diferenças entre os rendimentos em cada grupo. \n",
    "\n",
    "Qual a **probabilidade de selecionamos um grupo que apresente a mesma proporção da população**, ou seja, selecionarmos um grupo que seja **composto por 7 homens e 3 mulheres**?\n",
    "\n",
    "***"
   ]
  },
  {
   "cell_type": "code",
   "execution_count": 3,
   "id": "07c67634-f11c-4c7e-ba0b-b6161e0695f4",
   "metadata": {},
   "outputs": [
    {
     "data": {
      "text/plain": [
       "0    69.299844\n",
       "1    30.700156\n",
       "Name: Sexo, dtype: float64"
      ]
     },
     "execution_count": 3,
     "metadata": {},
     "output_type": "execute_result"
    }
   ],
   "source": [
    "# Verificando a real proporção entre homens e mulheres, a título de informação:\n",
    "\n",
    "dados['Sexo'].value_counts(normalize = True)*100"
   ]
  },
  {
   "cell_type": "code",
   "execution_count": 4,
   "id": "46a0896e-c092-4459-a53d-3c2aaed5fcd3",
   "metadata": {},
   "outputs": [],
   "source": [
    "# Probabilidade de sortear um homem para um grupo de 10 pessoas:\n",
    "\n",
    "p = 0.7\n",
    "\n",
    "# probabilidade de fracasso:\n",
    "\n",
    "q = 1 - p"
   ]
  },
  {
   "cell_type": "code",
   "execution_count": 5,
   "id": "2a9b630e-1d5f-4c2b-966e-44b5d55dda00",
   "metadata": {},
   "outputs": [],
   "source": [
    "# Número de experimentos que preciso para um grupo de 10 pessoas:\n",
    "\n",
    "n = 10"
   ]
  },
  {
   "cell_type": "code",
   "execution_count": 6,
   "id": "c13ff5b4-76cb-40ea-8757-a28270a78a02",
   "metadata": {},
   "outputs": [],
   "source": [
    "# Número de eventos desejados (escolha de um homem):\n",
    "\n",
    "k = 7"
   ]
  },
  {
   "cell_type": "code",
   "execution_count": 7,
   "id": "774d653c-a81c-4f68-97a7-d81bb98ce344",
   "metadata": {},
   "outputs": [
    {
     "name": "stdout",
     "output_type": "stream",
     "text": [
      "A probabilidade de sortear-se 7 homens e 3 mulheres para um grupo de 10 pessoas é de 27.0%\n"
     ]
    }
   ],
   "source": [
    "# Cálculo da probabilidade de, ao sortear-se aleatoriamente 10 pessoas, 7 sejam homens e 3 sejam mulheres:\n",
    "\n",
    "# Nota: Este é um experimento binomial, ou seja, há somente 2 possibilidades: sucesso em conseguir o grupo especificado ou \n",
    "# fracasso.\n",
    "\n",
    "prob_7 = binom.pmf(k, n, p)\n",
    "print(f'A probabilidade de sortear-se 7 homens e 3 mulheres para um grupo de 10 pessoas é de {prob_7.round(2)*100}%')"
   ]
  },
  {
   "cell_type": "markdown",
   "id": "35b5a1b5-4bcb-4afc-a0fe-5005443d8e39",
   "metadata": {},
   "source": [
    "***\n",
    "\n",
    "#### Ainda sobre a questão anterior, **quantos grupos de 10 indivíduos** nós precisaríamos selecionar, de forma aleatória, para conseguir **100 grupos compostos por 7 homens e 3 mulheres**?\n",
    "\n",
    "***"
   ]
  },
  {
   "cell_type": "code",
   "execution_count": 8,
   "id": "ae3ec4f0-5f51-47b5-84c1-348251afbbc9",
   "metadata": {},
   "outputs": [],
   "source": [
    "# Quantos grupos serão necessários?\n",
    "\n",
    "media = 100"
   ]
  },
  {
   "cell_type": "code",
   "execution_count": 9,
   "id": "c5ab2798-19dd-4371-babd-a08dffa2903a",
   "metadata": {},
   "outputs": [
    {
     "data": {
      "text/plain": [
       "374.7733576858062"
      ]
     },
     "execution_count": 9,
     "metadata": {},
     "output_type": "execute_result"
    }
   ],
   "source": [
    "# Cálculo da quantidade média de grupos a serem sorteados a fim de que o experimento tenha sucesso:\n",
    "\n",
    "# Nota: A fórmula utilizada foi a da média da distribuição binomial (média = n * p)\n",
    "\n",
    "n = media/prob_7\n",
    "n"
   ]
  },
  {
   "cell_type": "markdown",
   "id": "d2c106d7-391e-4761-b3de-dcf346e395fb",
   "metadata": {},
   "source": [
    "***\n",
    "\n",
    "\n",
    "Um cliente nos encomendou um estudo para avaliar o **rendimento dos chefes de domicílio no Brasil**. Para isso precisamos realizar uma nova coleta de dados, isto é, uma nova pesquisa de campo. Após reunião com o cliente foi possível elencar o seguinte conjunto de informações:\n",
    "\n",
    "> A. O resultado da pesquisa precisa estar pronto em **2 meses**;\n",
    "\n",
    "> B. Teremos somente **R$\\$$ 150.000,00** de recursos para realização da pesquisa de campo; e\n",
    "    \n",
    "> C. Seria interessante uma **margem de erro não superior a 10% em relação a média estimada**.\n",
    "\n",
    "Em nossa experiência com estudos deste tipo, sabemos que o **custo médio por indivíduo entrevistado fica em torno de R$\\$$ 100,00**. Com este conjunto de fatos avalie e obtenha o seguinte conjunto de informações para passar ao cliente:\n",
    "\n",
    "\n",
    "> 1. Para obter uma estimativa para os parâmetros da população (renda dos chefes de domicílio no Brasil), realize uma amostragem aleatória simples em nosso conjunto de dados. Essa amostra deve conter 200 elementos (utilize random_state = 101 para garantir que o mesmo experimento posso ser realizado novamente). Obtenha a média e o desvio-padrão dessa amostra.\n",
    "    \n",
    "> 2. Para a **margem de erro** especificada pelo cliente obtenha os **tamanhos de amostra** necessários para garantir os **níveis de confiança de 90%, 95% e 99%**.\n",
    "    \n",
    "> 3. Obtenha o **custo da pesquisa** para os três níveis de confiança.\n",
    "    \n",
    "> 4. Para o maior nível de confiança viável (dentro do orçamento disponível), obtenha um **intervalo de confiança para a média da população**.\n",
    "    \n",
    "> 5. Assumindo o **nível de confiança escolhido no item anterior**, qual **margem de erro** pode ser considerada utilizando todo o recurso disponibilizado pelo cliente?\n",
    "    \n",
    "> 6. Assumindo um **nível de confiança de 95%**, **quanto a pesquisa custaria ao cliente** caso fosse considerada uma **margem de erro de apenas 5%** em relação a média estimada?\n",
    "\n",
    "\n",
    "\n",
    "***"
   ]
  },
  {
   "cell_type": "markdown",
   "id": "c7c5e5a6-9798-4d97-8ed3-5be2465d9ffc",
   "metadata": {},
   "source": [
    "##### Para obter uma estimativa para os parâmetros da população (renda dos chefes de domicílio no Brasil), realize uma amostragem aleatória simples em nosso conjunto de dados. Essa amostra deve conter 200 elementos (utilize random_state = 101 para garantir que o mesmo experimento posso ser realizado novamente). Obtenha a média e o desvio-padrão dessa amostra."
   ]
  },
  {
   "cell_type": "code",
   "execution_count": 10,
   "id": "2fbba3c6-d6a8-42ca-a7dc-b890a5b869f6",
   "metadata": {},
   "outputs": [],
   "source": [
    "# Coletando uma amostra da renda de 200 chefes de família:\n",
    "\n",
    "amostra_200 = dados.sample(200, random_state = 101)['Renda']"
   ]
  },
  {
   "cell_type": "code",
   "execution_count": 11,
   "id": "b8604830-8f86-4d41-9467-73f2e59a792a",
   "metadata": {},
   "outputs": [
    {
     "name": "stdout",
     "output_type": "stream",
     "text": [
      "A renda média numa amostra aleatória composta por 200 chefes de família é de R$1964.2 reais\n"
     ]
    }
   ],
   "source": [
    "# Obtendo a média da amostra (média amostral): \n",
    "\n",
    "media_amostra = amostra_200.mean()\n",
    "print(f'A renda média numa amostra aleatória composta por 200 chefes de família é de R${media_amostra.round(2)} reais')"
   ]
  },
  {
   "cell_type": "code",
   "execution_count": 12,
   "id": "0d975890-326e-4fa9-9b0f-23bae7a2f047",
   "metadata": {},
   "outputs": [
    {
     "data": {
      "text/plain": [
       "3139.8855167452093"
      ]
     },
     "execution_count": 12,
     "metadata": {},
     "output_type": "execute_result"
    }
   ],
   "source": [
    "# Obtendo o desvio padrão amostral:\n",
    "\n",
    "desvio_x = amostra_200.std()\n",
    "desvio_x"
   ]
  },
  {
   "cell_type": "markdown",
   "id": "1cd8e00b-f845-48a7-87b3-c27782abbb53",
   "metadata": {},
   "source": [
    "##### Para a margem de erro especificada pelo cliente, obtenha os tamanhos de amostra necessários para garantir os níveis de confiança de 90%, 95% e 99%."
   ]
  },
  {
   "cell_type": "code",
   "execution_count": 13,
   "id": "9845adb6-6c11-479e-a395-044c51a124f9",
   "metadata": {},
   "outputs": [
    {
     "data": {
      "text/plain": [
       "196.4205"
      ]
     },
     "execution_count": 13,
     "metadata": {},
     "output_type": "execute_result"
    }
   ],
   "source": [
    "# Note que a informação sobre o erro está em percentual, isto é, um percentual relacionado à média amostral:\n",
    "\n",
    "e = 0.10 * media_amostra\n",
    "e"
   ]
  },
  {
   "cell_type": "code",
   "execution_count": 14,
   "id": "6f56f3d4-eb1b-4b9f-9b7f-f418e54d3d97",
   "metadata": {},
   "outputs": [
    {
     "data": {
      "text/plain": [
       "1.6448536269514722"
      ]
     },
     "execution_count": 14,
     "metadata": {},
     "output_type": "execute_result"
    }
   ],
   "source": [
    "# Calculando o tamanho da amostra para o nível de confiança igual a 90%: \n",
    "\n",
    "# Obtendo o valor de z:\n",
    "\n",
    "z1 = norm.ppf(0.5 + (0.90/2))\n",
    "z1"
   ]
  },
  {
   "cell_type": "code",
   "execution_count": 15,
   "id": "c7cc3869-fc7c-4650-811e-eefab6650840",
   "metadata": {},
   "outputs": [
    {
     "name": "stdout",
     "output_type": "stream",
     "text": [
      "O número de entrevistas a serem realizadas a fim de se obter um intervalo de confiança de 90% é de 691.0\n"
     ]
    }
   ],
   "source": [
    "# Obtendo o tamanho da amostra:\n",
    "\n",
    "n1 = (z1 * (desvio_x/e)) ** 2\n",
    "print(f'O número de entrevistas a serem realizadas a fim de se obter um intervalo de confiança de 90% é de {n1.round(0)}')"
   ]
  },
  {
   "cell_type": "code",
   "execution_count": 16,
   "id": "6f796e94-764f-4f5b-b6dd-9346861bb9fe",
   "metadata": {},
   "outputs": [
    {
     "data": {
      "text/plain": [
       "1.959963984540054"
      ]
     },
     "execution_count": 16,
     "metadata": {},
     "output_type": "execute_result"
    }
   ],
   "source": [
    "# Calculando o tamanho da amostra para o nível de confiança igual a 95%: \n",
    "\n",
    "# Obtendo o valor de z:\n",
    "\n",
    "z2 = norm.ppf(0.5 + (0.95/2))\n",
    "z2"
   ]
  },
  {
   "cell_type": "code",
   "execution_count": 17,
   "id": "f9deb1e6-34b3-411c-9f8a-2d1a8e2d0478",
   "metadata": {},
   "outputs": [
    {
     "name": "stdout",
     "output_type": "stream",
     "text": [
      "O número de entrevistas a serem realizadas a fim de se obter um intervalo de confiança de 95% é de 982.0\n"
     ]
    }
   ],
   "source": [
    "# Obtendo o tamanho da amostra:\n",
    "\n",
    "n2 = (z2 * (desvio_x/e)) **2\n",
    "print(f'O número de entrevistas a serem realizadas a fim de se obter um intervalo de confiança de 95% é de {n2.round(0)}')"
   ]
  },
  {
   "cell_type": "code",
   "execution_count": 18,
   "id": "d286f57a-addf-4f4b-97bb-1d1a37d5e9dd",
   "metadata": {},
   "outputs": [
    {
     "data": {
      "text/plain": [
       "2.5758293035489004"
      ]
     },
     "execution_count": 18,
     "metadata": {},
     "output_type": "execute_result"
    }
   ],
   "source": [
    "# Calculando o tamanho da amostra para o nível de confiança igual a 99%: \n",
    "\n",
    "# Obtendo o valor de z:\n",
    "\n",
    "z3 = norm.ppf(0.5 + (0.99/2))\n",
    "z3"
   ]
  },
  {
   "cell_type": "code",
   "execution_count": 19,
   "id": "f638e151-7f41-452c-9559-29619f2893dd",
   "metadata": {},
   "outputs": [
    {
     "name": "stdout",
     "output_type": "stream",
     "text": [
      "O número de entrevistas a serem realizadas a fim de se obter um intervalo de confiança de 99% é de 1695.0\n"
     ]
    }
   ],
   "source": [
    "# Obtendo o tamanho da amostra:\n",
    "\n",
    "n3 = (z3 * (desvio_x/e)) **2\n",
    "print(f'O número de entrevistas a serem realizadas a fim de se obter um intervalo de confiança de 99% é de {n3.round(0)}')"
   ]
  },
  {
   "cell_type": "markdown",
   "id": "7129c278-fe74-4a2f-841d-49b965b5800c",
   "metadata": {},
   "source": [
    "##### Obtenha o custo da pesquisa para os três níveis de confiança.\n"
   ]
  },
  {
   "cell_type": "code",
   "execution_count": 20,
   "id": "8285df09-e710-442a-8397-3ef189689761",
   "metadata": {},
   "outputs": [
    {
     "name": "stdout",
     "output_type": "stream",
     "text": [
      "Para a quantidade de entevistas necessárias para um intervalo de confiança de 90%, isto é, 691.0 entrevistas, o valor das despesas será de 69136.68 reais\n"
     ]
    }
   ],
   "source": [
    "# Sabemos que o custo, em reais, por entrevista é de R$100,00\n",
    "# Para um intervalo de confiança de 90%:\n",
    "\n",
    "custo1 = n1 * 100\n",
    "print(f'Para a quantidade de entevistas necessárias para um intervalo de confiança de 90%, isto é, {n1.round(0)} entrevistas, o valor das despesas será de {custo1.round(2)} reais')"
   ]
  },
  {
   "cell_type": "code",
   "execution_count": 21,
   "id": "1306326c-a5f2-494d-95eb-ac133f1dfa82",
   "metadata": {},
   "outputs": [
    {
     "name": "stdout",
     "output_type": "stream",
     "text": [
      "Para a quantidade de entevistas necessárias para um intervalo de confiança de 95%, isto é, 982.0 entrevistas, o valor das despesas será de 98163.53 reais\n"
     ]
    }
   ],
   "source": [
    "# Para 95%:\n",
    "\n",
    "custo2 = n2 * 100\n",
    "print(f'Para a quantidade de entevistas necessárias para um intervalo de confiança de 95%, isto é, {n2.round(0)} entrevistas, o valor das despesas será de {custo2.round(2)} reais')"
   ]
  },
  {
   "cell_type": "code",
   "execution_count": 22,
   "id": "054c40b0-2334-4baf-b0a0-c27a68770081",
   "metadata": {},
   "outputs": [
    {
     "name": "stdout",
     "output_type": "stream",
     "text": [
      "Para a quantidade de entevistas necessárias para um intervalo de confiança de 99%, isto é, 1695.0 entrevistas, o valor das despesas será de 169546.24 reais\n"
     ]
    }
   ],
   "source": [
    "# Para 99%:\n",
    "\n",
    "custo3 = n3 * 100\n",
    "print(f'Para a quantidade de entevistas necessárias para um intervalo de confiança de 99%, isto é, {n3.round(0)} entrevistas, o valor das despesas será de {custo3.round(2)} reais')"
   ]
  },
  {
   "cell_type": "markdown",
   "id": "c351c5de-46a5-4b9b-8f81-b03fbdf65ecf",
   "metadata": {},
   "source": [
    "##### Para o nível de confiança de 99%, o custo da pesquisa está fora do orçamento."
   ]
  },
  {
   "cell_type": "markdown",
   "id": "629c1652-8388-4111-84f1-d3e44fb64206",
   "metadata": {},
   "source": [
    "##### Para o maior nível de confiança viável (dentro do orçamento disponível), obtenha um intervalo de confiança para a média da população."
   ]
  },
  {
   "cell_type": "code",
   "execution_count": 23,
   "id": "4100ba2d-e8e6-49e9-ac42-8438a7fe81ca",
   "metadata": {},
   "outputs": [
    {
     "data": {
      "text/plain": [
       "(1767.7845, 2160.6255)"
      ]
     },
     "execution_count": 23,
     "metadata": {},
     "output_type": "execute_result"
    }
   ],
   "source": [
    "# Obtendo o intervalo de confiança (95%) para a média da população:\n",
    "\n",
    "intervalo = norm.interval(alpha = 0.95, loc = media_amostra, scale = desvio_x / np.sqrt(n2))\n",
    "intervalo"
   ]
  },
  {
   "cell_type": "markdown",
   "id": "a1280e81-25c2-46df-ab57-3c47f9b69076",
   "metadata": {},
   "source": [
    "##### Assumindo o nível de confiança escolhido no item anterior, qual margem de erro pode ser considerada utilizando todo o recurso disponibilizado pelo cliente?"
   ]
  },
  {
   "cell_type": "code",
   "execution_count": 24,
   "id": "506d4bbe-856f-4965-87ad-1ee2d0f970f7",
   "metadata": {},
   "outputs": [
    {
     "name": "stdout",
     "output_type": "stream",
     "text": [
      "Com o orçamento de R$150 mil reais, podem-se realizar 1500.0 entrevistas\n"
     ]
    }
   ],
   "source": [
    "# Para a margem de erro de 95%, o experimento foi avaliado em 98.163 reais. Ou seja, sobra dinheiro.\n",
    "# Com mais dinheiro, é possível aumentar o tamanho da amostra e diminuir o erro. \n",
    "# Qual será esse erro?\n",
    "\n",
    "novo_n = 150000/100\n",
    "print(f'Com o orçamento de R$150 mil reais, podem-se realizar {novo_n} entrevistas')"
   ]
  },
  {
   "cell_type": "code",
   "execution_count": 25,
   "id": "fa440291-80c5-4737-b793-7d7670270800",
   "metadata": {},
   "outputs": [
    {
     "data": {
      "text/plain": [
       "158.89721122673703"
      ]
     },
     "execution_count": 25,
     "metadata": {},
     "output_type": "execute_result"
    }
   ],
   "source": [
    "# Cálculo do novo erro para 95%:\n",
    "\n",
    "novo_e = z2 * (desvio_x/np.sqrt(novo_n))\n",
    "novo_e"
   ]
  },
  {
   "cell_type": "code",
   "execution_count": 26,
   "id": "e2bacd31-a759-49fe-9ce3-ad8502d9df8f",
   "metadata": {},
   "outputs": [
    {
     "name": "stdout",
     "output_type": "stream",
     "text": [
      "O novo erro estipulado, com o aumento do número de entrevistas, será de 8.0%\n"
     ]
    }
   ],
   "source": [
    "e_percentual = novo_e/media_amostra\n",
    "print(f'O novo erro estipulado, com o aumento do número de entrevistas, será de {(e_percentual*100).round(0)}%')"
   ]
  },
  {
   "cell_type": "markdown",
   "id": "1a9d0c26-97a3-436a-a642-5e73b0559f6a",
   "metadata": {},
   "source": [
    "##### Assumindo um nível de confiança de 95%, quanto a pesquisa custaria ao cliente caso fosse considerada uma margem de erro de apenas 5% em relação a média estimada?"
   ]
  },
  {
   "cell_type": "code",
   "execution_count": 27,
   "id": "f3cc4ca5-7518-4271-a0f3-3cc0bd676cbd",
   "metadata": {},
   "outputs": [
    {
     "data": {
      "text/plain": [
       "98.21025"
      ]
     },
     "execution_count": 27,
     "metadata": {},
     "output_type": "execute_result"
    }
   ],
   "source": [
    "e = 0.05 * media_amostra\n",
    "e"
   ]
  },
  {
   "cell_type": "code",
   "execution_count": 28,
   "id": "4ce6820d-86f3-4add-8280-8225f19de8ed",
   "metadata": {},
   "outputs": [
    {
     "name": "stdout",
     "output_type": "stream",
     "text": [
      "Para um nível de confiança de 95%, devemos selecionar uma amostra de 3927 elementos.\n"
     ]
    }
   ],
   "source": [
    "z = norm.ppf(.975)\n",
    "n_confianca_95 = (z * (desvio_x / e)) ** 2\n",
    "n_confianca_95 = int(n_confianca_95.round())\n",
    "print(f'Para um nível de confiança de 95%, devemos selecionar uma amostra de {n_confianca_95} elementos.')"
   ]
  },
  {
   "cell_type": "code",
   "execution_count": 29,
   "id": "c7f38659-5c80-4133-a9eb-66f61e37223b",
   "metadata": {},
   "outputs": [
    {
     "name": "stdout",
     "output_type": "stream",
     "text": [
      "Para um nível de confiança de 95% o custo da pesquisa seria de R$ 392700.\n"
     ]
    }
   ],
   "source": [
    "custo_confianca_95 = n_confianca_95 * 100\n",
    "print(f'Para um nível de confiança de 95% o custo da pesquisa seria de R$ {custo_confianca_95}.')"
   ]
  },
  {
   "cell_type": "markdown",
   "id": "5e054897-6987-4289-ba20-8c71cb57b218",
   "metadata": {},
   "source": [
    "### Testes PARAMÉTRICOS:"
   ]
  },
  {
   "cell_type": "markdown",
   "id": "4e65f5dd-135d-425e-aad1-f6106dd4eba5",
   "metadata": {},
   "source": [
    "***\n",
    "\n",
    "### Problema:\n",
    "\n",
    "#### Em nosso dataset temos os rendimento dos chefes de domicílio obtidos da Pesquisa Nacional por Amostra de Domicílios - PNAD no ano de 2015. Um problema bastante conhecido em nosso país diz respeito a desigualdade de renda, principalmente entre homens e mulheres.\n",
    "\n",
    "#### Duas amostras aleatórias, uma de **500 homens** e outra com **500 mulheres**, foram selecionadas em nosso dataset. Com o objetivo de comprovar tal desigualdade, **teste a igualdade das médias** entre estas duas amostras com um nível de **significância de 1%**.\n",
    "\n",
    "***"
   ]
  },
  {
   "cell_type": "code",
   "execution_count": 37,
   "id": "6701cd37-b32d-4a68-a4fb-a3842653009f",
   "metadata": {},
   "outputs": [],
   "source": [
    "# Selecionando as amostras:\n",
    "\n",
    "homens = dados.query('Sexo == 0').sample(n = 500, random_state = 101)['Renda']\n",
    "mulheres = dados.query('Sexo == 1').sample(n = 500, random_state = 101)['Renda']"
   ]
  },
  {
   "cell_type": "code",
   "execution_count": 34,
   "id": "e4cc90f1-9f15-42c7-b31a-f41f6d6d3a38",
   "metadata": {},
   "outputs": [],
   "source": [
    "# Nível de significância e de confiança:\n",
    "\n",
    "significancia = 0.01\n",
    "confianca = 1 - significancia"
   ]
  },
  {
   "cell_type": "markdown",
   "id": "3776bb61-1c8b-4c9b-953a-b23eab974a0f",
   "metadata": {},
   "source": [
    "### Hipóteses:\n",
    "\n",
    "* H0 : Renda média dos homens é menor ou igual à renda média das mulheres\n",
    "* H1: Renda média dos homens é maior que a renda média das mulheres"
   ]
  },
  {
   "cell_type": "markdown",
   "id": "6b66eb78-cf25-4955-80cb-ceeb2cd5a743",
   "metadata": {},
   "source": [
    "##### Pretende-se mostrar que H0 não corresponde à realidade, ou seja, que a renda média dos chefes de família do sexo feminino é menor que a renda média dos chefes de família do sexo masculino.\n",
    "\n",
    "##### Trata-se de um teste unicaudal superior."
   ]
  },
  {
   "cell_type": "code",
   "execution_count": 33,
   "id": "7dffc8fd-b20c-47d4-bb0c-c743e1626398",
   "metadata": {},
   "outputs": [],
   "source": [
    "# Realização do teste:\n",
    "\n",
    "from statsmodels.stats.weightstats import DescrStatsW\n",
    "\n",
    "teste_homens = DescrStatsW(homens)\n",
    "teste_mulheres = DescrStatsW(mulheres)"
   ]
  },
  {
   "cell_type": "code",
   "execution_count": 36,
   "id": "65086714-636c-4559-84fa-ec6837751f39",
   "metadata": {},
   "outputs": [],
   "source": [
    "# Comparação:\n",
    "\n",
    "teste = teste_homens.get_compare(teste_mulheres)"
   ]
  },
  {
   "cell_type": "code",
   "execution_count": 39,
   "id": "137a82bb-ab3f-4224-a46f-9209dc032c06",
   "metadata": {},
   "outputs": [
    {
     "name": "stdout",
     "output_type": "stream",
     "text": [
      "5.865620057764754\n",
      "2.2372867859458255e-09\n"
     ]
    }
   ],
   "source": [
    "# Aplicando o teste:\n",
    "\n",
    "z, p_valor = teste.ztest_ind(alternative = 'larger', value = 0)\n",
    "print(z)\n",
    "print(p_valor)"
   ]
  },
  {
   "cell_type": "markdown",
   "id": "210346aa-c4e3-46c3-9d8c-e978af47c69c",
   "metadata": {},
   "source": [
    "##### Pela regra de rejeição da hipótese H0, caso o p_valor seja menor que a significância considerada, deve-se rejeitar H0. Vejamos:"
   ]
  },
  {
   "cell_type": "code",
   "execution_count": 40,
   "id": "d88f1ff0-91f2-46f9-b533-5978c1b2d5d2",
   "metadata": {},
   "outputs": [
    {
     "data": {
      "text/plain": [
       "True"
      ]
     },
     "execution_count": 40,
     "metadata": {},
     "output_type": "execute_result"
    }
   ],
   "source": [
    "# Comparação do p_valor com a significancia requerida:\n",
    "\n",
    "p_valor <= significancia"
   ]
  },
  {
   "cell_type": "markdown",
   "id": "9170c1c9-18c0-4d68-9df2-213cc453ef52",
   "metadata": {},
   "source": [
    "#### Com um nível de confiança de 99%, rejeita-se a hipótese H0 e aceita-se a hipótese H1, isto é, a renda média dos homens é maior que a renda média das mulheres chefes de família, confirmando a alegação de desigualdade de renda entre os sexos."
   ]
  },
  {
   "cell_type": "markdown",
   "id": "c22a519f-27a1-442f-b88f-380fd47dd059",
   "metadata": {},
   "source": [
    "***\n",
    "\n",
    "### Problema: \n",
    "\n",
    "#### Você é um pesquisador que estuda o mercado de trabalho brasileiro e resolve estudar as diferenças salariais dos trabalhadores dos estados do Rio de Janeiro e de São Paulo. Durante sua pesquisa você verifica que, aparentemente, os rendimentos dos trabalhadores no estado do Rio de Janeiro são mais baixos que os rendimentos dos trabalhadores no estado de São Paulo. Para confirmar esta conclusão realize um teste de hipótese de comparação de médias em cima de duas amostras de trabalhadores dos dois estados. Siga as seguintes etapas:\n",
    "\n",
    "- Selecione duas amostras de **500 trabalhadores** para cada um dos dois estados (variável UF) para realizar o teste. Utilize o **parâmetro random_state=101**.\n",
    "- Considere o **nível de significância de 5%**.\n",
    "- Teste a hipótese de que a **renda média dos trabalhadores do Rio de Janeiro é menor que a renda média dos trabalhadores de São Paulo**.\n",
    "\n",
    "***"
   ]
  },
  {
   "cell_type": "code",
   "execution_count": 41,
   "id": "4eaa2a7f-9db2-4acf-87e7-23e157b73aa8",
   "metadata": {},
   "outputs": [],
   "source": [
    "# Seleção das amostras:\n",
    "\n",
    "trabalhadores_rj = dados.query('UF == 33').sample(n = 500, random_state = 101)['Renda']\n",
    "trabalhadores_sp = dados.query('UF == 35').sample(n = 500, random_state = 101)['Renda']"
   ]
  },
  {
   "cell_type": "code",
   "execution_count": 42,
   "id": "fa4cf1e3-13e1-4158-be05-d2b6665400af",
   "metadata": {},
   "outputs": [],
   "source": [
    "# Nível de significancia e de confiança:\n",
    "\n",
    "significancia = 0.05\n",
    "confianca = 1 - significancia"
   ]
  },
  {
   "cell_type": "markdown",
   "id": "da74e6e4-3bb0-41f8-a546-dab252ce7305",
   "metadata": {},
   "source": [
    "### Hipóteses:\n",
    "\n",
    "* H0: Renda média dos trabalhadores do Rio de Janeiro é maior ou igual à renda média dos trabalhadores de São Paulo\n",
    "* H1: Renda média dos trabalhadores do Rio de Janeiro é menor que a renda média dos trabalhadores de São Paulo"
   ]
  },
  {
   "cell_type": "markdown",
   "id": "badfc1f5-65bd-411c-bfbe-a24b85b203f8",
   "metadata": {},
   "source": [
    "#### Este é um teste unicaudal inferior.\n"
   ]
  },
  {
   "cell_type": "code",
   "execution_count": 43,
   "id": "f4690b34-32e8-47a0-8364-f54f2434ccca",
   "metadata": {},
   "outputs": [],
   "source": [
    "# Realização do teste:\n",
    "\n",
    "from statsmodels.stats.weightstats import DescrStatsW\n",
    "\n",
    "teste_rj = DescrStatsW(trabalhadores_rj)\n",
    "teste_sp = DescrStatsW(trabalhadores_sp)"
   ]
  },
  {
   "cell_type": "code",
   "execution_count": 45,
   "id": "40b8f7de-be0c-4269-9d5b-68a2c6193f70",
   "metadata": {},
   "outputs": [],
   "source": [
    "# Comparação:\n",
    "\n",
    "teste2 = teste_rj.get_compare(teste_sp)"
   ]
  },
  {
   "cell_type": "code",
   "execution_count": 49,
   "id": "a4629461-74e1-428d-8981-7df3b950d6b8",
   "metadata": {},
   "outputs": [
    {
     "name": "stdout",
     "output_type": "stream",
     "text": [
      "-2.255318273608558\n",
      "0.012056679215693396\n"
     ]
    }
   ],
   "source": [
    "# Obtenção do z e p_valor:\n",
    "\n",
    "z2, p_valor2 = teste2.ztest_ind(alternative = 'smaller', value = 0)\n",
    "print(z2)\n",
    "print(p_valor2)"
   ]
  },
  {
   "cell_type": "code",
   "execution_count": 50,
   "id": "596b2dfa-52d4-411e-bce6-e44d74121e6e",
   "metadata": {},
   "outputs": [
    {
     "data": {
      "text/plain": [
       "True"
      ]
     },
     "execution_count": 50,
     "metadata": {},
     "output_type": "execute_result"
    }
   ],
   "source": [
    "# Comparação entre o p_valor e a significância considerada no problema:\n",
    "\n",
    "p_valor2 <= significancia"
   ]
  },
  {
   "cell_type": "markdown",
   "id": "4f625af2-0442-4f29-86d4-27bacae51664",
   "metadata": {},
   "source": [
    "#### O critério de rejeição de H0 foi satisfeito, ou seja, rejeita-se, com um nível de confiança de 95%, que a renda média dos trabalhadores do RJ seja maior ou igual à renda média dos trabalhadores de SP. Pode-se, assim, afirmar que os trabalhadores de SP possuem renda maior."
   ]
  }
 ],
 "metadata": {
  "kernelspec": {
   "display_name": "Python 3",
   "language": "python",
   "name": "python3"
  },
  "language_info": {
   "codemirror_mode": {
    "name": "ipython",
    "version": 3
   },
   "file_extension": ".py",
   "mimetype": "text/x-python",
   "name": "python",
   "nbconvert_exporter": "python",
   "pygments_lexer": "ipython3",
   "version": "3.9.1"
  }
 },
 "nbformat": 4,
 "nbformat_minor": 5
}
