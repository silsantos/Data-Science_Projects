{
 "cells": [
  {
   "cell_type": "markdown",
   "metadata": {
    "colab_type": "text",
    "id": "WvMflodMjQKe"
   },
   "source": [
    "***\n",
    "\n",
    "## Correlação e regressão linear simples\n",
    "\n",
    "***"
   ]
  },
  {
   "cell_type": "markdown",
   "metadata": {
    "colab_type": "text",
    "id": "cVgsZ_E3jQKg"
   },
   "source": [
    "# <font color=green>DATASET DO PROJETO</font>\n",
    "***"
   ]
  },
  {
   "cell_type": "markdown",
   "metadata": {
    "colab_type": "text",
    "id": "Ws2zOjRQSAMx"
   },
   "source": [
    "### Fonte: https://www.kaggle.com/dongeorge/beer-consumption-sao-paulo\n",
    "\n",
    "### Descrição:\n",
    "A cerveja é uma das bebidas mais democráticas e consumidas no mundo. Não sem razão, é perfeito para quase todas as situações, desde o happy hour até grandes festas de casamento.\n",
    "\n",
    "Os dados (amostra) foram coletados em São Paulo - Brasil, em uma área universitária, onde existem algumas festas com grupos de alunos de 18 a 28 anos de idade (média).\n",
    "\n",
    "### Dados:\n",
    "- **temp_media** - Temperatura Média do Dia (°C)\n",
    "- **consumo** - Consumo de Cerveja (litros)\n"
   ]
  },
  {
   "cell_type": "markdown",
   "metadata": {
    "colab_type": "text",
    "id": "ZIqLOffNTg1Y"
   },
   "source": [
    "---"
   ]
  },
  {
   "cell_type": "code",
   "execution_count": 1,
   "metadata": {
    "colab": {},
    "colab_type": "code",
    "id": "fcTgimHBybMz"
   },
   "outputs": [],
   "source": [
    "# Importação das bibliotecas:\n",
    "\n",
    "import pandas as pd\n",
    "import numpy as np\n",
    "import seaborn as sns\n",
    "import statsmodels\n",
    "import statsmodels.api as sm\n",
    "from scipy.stats import probplot\n",
    "import matplotlib.pyplot as plt"
   ]
  },
  {
   "cell_type": "code",
   "execution_count": 2,
   "metadata": {
    "colab": {},
    "colab_type": "code",
    "id": "MCvj5wZESAM7"
   },
   "outputs": [],
   "source": [
    "# Importação do dataset:\n",
    "\n",
    "dados = pd.read_csv('data/dados_cerveja.csv', sep = ';')"
   ]
  },
  {
   "cell_type": "code",
   "execution_count": 3,
   "metadata": {
    "colab": {},
    "colab_type": "code",
    "id": "ZJhWgKumSAM-"
   },
   "outputs": [
    {
     "data": {
      "text/html": [
       "<div>\n",
       "<style scoped>\n",
       "    .dataframe tbody tr th:only-of-type {\n",
       "        vertical-align: middle;\n",
       "    }\n",
       "\n",
       "    .dataframe tbody tr th {\n",
       "        vertical-align: top;\n",
       "    }\n",
       "\n",
       "    .dataframe thead th {\n",
       "        text-align: right;\n",
       "    }\n",
       "</style>\n",
       "<table border=\"1\" class=\"dataframe\">\n",
       "  <thead>\n",
       "    <tr style=\"text-align: right;\">\n",
       "      <th></th>\n",
       "      <th>Y</th>\n",
       "      <th>X</th>\n",
       "    </tr>\n",
       "  </thead>\n",
       "  <tbody>\n",
       "    <tr>\n",
       "      <th>0</th>\n",
       "      <td>25461</td>\n",
       "      <td>27.30</td>\n",
       "    </tr>\n",
       "    <tr>\n",
       "      <th>1</th>\n",
       "      <td>28972</td>\n",
       "      <td>27.02</td>\n",
       "    </tr>\n",
       "    <tr>\n",
       "      <th>2</th>\n",
       "      <td>30814</td>\n",
       "      <td>24.82</td>\n",
       "    </tr>\n",
       "    <tr>\n",
       "      <th>3</th>\n",
       "      <td>29799</td>\n",
       "      <td>23.98</td>\n",
       "    </tr>\n",
       "    <tr>\n",
       "      <th>4</th>\n",
       "      <td>28900</td>\n",
       "      <td>23.82</td>\n",
       "    </tr>\n",
       "  </tbody>\n",
       "</table>\n",
       "</div>"
      ],
      "text/plain": [
       "       Y      X\n",
       "0  25461  27.30\n",
       "1  28972  27.02\n",
       "2  30814  24.82\n",
       "3  29799  23.98\n",
       "4  28900  23.82"
      ]
     },
     "execution_count": 3,
     "metadata": {},
     "output_type": "execute_result"
    }
   ],
   "source": [
    "dados.head()"
   ]
  },
  {
   "cell_type": "markdown",
   "metadata": {
    "colab": {},
    "colab_type": "code",
    "id": "GsC_WhLFjQKq"
   },
   "source": [
    "#### Temos que Y, variável dependente, é o consumo de cerveja (em litros)\n",
    "#### X, variável independente, é a temperatura média do dia (em graus)"
   ]
  },
  {
   "cell_type": "code",
   "execution_count": 4,
   "metadata": {
    "colab": {},
    "colab_type": "code",
    "id": "nuNSrzfYpsld",
    "scrolled": true
   },
   "outputs": [
    {
     "data": {
      "text/html": [
       "<div>\n",
       "<style scoped>\n",
       "    .dataframe tbody tr th:only-of-type {\n",
       "        vertical-align: middle;\n",
       "    }\n",
       "\n",
       "    .dataframe tbody tr th {\n",
       "        vertical-align: top;\n",
       "    }\n",
       "\n",
       "    .dataframe thead th {\n",
       "        text-align: right;\n",
       "    }\n",
       "</style>\n",
       "<table border=\"1\" class=\"dataframe\">\n",
       "  <thead>\n",
       "    <tr style=\"text-align: right;\">\n",
       "      <th></th>\n",
       "      <th>Y</th>\n",
       "      <th>X</th>\n",
       "    </tr>\n",
       "  </thead>\n",
       "  <tbody>\n",
       "    <tr>\n",
       "      <th>count</th>\n",
       "      <td>365.000000</td>\n",
       "      <td>365.000000</td>\n",
       "    </tr>\n",
       "    <tr>\n",
       "      <th>mean</th>\n",
       "      <td>25401.367123</td>\n",
       "      <td>21.226356</td>\n",
       "    </tr>\n",
       "    <tr>\n",
       "      <th>std</th>\n",
       "      <td>4399.142703</td>\n",
       "      <td>3.180108</td>\n",
       "    </tr>\n",
       "    <tr>\n",
       "      <th>min</th>\n",
       "      <td>14343.000000</td>\n",
       "      <td>12.900000</td>\n",
       "    </tr>\n",
       "    <tr>\n",
       "      <th>25%</th>\n",
       "      <td>22008.000000</td>\n",
       "      <td>19.020000</td>\n",
       "    </tr>\n",
       "    <tr>\n",
       "      <th>50%</th>\n",
       "      <td>24867.000000</td>\n",
       "      <td>21.380000</td>\n",
       "    </tr>\n",
       "    <tr>\n",
       "      <th>75%</th>\n",
       "      <td>28631.000000</td>\n",
       "      <td>23.280000</td>\n",
       "    </tr>\n",
       "    <tr>\n",
       "      <th>max</th>\n",
       "      <td>37937.000000</td>\n",
       "      <td>28.860000</td>\n",
       "    </tr>\n",
       "  </tbody>\n",
       "</table>\n",
       "</div>"
      ],
      "text/plain": [
       "                  Y           X\n",
       "count    365.000000  365.000000\n",
       "mean   25401.367123   21.226356\n",
       "std     4399.142703    3.180108\n",
       "min    14343.000000   12.900000\n",
       "25%    22008.000000   19.020000\n",
       "50%    24867.000000   21.380000\n",
       "75%    28631.000000   23.280000\n",
       "max    37937.000000   28.860000"
      ]
     },
     "execution_count": 4,
     "metadata": {},
     "output_type": "execute_result"
    }
   ],
   "source": [
    "# Estatísticas descritivas dos dados:\n",
    "\n",
    "dados.describe()"
   ]
  },
  {
   "cell_type": "markdown",
   "metadata": {
    "colab_type": "text",
    "id": "LczcEkfvSANG"
   },
   "source": [
    "### Análise gráfica: boxplot para cada uma das variáveis."
   ]
  },
  {
   "cell_type": "code",
   "execution_count": 5,
   "metadata": {
    "colab": {},
    "colab_type": "code",
    "id": "C8jMWsOQSANH"
   },
   "outputs": [
    {
     "data": {
      "text/plain": [
       "<AxesSubplot:title={'center':'Boxplot do Consumo de Cerveja'}, xlabel='Consumo (litros)'>"
      ]
     },
     "execution_count": 5,
     "metadata": {},
     "output_type": "execute_result"
    },
    {
     "data": {
      "image/png": "[encoded data removed]",
      "text/plain": [
       "<Figure size 864x432 with 1 Axes>"
      ]
     },
     "metadata": {
      "needs_background": "light"
     },
     "output_type": "display_data"
    }
   ],
   "source": [
    "ax = sns.boxplot(data = dados, x = 'Y', orient = 'h', width = 0.5)\n",
    "ax.figure.set_size_inches(12,6)\n",
    "ax.set_title('Boxplot do Consumo de Cerveja', fontsize = 20)\n",
    "ax.set_xlabel('Consumo (litros)', fontsize = 14)\n",
    "ax"
   ]
  },
  {
   "cell_type": "code",
   "execution_count": 9,
   "metadata": {
    "colab": {},
    "colab_type": "code",
    "id": "W-W9IOs1psle"
   },
   "outputs": [
    {
     "data": {
      "text/plain": [
       "<AxesSubplot:title={'center':'Boxplot da Temperatura Média'}, xlabel='Temperatura Média (graus)'>"
      ]
     },
     "execution_count": 9,
     "metadata": {},
     "output_type": "execute_result"
    },
    {
     "data": {
      "image/png": "[encoded data removed]",
      "text/plain": [
       "<Figure size 432x288 with 1 Axes>"
      ]
     },
     "metadata": {
      "needs_background": "light"
     },
     "output_type": "display_data"
    }
   ],
   "source": [
    "x = sns.boxplot(data = dados, x = 'X', orient = 'h', width = 0.5)\n",
    "ax.figure.set_size_inches(12,6)\n",
    "ax.set_title('Boxplot da Temperatura Média', fontsize = 20)\n",
    "ax.set_xlabel('Temperatura Média (graus)', fontsize = 14)\n",
    "ax"
   ]
  },
  {
   "cell_type": "markdown",
   "metadata": {
    "colab_type": "text",
    "id": "50QnbpklSANL"
   },
   "source": [
    "### Identificando uma possível relação linear entre as variáveis $Y$ e $X$"
   ]
  },
  {
   "cell_type": "code",
   "execution_count": 10,
   "metadata": {
    "colab": {},
    "colab_type": "code",
    "id": "wqXot5qXSANM"
   },
   "outputs": [
    {
     "data": {
      "text/plain": [
       "<seaborn.axisgrid.FacetGrid at 0x7fcfbf9230a0>"
      ]
     },
     "execution_count": 10,
     "metadata": {},
     "output_type": "execute_result"
    },
    {
     "data": {
      "image/png": "[encoded data removed]",
      "text/plain": [
       "<Figure size 864x432 with 1 Axes>"
      ]
     },
     "metadata": {
      "needs_background": "light"
     },
     "output_type": "display_data"
    }
   ],
   "source": [
    "# Investigação gráfica:\n",
    "\n",
    "ax = sns.lmplot(x = 'X', y = 'Y', data = dados)\n",
    "ax.fig.set_size_inches(12,6)\n",
    "ax.fig.suptitle('Reta de Regressão - Consumo x Temperatura', fontsize = 16, y = 1.02)\n",
    "ax.set_xlabels('Temperatura do dia', fontsize = 14)\n",
    "ax.set_ylabels('Consumo de Cerveja', fontsize = 14)\n",
    "ax"
   ]
  },
  {
   "cell_type": "code",
   "execution_count": 11,
   "metadata": {
    "colab": {},
    "colab_type": "code",
    "id": "i3km2z7xSANP"
   },
   "outputs": [
    {
     "data": {
      "text/html": [
       "<div>\n",
       "<style scoped>\n",
       "    .dataframe tbody tr th:only-of-type {\n",
       "        vertical-align: middle;\n",
       "    }\n",
       "\n",
       "    .dataframe tbody tr th {\n",
       "        vertical-align: top;\n",
       "    }\n",
       "\n",
       "    .dataframe thead th {\n",
       "        text-align: right;\n",
       "    }\n",
       "</style>\n",
       "<table border=\"1\" class=\"dataframe\">\n",
       "  <thead>\n",
       "    <tr style=\"text-align: right;\">\n",
       "      <th></th>\n",
       "      <th>Y</th>\n",
       "      <th>X</th>\n",
       "    </tr>\n",
       "  </thead>\n",
       "  <tbody>\n",
       "    <tr>\n",
       "      <th>Y</th>\n",
       "      <td>1.000000</td>\n",
       "      <td>0.574615</td>\n",
       "    </tr>\n",
       "    <tr>\n",
       "      <th>X</th>\n",
       "      <td>0.574615</td>\n",
       "      <td>1.000000</td>\n",
       "    </tr>\n",
       "  </tbody>\n",
       "</table>\n",
       "</div>"
      ],
      "text/plain": [
       "          Y         X\n",
       "Y  1.000000  0.574615\n",
       "X  0.574615  1.000000"
      ]
     },
     "execution_count": 11,
     "metadata": {},
     "output_type": "execute_result"
    }
   ],
   "source": [
    "# Matriz de Correlação:\n",
    "\n",
    "dados.corr()"
   ]
  },
  {
   "cell_type": "markdown",
   "metadata": {},
   "source": [
    "#### É possível notar, pela análise gráfica e pela matriz de correlação, que é provável que exista relação linear entre as variáveis em questão."
   ]
  },
  {
   "cell_type": "markdown",
   "metadata": {
    "colab_type": "text",
    "id": "gEsWvZadSANR"
   },
   "source": [
    "### Preparação dos dados para estimar um modelo de regressão linear simples"
   ]
  },
  {
   "cell_type": "code",
   "execution_count": 12,
   "metadata": {
    "colab": {},
    "colab_type": "code",
    "id": "GNfHZd61SANS"
   },
   "outputs": [],
   "source": [
    "Y = dados['Y']\n",
    "X = sm.add_constant(dados['X'])"
   ]
  },
  {
   "cell_type": "markdown",
   "metadata": {
    "colab_type": "text",
    "id": "Nv3vKKw1SANU"
   },
   "source": [
    "### Estimação do modelo de regressão linear simples:"
   ]
  },
  {
   "cell_type": "code",
   "execution_count": 13,
   "metadata": {
    "colab": {},
    "colab_type": "code",
    "id": "cClocJuhSANV"
   },
   "outputs": [],
   "source": [
    "regressao_cerveja = sm.OLS(Y,X).fit()"
   ]
  },
  {
   "cell_type": "markdown",
   "metadata": {
    "colab_type": "text",
    "id": "m_ZuWl06SANX"
   },
   "source": [
    "### Visualização do resultado da regressão:"
   ]
  },
  {
   "cell_type": "code",
   "execution_count": 14,
   "metadata": {
    "colab": {},
    "colab_type": "code",
    "id": "VqibulU4SANX"
   },
   "outputs": [
    {
     "name": "stdout",
     "output_type": "stream",
     "text": [
      "                            OLS Regression Results                            \n",
      "==============================================================================\n",
      "Dep. Variable:                      Y   R-squared:                       0.330\n",
      "Model:                            OLS   Adj. R-squared:                  0.328\n",
      "Method:                 Least Squares   F-statistic:                     178.9\n",
      "Date:                Tue, 14 Sep 2021   Prob (F-statistic):           1.87e-33\n",
      "Time:                        14:54:17   Log-Likelihood:                -3506.3\n",
      "No. Observations:                 365   AIC:                             7017.\n",
      "Df Residuals:                     363   BIC:                             7024.\n",
      "Df Model:                           1                                         \n",
      "Covariance Type:            nonrobust                                         \n",
      "==============================================================================\n",
      "                 coef    std err          t      P>|t|      [0.025      0.975]\n",
      "------------------------------------------------------------------------------\n",
      "const       8528.9073   1275.363      6.687      0.000    6020.880     1.1e+04\n",
      "X            794.8825     59.423     13.377      0.000     678.027     911.738\n",
      "==============================================================================\n",
      "Omnibus:                       11.300   Durbin-Watson:                   1.623\n",
      "Prob(Omnibus):                  0.004   Jarque-Bera (JB):                9.673\n",
      "Skew:                           0.324   Prob(JB):                      0.00793\n",
      "Kurtosis:                       2.534   Cond. No.                         145.\n",
      "==============================================================================\n",
      "\n",
      "Notes:\n",
      "[1] Standard Errors assume that the covariance matrix of the errors is correctly specified.\n"
     ]
    }
   ],
   "source": [
    "print(regressao_cerveja.summary())"
   ]
  },
  {
   "cell_type": "markdown",
   "metadata": {
    "colab_type": "text",
    "id": "a0am29ySSANZ"
   },
   "source": [
    "### Adicionando a coluna '$Y$_previsto':"
   ]
  },
  {
   "cell_type": "code",
   "execution_count": 15,
   "metadata": {
    "colab": {},
    "colab_type": "code",
    "id": "UY1SAjYvSANa",
    "scrolled": true
   },
   "outputs": [
    {
     "data": {
      "text/html": [
       "<div>\n",
       "<style scoped>\n",
       "    .dataframe tbody tr th:only-of-type {\n",
       "        vertical-align: middle;\n",
       "    }\n",
       "\n",
       "    .dataframe tbody tr th {\n",
       "        vertical-align: top;\n",
       "    }\n",
       "\n",
       "    .dataframe thead th {\n",
       "        text-align: right;\n",
       "    }\n",
       "</style>\n",
       "<table border=\"1\" class=\"dataframe\">\n",
       "  <thead>\n",
       "    <tr style=\"text-align: right;\">\n",
       "      <th></th>\n",
       "      <th>Y</th>\n",
       "      <th>X</th>\n",
       "      <th>Y_previsto</th>\n",
       "    </tr>\n",
       "  </thead>\n",
       "  <tbody>\n",
       "    <tr>\n",
       "      <th>0</th>\n",
       "      <td>25461</td>\n",
       "      <td>27.30</td>\n",
       "      <td>30229.200544</td>\n",
       "    </tr>\n",
       "    <tr>\n",
       "      <th>1</th>\n",
       "      <td>28972</td>\n",
       "      <td>27.02</td>\n",
       "      <td>30006.633434</td>\n",
       "    </tr>\n",
       "    <tr>\n",
       "      <th>2</th>\n",
       "      <td>30814</td>\n",
       "      <td>24.82</td>\n",
       "      <td>28257.891852</td>\n",
       "    </tr>\n",
       "    <tr>\n",
       "      <th>3</th>\n",
       "      <td>29799</td>\n",
       "      <td>23.98</td>\n",
       "      <td>27590.190521</td>\n",
       "    </tr>\n",
       "    <tr>\n",
       "      <th>4</th>\n",
       "      <td>28900</td>\n",
       "      <td>23.82</td>\n",
       "      <td>27463.009315</td>\n",
       "    </tr>\n",
       "  </tbody>\n",
       "</table>\n",
       "</div>"
      ],
      "text/plain": [
       "       Y      X    Y_previsto\n",
       "0  25461  27.30  30229.200544\n",
       "1  28972  27.02  30006.633434\n",
       "2  30814  24.82  28257.891852\n",
       "3  29799  23.98  27590.190521\n",
       "4  28900  23.82  27463.009315"
      ]
     },
     "execution_count": 15,
     "metadata": {},
     "output_type": "execute_result"
    }
   ],
   "source": [
    "# Fazendo a previsão de valores já conhecidos:\n",
    "\n",
    "dados['Y_previsto'] = regressao_cerveja.predict()\n",
    "dados.head()"
   ]
  },
  {
   "cell_type": "markdown",
   "metadata": {
    "colab_type": "text",
    "id": "fjTiK_79SANc"
   },
   "source": [
    "### Utilizando o modelo estimado para fazer previsões.\n",
    "### Qual seria o consumo de cerveja para um dia com temperatura média de 42° C?"
   ]
  },
  {
   "cell_type": "code",
   "execution_count": 19,
   "metadata": {
    "colab": {},
    "colab_type": "code",
    "id": "2GoPyfauSANc"
   },
   "outputs": [
    {
     "name": "stdout",
     "output_type": "stream",
     "text": [
      "A previsão de consumo de cerveja para um dia com temperaturas de 42°C é 41914.0 litros de cerveja.\n"
     ]
    }
   ],
   "source": [
    "previsao_42 = (regressao_cerveja.predict([1,42]))[0].round(0)\n",
    "print(f'A previsão de consumo de cerveja para um dia com temperaturas de 42°C é {previsao_42} litros de cerveja.')"
   ]
  },
  {
   "cell_type": "markdown",
   "metadata": {
    "colab_type": "text",
    "id": "ERs5LDWoSANf"
   },
   "source": [
    "### Obtendo os resíduos da regressão:"
   ]
  },
  {
   "cell_type": "code",
   "execution_count": 20,
   "metadata": {
    "colab": {},
    "colab_type": "code",
    "id": "5Mfi4sFBSANg"
   },
   "outputs": [
    {
     "data": {
      "text/html": [
       "<div>\n",
       "<style scoped>\n",
       "    .dataframe tbody tr th:only-of-type {\n",
       "        vertical-align: middle;\n",
       "    }\n",
       "\n",
       "    .dataframe tbody tr th {\n",
       "        vertical-align: top;\n",
       "    }\n",
       "\n",
       "    .dataframe thead th {\n",
       "        text-align: right;\n",
       "    }\n",
       "</style>\n",
       "<table border=\"1\" class=\"dataframe\">\n",
       "  <thead>\n",
       "    <tr style=\"text-align: right;\">\n",
       "      <th></th>\n",
       "      <th>Y</th>\n",
       "      <th>X</th>\n",
       "      <th>Y_previsto</th>\n",
       "      <th>Residuos</th>\n",
       "    </tr>\n",
       "  </thead>\n",
       "  <tbody>\n",
       "    <tr>\n",
       "      <th>0</th>\n",
       "      <td>25461</td>\n",
       "      <td>27.30</td>\n",
       "      <td>30229.200544</td>\n",
       "      <td>-4768.200544</td>\n",
       "    </tr>\n",
       "    <tr>\n",
       "      <th>1</th>\n",
       "      <td>28972</td>\n",
       "      <td>27.02</td>\n",
       "      <td>30006.633434</td>\n",
       "      <td>-1034.633434</td>\n",
       "    </tr>\n",
       "    <tr>\n",
       "      <th>2</th>\n",
       "      <td>30814</td>\n",
       "      <td>24.82</td>\n",
       "      <td>28257.891852</td>\n",
       "      <td>2556.108148</td>\n",
       "    </tr>\n",
       "    <tr>\n",
       "      <th>3</th>\n",
       "      <td>29799</td>\n",
       "      <td>23.98</td>\n",
       "      <td>27590.190521</td>\n",
       "      <td>2208.809479</td>\n",
       "    </tr>\n",
       "    <tr>\n",
       "      <th>4</th>\n",
       "      <td>28900</td>\n",
       "      <td>23.82</td>\n",
       "      <td>27463.009315</td>\n",
       "      <td>1436.990685</td>\n",
       "    </tr>\n",
       "  </tbody>\n",
       "</table>\n",
       "</div>"
      ],
      "text/plain": [
       "       Y      X    Y_previsto     Residuos\n",
       "0  25461  27.30  30229.200544 -4768.200544\n",
       "1  28972  27.02  30006.633434 -1034.633434\n",
       "2  30814  24.82  28257.891852  2556.108148\n",
       "3  29799  23.98  27590.190521  2208.809479\n",
       "4  28900  23.82  27463.009315  1436.990685"
      ]
     },
     "execution_count": 20,
     "metadata": {},
     "output_type": "execute_result"
    }
   ],
   "source": [
    "# Criando a coluna 'Resíduos':\n",
    "\n",
    "dados['Residuos'] = regressao_cerveja.resid\n",
    "dados.head()"
   ]
  },
  {
   "cell_type": "markdown",
   "metadata": {
    "colab_type": "text",
    "id": "2sl2LwpuSANk"
   },
   "source": [
    "### Plot do gráfico de dispersão dos resíduos da regressão contra o $Y$ previsto:"
   ]
  },
  {
   "cell_type": "code",
   "execution_count": 21,
   "metadata": {
    "colab": {},
    "colab_type": "code",
    "id": "FnlCBemoSANl"
   },
   "outputs": [
    {
     "data": {
      "text/plain": [
       "Text(0, 0.5, 'Resíduos')"
      ]
     },
     "execution_count": 21,
     "metadata": {},
     "output_type": "execute_result"
    },
    {
     "data": {
      "image/png": "[encoded data removed]",
      "text/plain": [
       "<Figure size 864x432 with 1 Axes>"
      ]
     },
     "metadata": {
      "needs_background": "light"
     },
     "output_type": "display_data"
    }
   ],
   "source": [
    "ax = sns.scatterplot(x = dados['Y_previsto'], y = dados['Residuos'])\n",
    "ax.figure.set_size_inches(12,6)\n",
    "ax.set_title('Resíduos x Y_previsto', fontsize = 18)\n",
    "ax.set_xlabel('Y_previsto', fontsize = 14)\n",
    "ax.set_ylabel('Resíduos', fontsize = 14)"
   ]
  },
  {
   "cell_type": "markdown",
   "metadata": {},
   "source": [
    "#### Os resíduos parecem estar dispostos de maneira aleatória, como esperado."
   ]
  },
  {
   "cell_type": "markdown",
   "metadata": {
    "colab_type": "text",
    "id": "Jg_WygGRSANq"
   },
   "source": [
    "### Obtenção o QQPlot dos resíduos:"
   ]
  },
  {
   "cell_type": "code",
   "execution_count": 22,
   "metadata": {
    "colab": {},
    "colab_type": "code",
    "id": "3ht5zkGRSANq"
   },
   "outputs": [
    {
     "data": {
      "image/png": "[encoded data removed]",
      "text/plain": [
       "<Figure size 432x288 with 1 Axes>"
      ]
     },
     "metadata": {
      "needs_background": "light"
     },
     "output_type": "display_data"
    }
   ],
   "source": [
    "(_,(_,_,_)) = probplot(dados['Residuos'], plot = plt)"
   ]
  },
  {
   "cell_type": "markdown",
   "metadata": {
    "colab_type": "text",
    "id": "R8BGdfv9ST7o"
   },
   "source": [
    "### Obtenção do R² da regressão pelo método da soma dos quadrados\n",
    "\n",
    "# $$R^2 = \\frac{SQR}{SQT}$$"
   ]
  },
  {
   "cell_type": "code",
   "execution_count": 23,
   "metadata": {
    "colab": {},
    "colab_type": "code",
    "id": "rgpCnrk6SANu"
   },
   "outputs": [
    {
     "data": {
      "text/plain": [
       "2325899486.7377872"
      ]
     },
     "execution_count": 23,
     "metadata": {},
     "output_type": "execute_result"
    }
   ],
   "source": [
    "# Calculando o SQR:\n",
    "\n",
    "SQR = dados['Y_previsto'].apply(lambda y: (y - dados['Y'].mean())**2).sum()\n",
    "SQR"
   ]
  },
  {
   "cell_type": "code",
   "execution_count": 24,
   "metadata": {
    "colab": {},
    "colab_type": "code",
    "id": "QkFSorjOSANv"
   },
   "outputs": [
    {
     "data": {
      "text/plain": [
       "7044294174.805479"
      ]
     },
     "execution_count": 24,
     "metadata": {},
     "output_type": "execute_result"
    }
   ],
   "source": [
    "# Calculando o SQT:\n",
    "\n",
    "SQT = dados['Y'].apply(lambda y: (y - dados['Y'].mean())**2).sum()\n",
    "SQT"
   ]
  },
  {
   "cell_type": "code",
   "execution_count": 25,
   "metadata": {
    "colab": {},
    "colab_type": "code",
    "id": "RdCgKCvnSANx"
   },
   "outputs": [
    {
     "data": {
      "text/plain": [
       "0.33018204933243217"
      ]
     },
     "execution_count": 25,
     "metadata": {},
     "output_type": "execute_result"
    }
   ],
   "source": [
    "# Calculando R2:\n",
    "\n",
    "R_2 = SQR/SQT\n",
    "R_2"
   ]
  },
  {
   "cell_type": "markdown",
   "metadata": {
    "colab": {},
    "colab_type": "code",
    "id": "YQRZl990SANy"
   },
   "source": [
    "### Obtenção do R² da regressão com o statsmodels:"
   ]
  },
  {
   "cell_type": "code",
   "execution_count": 26,
   "metadata": {
    "colab": {},
    "colab_type": "code",
    "id": "a9cmu8SuSAN0"
   },
   "outputs": [
    {
     "data": {
      "text/plain": [
       "0.330182049332432"
      ]
     },
     "execution_count": 26,
     "metadata": {},
     "output_type": "execute_result"
    }
   ],
   "source": [
    "# Calculando com o statsmodels:\n",
    "\n",
    "R_2 = regressao_cerveja.rsquared\n",
    "R_2"
   ]
  },
  {
   "cell_type": "markdown",
   "metadata": {},
   "source": [
    "#### Com esse estudo, é possível perceber que existe sim uma relação linear entre as duas variáveis consideradas. Essa relação é razoavelmente significativa e está apta a gerar modelos para previsões aproximadas."
   ]
  },
  {
   "cell_type": "markdown",
   "metadata": {
    "colab": {},
    "colab_type": "code",
    "id": "og2SkKrQSAN1"
   },
   "source": [
    "#### Esta análise preliminar teve o intuito de praticar conceitos de Regressões Lineares."
   ]
  }
 ],
 "metadata": {
  "colab": {
   "name": "Correlação_e_Regressão.ipynb",
   "provenance": [],
   "version": "0.3.2"
  },
  "kernelspec": {
   "display_name": "Python 3",
   "language": "python",
   "name": "python3"
  },
  "language_info": {
   "codemirror_mode": {
    "name": "ipython",
    "version": 3
   },
   "file_extension": ".py",
   "mimetype": "text/x-python",
   "name": "python",
   "nbconvert_exporter": "python",
   "pygments_lexer": "ipython3",
   "version": "3.9.1"
  }
 },
 "nbformat": 4,
 "nbformat_minor": 4
}
